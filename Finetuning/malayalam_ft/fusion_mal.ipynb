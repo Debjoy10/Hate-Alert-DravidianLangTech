{
 "cells": [
  {
   "cell_type": "code",
   "execution_count": 2,
   "metadata": {},
   "outputs": [],
   "source": [
    "import pandas as pd\n",
    "import numpy as np"
   ]
  },
  {
   "cell_type": "code",
   "execution_count": 3,
   "metadata": {},
   "outputs": [],
   "source": [
    "# Reading CSV from link\n",
    "def read_csv_from_link(url):\n",
    "    path = 'https://drive.google.com/uc?export=download&id='+url.split('/')[-2]\n",
    "    df = pd.read_csv(path,delimiter=\"\\t\",error_bad_lines=False, header=None)\n",
    "    return df"
   ]
  },
  {
   "cell_type": "code",
   "execution_count": 4,
   "metadata": {},
   "outputs": [],
   "source": [
    "# Loading All Data\n",
    "malayalam_train = read_csv_from_link('https://drive.google.com/file/d/13JCCr-IjZK7uhbLXeufptr_AxvsKinVl/view?usp=sharing')\n",
    "malayalam_dev = read_csv_from_link('https://drive.google.com/file/d/1J0msLpLoM6gmXkjC6DFeQ8CG_rrLvjnM/view?usp=sharing')\n",
    "malayalam_test = read_csv_from_link('https://drive.google.com/file/d/1waRFe4yTG8TMkMruICaavd9JH0xiO_rb/view?usp=sharing')"
   ]
  },
  {
   "cell_type": "code",
   "execution_count": 5,
   "metadata": {},
   "outputs": [],
   "source": [
    "# Tamil Preprocess\n",
    "malayalam_train = malayalam_train.iloc[:, 0:2]\n",
    "malayalam_train = malayalam_train.rename(columns={0: \"text\", 1: \"label\"})\n",
    "\n",
    "malayalam_dev = malayalam_dev.iloc[:, 0:2]\n",
    "malayalam_dev = malayalam_dev.rename(columns={0: \"text\", 1: \"label\"})\n",
    "\n",
    "malayalam_test = malayalam_test.iloc[:, 0:1]\n",
    "malayalam_test = malayalam_test.rename(columns={0: \"text\"})\n",
    "\n",
    "# Stats\n",
    "malayalam_train['label'] = pd.Categorical(malayalam_train.label)\n",
    "malayalam_dev['label'] = pd.Categorical(malayalam_dev.label)"
   ]
  },
  {
   "cell_type": "markdown",
   "metadata": {},
   "source": [
    "### Load Model"
   ]
  },
  {
   "cell_type": "code",
   "execution_count": 6,
   "metadata": {},
   "outputs": [],
   "source": [
    "import torch"
   ]
  },
  {
   "cell_type": "code",
   "execution_count": 7,
   "metadata": {},
   "outputs": [
    {
     "name": "stdout",
     "output_type": "stream",
     "text": [
      "GPU Nos: 2\n",
      "Tesla P100-PCIE-12GB\n",
      "Tesla P100-PCIE-16GB\n"
     ]
    }
   ],
   "source": [
    "print(\"GPU Nos: {}\".format(torch.cuda.device_count()))\n",
    "print(torch.cuda.get_device_name(0))\n",
    "print(torch.cuda.get_device_name(1))\n",
    "\n",
    "# Change Device - CPU/GPU-0/GPU-1\n",
    "torch.cuda.set_device(0)\n",
    "device = 'cuda'\n",
    "device = device if torch.cuda.is_available() else 'cpu'"
   ]
  },
  {
   "cell_type": "markdown",
   "metadata": {},
   "source": [
    "## Enter Path of Saved model here in torch.load()"
   ]
  },
  {
   "cell_type": "code",
   "execution_count": 8,
   "metadata": {},
   "outputs": [
    {
     "data": {
      "text/plain": [
       "['XLMroberta_large_Malayalam',\n",
       " 'Mbert_base_cased_Malayalam',\n",
       " 'Distilbert_m_base_cased_Malayalam',\n",
       " 'XLMroberta_base_Malayalam',\n",
       " 'Indic_bert_Malayalam',\n",
       " 'Indic_bert_Malayalam_weighted',\n",
       " 'XLMroberta_base_Malayalam_weighted',\n",
       " 'XLMroberta_large_Malayalam_weighted',\n",
       " 'XLMroberta_custom_pretrained_Malayalam',\n",
       " 'Distilbert_m_base_cased_Malayalam_weighted',\n",
       " 'MURIL_cased_temp_Malayalam_weighted',\n",
       " 'XLMroberta_custom_pretrained_Malayalam_weighted',\n",
       " 'Mbert_base_cased_Malayalam_weighted',\n",
       " 'MURIL_cased_temp_Malayalam']"
      ]
     },
     "execution_count": 8,
     "metadata": {},
     "output_type": "execute_result"
    }
   ],
   "source": [
    "# Model Select\n",
    "import os\n",
    "\n",
    "from os import listdir\n",
    "from os.path import isfile, join\n",
    "[x for x in listdir('../../finetuned_berts/') if 'Malayalam' in x]"
   ]
  },
  {
   "cell_type": "code",
   "execution_count": 9,
   "metadata": {},
   "outputs": [],
   "source": [
    "models = []\n",
    "tokenizers = []"
   ]
  },
  {
   "cell_type": "code",
   "execution_count": 10,
   "metadata": {},
   "outputs": [
    {
     "name": "stderr",
     "output_type": "stream",
     "text": [
      "Some weights of XLMRobertaModel were not initialized from the model checkpoint at ../../finetuned_berts/XLMroberta_base_Malayalam and are newly initialized: ['roberta.pooler.dense.weight', 'roberta.pooler.dense.bias']\n",
      "You should probably TRAIN this model on a down-stream task to be able to use it for predictions and inference.\n"
     ]
    }
   ],
   "source": [
    "from transformers import AutoTokenizer, AutoModel, BertTokenizer, XLMRobertaTokenizer\n",
    "\n",
    "model_names = [\n",
    "    'XLMroberta_base_Malayalam',\n",
    "    'Mbert_base_cased_Malayalam',\n",
    "]\n",
    "tokenizers = [\n",
    "    XLMRobertaTokenizer.from_pretrained('xlm-roberta-base'),\n",
    "    BertTokenizer.from_pretrained('bert-base-multilingual-cased'),\n",
    "]\n",
    "\n",
    "for name in model_names:\n",
    "    model = AutoModel.from_pretrained(os.path.join('../../finetuned_berts/', name))\n",
    "    model.eval()\n",
    "    models.append(model)"
   ]
  },
  {
   "cell_type": "code",
   "execution_count": null,
   "metadata": {},
   "outputs": [],
   "source": [
    "# Dimension of BERT-ONLY fusion"
   ]
  },
  {
   "cell_type": "code",
   "execution_count": 11,
   "metadata": {},
   "outputs": [
    {
     "data": {
      "text/plain": [
       "1536"
      ]
     },
     "execution_count": 11,
     "metadata": {},
     "output_type": "execute_result"
    }
   ],
   "source": [
    "lin_dim = np.sum([1024 if 'large' in name else 768 for name in model_names])\n",
    "lin_dim"
   ]
  },
  {
   "cell_type": "code",
   "execution_count": 12,
   "metadata": {},
   "outputs": [],
   "source": [
    "n_models = len(models)"
   ]
  },
  {
   "cell_type": "code",
   "execution_count": 13,
   "metadata": {},
   "outputs": [],
   "source": [
    "for model in models:\n",
    "    for param in model.parameters():\n",
    "        param.requires_grad = False"
   ]
  },
  {
   "cell_type": "markdown",
   "metadata": {},
   "source": [
    "### Dataset Stuff"
   ]
  },
  {
   "cell_type": "code",
   "execution_count": 14,
   "metadata": {},
   "outputs": [],
   "source": [
    "label_mapping = {\n",
    "    'Not_offensive': 0, \n",
    "    'not-malayalam': 1, \n",
    "    'Offensive_Targeted_Insult_Group': 2, \n",
    "    'Offensive_Untargetede': 3, \n",
    "    'Offensive_Targeted_Insult_Individual': 4\n",
    "}\n",
    "\n",
    "# Collecting Text and Labels\n",
    "train_batch_sentences = list(malayalam_train['text'])\n",
    "train_batch_labels =  [label_mapping[x] for x in malayalam_train['label']]\n",
    "dev_batch_sentences = list(malayalam_dev['text'])\n",
    "dev_batch_labels =  [label_mapping[x] for x in malayalam_dev['label']]\n",
    "test_batch_sentences = list(malayalam_test['text'])\n",
    "\n",
    "# Convert to Tensor\n",
    "train_encodings = [tokenizer(train_batch_sentences, padding='max_length', truncation=True, max_length=64, return_tensors=\"pt\") for tokenizer in tokenizers]\n",
    "train_labels = torch.tensor(train_batch_labels)\n",
    "dev_encodings = [tokenizer(dev_batch_sentences, padding='max_length', truncation=True, max_length=64, return_tensors=\"pt\") for tokenizer in tokenizers]\n",
    "dev_labels = torch.tensor(dev_batch_labels)\n",
    "test_encodings = [tokenizer(test_batch_sentences, padding='max_length', truncation=True, max_length=64, return_tensors=\"pt\") for tokenizer in tokenizers]"
   ]
  },
  {
   "cell_type": "code",
   "execution_count": 15,
   "metadata": {},
   "outputs": [],
   "source": [
    "# Dataset\n",
    "from torch.utils.data import Dataset\n",
    "\n",
    "class malayalam_Offensive_Dataset(Dataset):\n",
    "    def __init__(self, encodings, labels = None):\n",
    "        self.encodings = encodings\n",
    "        self.labels = labels\n",
    "        self.n_models = len(encodings)\n",
    "\n",
    "    def __getitem__(self, idx):\n",
    "        item = {}\n",
    "        for i in range(self.n_models):\n",
    "            item.update({key+'_'+str(i): torch.tensor(val[idx]) for key, val in self.encodings[i].items()})\n",
    "        item['index'] = idx\n",
    "        if self.labels != None:\n",
    "            item['labels'] = torch.tensor(self.labels[idx])\n",
    "        else:\n",
    "            item['labels'] = torch.tensor(1)\n",
    "        return item\n",
    "\n",
    "    def __len__(self):\n",
    "        return len(self.encodings[0]['input_ids'])\n",
    "\n",
    "# Defining Datasets\n",
    "train_dataset = malayalam_Offensive_Dataset(train_encodings, train_labels)\n",
    "dev_dataset = malayalam_Offensive_Dataset(dev_encodings, dev_labels)\n",
    "test_dataset = malayalam_Offensive_Dataset(test_encodings)"
   ]
  },
  {
   "cell_type": "markdown",
   "metadata": {},
   "source": [
    "#### FUSION MODEL"
   ]
  },
  {
   "cell_type": "code",
   "execution_count": 16,
   "metadata": {},
   "outputs": [],
   "source": [
    "import torch.nn.functional as F\n",
    "import torch.nn as nn\n",
    "\n",
    "# Basic Fully-Connected (Linear => BatchNorm => ReLU)\n",
    "class BasicFC(nn.Module):\n",
    "    def __init__(self, in_channels, out_channels, **kwargs):\n",
    "        super(BasicFC, self).__init__()\n",
    "        self.fc = nn.Linear(in_channels, out_channels, **kwargs)\n",
    "        self.bn = nn.BatchNorm1d(out_channels, eps=0.001)\n",
    "\n",
    "    def forward(self, x):\n",
    "        x = self.fc(x)\n",
    "        x = self.bn(x)\n",
    "        return F.relu(x, inplace=True)\n",
    "\n",
    "class FusionNet(torch.nn.Module):\n",
    "    def __init__(self, D_in, H1, H2, H3, D_out):\n",
    "        super(FusionNet, self).__init__()\n",
    "        self.linear1_1 = BasicFC(D_in, H1)\n",
    "        self.linear1_2 = BasicFC(H1, H2)\n",
    "        self.linear1_3 = BasicFC(H2, H3)\n",
    "        self.dp = nn.Dropout(0.1)\n",
    "        self.linear2 = torch.nn.Linear(H3, D_out, bias = False)\n",
    "\n",
    "    def forward(self, x):\n",
    "        h_relu_1 = self.linear1_1(x)\n",
    "        h_relu_2 = self.dp(self.linear1_2(h_relu_1))\n",
    "        h_relu_3 = self.dp(self.linear1_3(h_relu_2))\n",
    "        y_pred = self.linear2(h_relu_3)\n",
    "        return y_pred"
   ]
  },
  {
   "cell_type": "code",
   "execution_count": 17,
   "metadata": {},
   "outputs": [],
   "source": [
    "# Optimiser\n",
    "from transformers import AdamW"
   ]
  },
  {
   "cell_type": "code",
   "execution_count": 18,
   "metadata": {},
   "outputs": [],
   "source": [
    "## Loss Fn\n",
    "XE_loss_function = nn.CrossEntropyLoss(reduction='mean').float()"
   ]
  },
  {
   "cell_type": "code",
   "execution_count": 19,
   "metadata": {},
   "outputs": [],
   "source": [
    "class F1_Loss(nn.Module):\n",
    "    '''Calculate F1 score. Can work with gpu tensors\n",
    "    \n",
    "    The original implmentation is written by Michal Haltuf on Kaggle.\n",
    "    \n",
    "    Returns\n",
    "    -------\n",
    "    torch.Tensor\n",
    "        `ndim` == 1. epsilon <= val <= 1\n",
    "    \n",
    "    Reference\n",
    "    ---------\n",
    "    - https://www.kaggle.com/rejpalcz/best-loss-function-for-f1-score-metric\n",
    "    - https://scikit-learn.org/stable/modules/generated/sklearn.metrics.f1_score.html#sklearn.metrics.f1_score\n",
    "    - https://discuss.pytorch.org/t/calculating-precision-recall-and-f1-score-in-case-of-multi-label-classification/28265/6\n",
    "    - http://www.ryanzhang.info/python/writing-your-own-loss-function-module-for-pytorch/\n",
    "    '''\n",
    "    def __init__(self, epsilon=1e-7, n_labels = 6):\n",
    "        super().__init__()\n",
    "        self.epsilon = epsilon\n",
    "        self.n_labels = n_labels\n",
    "        \n",
    "    def forward(self, y_pred, y_true,):\n",
    "        assert y_pred.ndim == 2\n",
    "        assert y_true.ndim == 1\n",
    "        y_true = F.one_hot(y_true, self.n_labels).to(torch.float32)\n",
    "        y_pred = F.softmax(y_pred, dim=1)\n",
    "        \n",
    "        tp = (y_true * y_pred).sum(dim=0).to(torch.float32)\n",
    "        tn = ((1 - y_true) * (1 - y_pred)).sum(dim=0).to(torch.float32)\n",
    "        fp = ((1 - y_true) * y_pred).sum(dim=0).to(torch.float32)\n",
    "        fn = (y_true * (1 - y_pred)).sum(dim=0).to(torch.float32)\n",
    "\n",
    "        precision = tp / (tp + fp + self.epsilon)\n",
    "        recall = tp / (tp + fn + self.epsilon)\n",
    "\n",
    "        f1 = 2* (precision*recall) / (precision + recall + self.epsilon)\n",
    "        f1 = f1.clamp(min=self.epsilon, max=1-self.epsilon)\n",
    "        return 1 - f1.mean()\n",
    "\n",
    "F1_loss_function = F1_Loss(n_labels = 5).cuda()"
   ]
  },
  {
   "cell_type": "code",
   "execution_count": 20,
   "metadata": {},
   "outputs": [],
   "source": [
    "use_f1_loss = False\n",
    "if use_f1_loss:\n",
    "    loss_function = F1_loss_function\n",
    "else:\n",
    "    loss_function = XE_loss_function"
   ]
  },
  {
   "cell_type": "code",
   "execution_count": 21,
   "metadata": {},
   "outputs": [],
   "source": [
    "add_extra_embeds = [\n",
    "    'cnn_128',\n",
    "    #'sentbert',\n",
    "    #'laser_ta',\n",
    "    #'laser_en',\n",
    "]\n",
    "\n",
    "embeds_files = {\n",
    "    'cnn_128': ['../../sentence_embeddings/cnn_emb_train_128_malayalam.npy', '../../sentence_embeddings/cnn_emb_dev_128_malayalam.npy', '../../sentence_embeddings/cnn_emb_test_128_malayalam.npy'],\n",
    "    'laser_ta': ['../../sentence_embeddings/LASER_embeddings_malayalam_ml_train.npy', '../../sentence_embeddings/LASER_embeddings_malayalam_ml_dev.npy'],\n",
    "    'laser_en': ['../../sentence_embeddings/LASER_embeddings_malayalam_en_train.npy', '../../sentence_embeddings/LASER_embeddings_malayalam_en_dev.npy'],\n",
    "    'sentbert': ['../../sentence_embeddings/sentence_bert_malayalam_train.npy', '../../sentence_embeddings/sentence_bert_malayalam_dev.npy'],\n",
    "}\n",
    "\n",
    "train_embeddings = [np.load(embeds_files[embname][0]) for embname in add_extra_embeds]\n",
    "dev_embeddings = [np.load(embeds_files[embname][1]) for embname in add_extra_embeds]\n",
    "test_embeddings = [np.load(embeds_files[embname][2]) for embname in add_extra_embeds]"
   ]
  },
  {
   "cell_type": "code",
   "execution_count": 22,
   "metadata": {},
   "outputs": [
    {
     "data": {
      "text/plain": [
       "1"
      ]
     },
     "execution_count": 22,
     "metadata": {},
     "output_type": "execute_result"
    }
   ],
   "source": [
    "len_extra_embeds = len(add_extra_embeds)\n",
    "len_extra_embeds"
   ]
  },
  {
   "cell_type": "code",
   "execution_count": 23,
   "metadata": {},
   "outputs": [
    {
     "data": {
      "text/plain": [
       "128"
      ]
     },
     "execution_count": 23,
     "metadata": {},
     "output_type": "execute_result"
    }
   ],
   "source": [
    "dim_extra_embeds = np.sum([train_embeddings[i].shape[1] for i in range(len_extra_embeds)])\n",
    "dim_extra_embeds"
   ]
  },
  {
   "cell_type": "code",
   "execution_count": 1,
   "metadata": {},
   "outputs": [],
   "source": [
    "# Final Input embeddings dimensions"
   ]
  },
  {
   "cell_type": "code",
   "execution_count": 24,
   "metadata": {
    "scrolled": true
   },
   "outputs": [
    {
     "name": "stdout",
     "output_type": "stream",
     "text": [
      "1664\n"
     ]
    }
   ],
   "source": [
    "print(lin_dim + dim_extra_embeds)"
   ]
  },
  {
   "cell_type": "markdown",
   "metadata": {},
   "source": [
    "### Train"
   ]
  },
  {
   "cell_type": "code",
   "execution_count": 25,
   "metadata": {
    "collapsed": true
   },
   "outputs": [
    {
     "name": "stdout",
     "output_type": "stream",
     "text": [
      "==========================================================\n",
      "Epoch 0\n",
      "Train\n"
     ]
    },
    {
     "data": {
      "application/vnd.jupyter.widget-view+json": {
       "model_id": "480c87c47fc74e5780516b5ed16563e8",
       "version_major": 2,
       "version_minor": 0
      },
      "text/plain": [
       "HBox(children=(HTML(value=''), FloatProgress(value=0.0, max=1001.0), HTML(value='')))"
      ]
     },
     "metadata": {},
     "output_type": "display_data"
    },
    {
     "name": "stderr",
     "output_type": "stream",
     "text": [
      "/home/punyajoy/.conda/envs/nlp/lib/python3.7/site-packages/ipykernel_launcher.py:13: UserWarning: To copy construct from a tensor, it is recommended to use sourceTensor.clone().detach() or sourceTensor.clone().detach().requires_grad_(True), rather than torch.tensor(sourceTensor).\n",
      "  del sys.path[0]\n",
      "/home/punyajoy/.conda/envs/nlp/lib/python3.7/site-packages/ipykernel_launcher.py:16: UserWarning: To copy construct from a tensor, it is recommended to use sourceTensor.clone().detach() or sourceTensor.clone().detach().requires_grad_(True), rather than torch.tensor(sourceTensor).\n",
      "  app.launch_new_instance()\n"
     ]
    },
    {
     "name": "stdout",
     "output_type": "stream",
     "text": [
      "\n",
      "Dev\n"
     ]
    },
    {
     "data": {
      "application/vnd.jupyter.widget-view+json": {
       "model_id": "30bedfc0c0694c18a9e1e2b6e5c2f530",
       "version_major": 2,
       "version_minor": 0
      },
      "text/plain": [
       "HBox(children=(HTML(value=''), FloatProgress(value=0.0, max=125.0), HTML(value='')))"
      ]
     },
     "metadata": {},
     "output_type": "display_data"
    },
    {
     "name": "stdout",
     "output_type": "stream",
     "text": [
      "\n",
      "                                      precision    recall  f1-score   support\n",
      "\n",
      "                       Not_offensive       0.98      0.98      0.98      1779\n",
      "                       not-malayalam       0.88      0.93      0.90       163\n",
      "     Offensive_Targeted_Insult_Group       0.82      0.69      0.75        13\n",
      "               Offensive_Untargetede       0.57      0.65      0.60        20\n",
      "Offensive_Targeted_Insult_Individual       0.86      0.50      0.63        24\n",
      "\n",
      "                            accuracy                           0.97      1999\n",
      "                           macro avg       0.82      0.75      0.77      1999\n",
      "                        weighted avg       0.97      0.97      0.97      1999\n",
      "\n",
      "Epoch 0, Val Loss = 0.7450550622940062, Val F1 = 0.7744316339493207, Best Val f1 = 0.7744316339493207, stagnant_t = 0\n",
      "==========================================================\n",
      "Epoch 1\n",
      "Train\n"
     ]
    },
    {
     "data": {
      "application/vnd.jupyter.widget-view+json": {
       "model_id": "11a83fb194004083a471000cd2604909",
       "version_major": 2,
       "version_minor": 0
      },
      "text/plain": [
       "HBox(children=(HTML(value=''), FloatProgress(value=0.0, max=1001.0), HTML(value='')))"
      ]
     },
     "metadata": {},
     "output_type": "display_data"
    },
    {
     "name": "stdout",
     "output_type": "stream",
     "text": [
      "\n",
      "Dev\n"
     ]
    },
    {
     "data": {
      "application/vnd.jupyter.widget-view+json": {
       "model_id": "c4cd7391d157473ea6b9f229ca30eaa4",
       "version_major": 2,
       "version_minor": 0
      },
      "text/plain": [
       "HBox(children=(HTML(value=''), FloatProgress(value=0.0, max=125.0), HTML(value='')))"
      ]
     },
     "metadata": {},
     "output_type": "display_data"
    },
    {
     "name": "stdout",
     "output_type": "stream",
     "text": [
      "\n",
      "                                      precision    recall  f1-score   support\n",
      "\n",
      "                       Not_offensive       0.98      0.98      0.98      1779\n",
      "                       not-malayalam       0.89      0.93      0.91       163\n",
      "     Offensive_Targeted_Insult_Group       0.75      0.69      0.72        13\n",
      "               Offensive_Untargetede       0.59      0.65      0.62        20\n",
      "Offensive_Targeted_Insult_Individual       0.86      0.50      0.63        24\n",
      "\n",
      "                            accuracy                           0.97      1999\n",
      "                           macro avg       0.81      0.75      0.77      1999\n",
      "                        weighted avg       0.97      0.97      0.97      1999\n",
      "\n",
      "Epoch 1, Val Loss = 0.6091364054679873, Val F1 = 0.7725146921973481, Best Val f1 = 0.7744316339493207, stagnant_t = 1\n",
      "==========================================================\n",
      "Epoch 2\n",
      "Train\n"
     ]
    },
    {
     "data": {
      "application/vnd.jupyter.widget-view+json": {
       "model_id": "3fecb586eb69409887507fd851c4434b",
       "version_major": 2,
       "version_minor": 0
      },
      "text/plain": [
       "HBox(children=(HTML(value=''), FloatProgress(value=0.0, max=1001.0), HTML(value='')))"
      ]
     },
     "metadata": {},
     "output_type": "display_data"
    },
    {
     "name": "stdout",
     "output_type": "stream",
     "text": [
      "\n",
      "Dev\n"
     ]
    },
    {
     "data": {
      "application/vnd.jupyter.widget-view+json": {
       "model_id": "b138fbcc2da74a03a77312677de0ab57",
       "version_major": 2,
       "version_minor": 0
      },
      "text/plain": [
       "HBox(children=(HTML(value=''), FloatProgress(value=0.0, max=125.0), HTML(value='')))"
      ]
     },
     "metadata": {},
     "output_type": "display_data"
    },
    {
     "name": "stdout",
     "output_type": "stream",
     "text": [
      "\n",
      "                                      precision    recall  f1-score   support\n",
      "\n",
      "                       Not_offensive       0.98      0.98      0.98      1779\n",
      "                       not-malayalam       0.89      0.93      0.91       163\n",
      "     Offensive_Targeted_Insult_Group       0.75      0.69      0.72        13\n",
      "               Offensive_Untargetede       0.68      0.65      0.67        20\n",
      "Offensive_Targeted_Insult_Individual       0.87      0.54      0.67        24\n",
      "\n",
      "                            accuracy                           0.97      1999\n",
      "                           macro avg       0.84      0.76      0.79      1999\n",
      "                        weighted avg       0.97      0.97      0.97      1999\n",
      "\n",
      "Epoch 2, Val Loss = 0.4817631778717041, Val F1 = 0.7891702966792795, Best Val f1 = 0.7891702966792795, stagnant_t = 0\n",
      "==========================================================\n",
      "Epoch 3\n",
      "Train\n"
     ]
    },
    {
     "data": {
      "application/vnd.jupyter.widget-view+json": {
       "model_id": "7f3478a701ac4feb87266ab37addb785",
       "version_major": 2,
       "version_minor": 0
      },
      "text/plain": [
       "HBox(children=(HTML(value=''), FloatProgress(value=0.0, max=1001.0), HTML(value='')))"
      ]
     },
     "metadata": {},
     "output_type": "display_data"
    },
    {
     "name": "stdout",
     "output_type": "stream",
     "text": [
      "\n",
      "Dev\n"
     ]
    },
    {
     "data": {
      "application/vnd.jupyter.widget-view+json": {
       "model_id": "db6def07e3324b419068cdd89a8ffa3f",
       "version_major": 2,
       "version_minor": 0
      },
      "text/plain": [
       "HBox(children=(HTML(value=''), FloatProgress(value=0.0, max=125.0), HTML(value='')))"
      ]
     },
     "metadata": {},
     "output_type": "display_data"
    },
    {
     "name": "stdout",
     "output_type": "stream",
     "text": [
      "\n",
      "                                      precision    recall  f1-score   support\n",
      "\n",
      "                       Not_offensive       0.98      0.99      0.98      1779\n",
      "                       not-malayalam       0.90      0.92      0.91       163\n",
      "     Offensive_Targeted_Insult_Group       0.75      0.69      0.72        13\n",
      "               Offensive_Untargetede       0.65      0.65      0.65        20\n",
      "Offensive_Targeted_Insult_Individual       0.92      0.50      0.65        24\n",
      "\n",
      "                            accuracy                           0.97      1999\n",
      "                           macro avg       0.84      0.75      0.78      1999\n",
      "                        weighted avg       0.97      0.97      0.97      1999\n",
      "\n",
      "Epoch 3, Val Loss = 0.37348378014564504, Val F1 = 0.7827924483518849, Best Val f1 = 0.7891702966792795, stagnant_t = 1\n",
      "==========================================================\n",
      "Epoch 4\n",
      "Train\n"
     ]
    },
    {
     "data": {
      "application/vnd.jupyter.widget-view+json": {
       "model_id": "0df11465873f401b88ca82d6b47b9948",
       "version_major": 2,
       "version_minor": 0
      },
      "text/plain": [
       "HBox(children=(HTML(value=''), FloatProgress(value=0.0, max=1001.0), HTML(value='')))"
      ]
     },
     "metadata": {},
     "output_type": "display_data"
    },
    {
     "name": "stdout",
     "output_type": "stream",
     "text": [
      "\n",
      "Dev\n"
     ]
    },
    {
     "data": {
      "application/vnd.jupyter.widget-view+json": {
       "model_id": "44e07272438b4e709c506f14d05b243d",
       "version_major": 2,
       "version_minor": 0
      },
      "text/plain": [
       "HBox(children=(HTML(value=''), FloatProgress(value=0.0, max=125.0), HTML(value='')))"
      ]
     },
     "metadata": {},
     "output_type": "display_data"
    },
    {
     "name": "stdout",
     "output_type": "stream",
     "text": [
      "\n",
      "                                      precision    recall  f1-score   support\n",
      "\n",
      "                       Not_offensive       0.98      0.99      0.98      1779\n",
      "                       not-malayalam       0.91      0.90      0.90       163\n",
      "     Offensive_Targeted_Insult_Group       0.75      0.69      0.72        13\n",
      "               Offensive_Untargetede       0.72      0.65      0.68        20\n",
      "Offensive_Targeted_Insult_Individual       0.92      0.50      0.65        24\n",
      "\n",
      "                            accuracy                           0.97      1999\n",
      "                           macro avg       0.86      0.75      0.79      1999\n",
      "                        weighted avg       0.97      0.97      0.97      1999\n",
      "\n",
      "Epoch 4, Val Loss = 0.2875426197052003, Val F1 = 0.7881923650365914, Best Val f1 = 0.7891702966792795, stagnant_t = 2\n",
      "==========================================================\n",
      "Epoch 5\n",
      "Train\n"
     ]
    },
    {
     "data": {
      "application/vnd.jupyter.widget-view+json": {
       "model_id": "473b353b1dea4a9c9d5de2e886a3367e",
       "version_major": 2,
       "version_minor": 0
      },
      "text/plain": [
       "HBox(children=(HTML(value=''), FloatProgress(value=0.0, max=1001.0), HTML(value='')))"
      ]
     },
     "metadata": {},
     "output_type": "display_data"
    },
    {
     "name": "stdout",
     "output_type": "stream",
     "text": [
      "\n",
      "Dev\n"
     ]
    },
    {
     "data": {
      "application/vnd.jupyter.widget-view+json": {
       "model_id": "df9e1261dfc54c27a07455fe3945ab5b",
       "version_major": 2,
       "version_minor": 0
      },
      "text/plain": [
       "HBox(children=(HTML(value=''), FloatProgress(value=0.0, max=125.0), HTML(value='')))"
      ]
     },
     "metadata": {},
     "output_type": "display_data"
    },
    {
     "name": "stdout",
     "output_type": "stream",
     "text": [
      "\n",
      "                                      precision    recall  f1-score   support\n",
      "\n",
      "                       Not_offensive       0.98      0.99      0.98      1779\n",
      "                       not-malayalam       0.90      0.92      0.91       163\n",
      "     Offensive_Targeted_Insult_Group       0.75      0.69      0.72        13\n",
      "               Offensive_Untargetede       0.76      0.65      0.70        20\n",
      "Offensive_Targeted_Insult_Individual       0.93      0.54      0.68        24\n",
      "\n",
      "                            accuracy                           0.97      1999\n",
      "                           macro avg       0.86      0.76      0.80      1999\n",
      "                        weighted avg       0.97      0.97      0.97      1999\n",
      "\n",
      "Epoch 5, Val Loss = 0.25788689845800383, Val F1 = 0.7999497065456469, Best Val f1 = 0.7999497065456469, stagnant_t = 0\n",
      "==========================================================\n",
      "Epoch 6\n",
      "Train\n"
     ]
    },
    {
     "data": {
      "application/vnd.jupyter.widget-view+json": {
       "model_id": "0682efa445a248e6bd36592a0a48610b",
       "version_major": 2,
       "version_minor": 0
      },
      "text/plain": [
       "HBox(children=(HTML(value=''), FloatProgress(value=0.0, max=1001.0), HTML(value='')))"
      ]
     },
     "metadata": {},
     "output_type": "display_data"
    },
    {
     "name": "stdout",
     "output_type": "stream",
     "text": [
      "\n",
      "Dev\n"
     ]
    },
    {
     "data": {
      "application/vnd.jupyter.widget-view+json": {
       "model_id": "ea155cebd128438d819ceb7c3c6f7fab",
       "version_major": 2,
       "version_minor": 0
      },
      "text/plain": [
       "HBox(children=(HTML(value=''), FloatProgress(value=0.0, max=125.0), HTML(value='')))"
      ]
     },
     "metadata": {},
     "output_type": "display_data"
    },
    {
     "name": "stdout",
     "output_type": "stream",
     "text": [
      "\n",
      "                                      precision    recall  f1-score   support\n",
      "\n",
      "                       Not_offensive       0.98      0.99      0.98      1779\n",
      "                       not-malayalam       0.91      0.90      0.90       163\n",
      "     Offensive_Targeted_Insult_Group       0.75      0.69      0.72        13\n",
      "               Offensive_Untargetede       0.81      0.65      0.72        20\n",
      "Offensive_Targeted_Insult_Individual       0.92      0.50      0.65        24\n",
      "\n",
      "                            accuracy                           0.97      1999\n",
      "                           macro avg       0.87      0.75      0.80      1999\n",
      "                        weighted avg       0.97      0.97      0.97      1999\n",
      "\n",
      "Epoch 6, Val Loss = 0.19504387134313592, Val F1 = 0.7950653830564345, Best Val f1 = 0.7999497065456469, stagnant_t = 1\n",
      "==========================================================\n",
      "Epoch 7\n",
      "Train\n"
     ]
    },
    {
     "data": {
      "application/vnd.jupyter.widget-view+json": {
       "model_id": "4e4b437c3eec494e87ef101d7063055c",
       "version_major": 2,
       "version_minor": 0
      },
      "text/plain": [
       "HBox(children=(HTML(value=''), FloatProgress(value=0.0, max=1001.0), HTML(value='')))"
      ]
     },
     "metadata": {},
     "output_type": "display_data"
    },
    {
     "name": "stdout",
     "output_type": "stream",
     "text": [
      "\n",
      "Dev\n"
     ]
    },
    {
     "data": {
      "application/vnd.jupyter.widget-view+json": {
       "model_id": "b7e30372e894440aaeb09efb0b862172",
       "version_major": 2,
       "version_minor": 0
      },
      "text/plain": [
       "HBox(children=(HTML(value=''), FloatProgress(value=0.0, max=125.0), HTML(value='')))"
      ]
     },
     "metadata": {},
     "output_type": "display_data"
    },
    {
     "name": "stdout",
     "output_type": "stream",
     "text": [
      "\n",
      "                                      precision    recall  f1-score   support\n",
      "\n",
      "                       Not_offensive       0.98      0.99      0.98      1779\n",
      "                       not-malayalam       0.90      0.91      0.91       163\n",
      "     Offensive_Targeted_Insult_Group       0.75      0.69      0.72        13\n",
      "               Offensive_Untargetede       0.76      0.65      0.70        20\n",
      "Offensive_Targeted_Insult_Individual       0.93      0.54      0.68        24\n",
      "\n",
      "                            accuracy                           0.97      1999\n",
      "                           macro avg       0.86      0.76      0.80      1999\n",
      "                        weighted avg       0.97      0.97      0.97      1999\n",
      "\n",
      "Epoch 7, Val Loss = 0.18574641901254652, Val F1 = 0.7992314127524576, Best Val f1 = 0.7999497065456469, stagnant_t = 2\n",
      "==========================================================\n",
      "Epoch 8\n",
      "Train\n"
     ]
    },
    {
     "data": {
      "application/vnd.jupyter.widget-view+json": {
       "model_id": "56520d279a354300be537b27fa41a047",
       "version_major": 2,
       "version_minor": 0
      },
      "text/plain": [
       "HBox(children=(HTML(value=''), FloatProgress(value=0.0, max=1001.0), HTML(value='')))"
      ]
     },
     "metadata": {},
     "output_type": "display_data"
    },
    {
     "name": "stdout",
     "output_type": "stream",
     "text": [
      "\n",
      "Dev\n"
     ]
    },
    {
     "data": {
      "application/vnd.jupyter.widget-view+json": {
       "model_id": "7e716b1aa57a45e1bd410cd0738e5805",
       "version_major": 2,
       "version_minor": 0
      },
      "text/plain": [
       "HBox(children=(HTML(value=''), FloatProgress(value=0.0, max=125.0), HTML(value='')))"
      ]
     },
     "metadata": {},
     "output_type": "display_data"
    },
    {
     "name": "stdout",
     "output_type": "stream",
     "text": [
      "\n",
      "                                      precision    recall  f1-score   support\n",
      "\n",
      "                       Not_offensive       0.98      0.99      0.98      1779\n",
      "                       not-malayalam       0.90      0.91      0.91       163\n",
      "     Offensive_Targeted_Insult_Group       0.75      0.69      0.72        13\n",
      "               Offensive_Untargetede       0.76      0.65      0.70        20\n",
      "Offensive_Targeted_Insult_Individual       0.93      0.54      0.68        24\n",
      "\n",
      "                            accuracy                           0.97      1999\n",
      "                           macro avg       0.87      0.76      0.80      1999\n",
      "                        weighted avg       0.97      0.97      0.97      1999\n",
      "\n",
      "Epoch 8, Val Loss = 0.1685241443514824, Val F1 = 0.7998406631569812, Best Val f1 = 0.7999497065456469, stagnant_t = 3\n",
      "==========================================================\n",
      "Epoch 9\n",
      "Train\n"
     ]
    },
    {
     "data": {
      "application/vnd.jupyter.widget-view+json": {
       "model_id": "2be4c314a9b941df83138181fef3ca6b",
       "version_major": 2,
       "version_minor": 0
      },
      "text/plain": [
       "HBox(children=(HTML(value=''), FloatProgress(value=0.0, max=1001.0), HTML(value='')))"
      ]
     },
     "metadata": {},
     "output_type": "display_data"
    },
    {
     "name": "stdout",
     "output_type": "stream",
     "text": [
      "\n",
      "Dev\n"
     ]
    },
    {
     "data": {
      "application/vnd.jupyter.widget-view+json": {
       "model_id": "974cfe7e88d64e2a82515ed87e591174",
       "version_major": 2,
       "version_minor": 0
      },
      "text/plain": [
       "HBox(children=(HTML(value=''), FloatProgress(value=0.0, max=125.0), HTML(value='')))"
      ]
     },
     "metadata": {},
     "output_type": "display_data"
    },
    {
     "name": "stdout",
     "output_type": "stream",
     "text": [
      "\n",
      "                                      precision    recall  f1-score   support\n",
      "\n",
      "                       Not_offensive       0.98      0.99      0.98      1779\n",
      "                       not-malayalam       0.91      0.90      0.90       163\n",
      "     Offensive_Targeted_Insult_Group       0.75      0.69      0.72        13\n",
      "               Offensive_Untargetede       0.81      0.65      0.72        20\n",
      "Offensive_Targeted_Insult_Individual       0.92      0.50      0.65        24\n",
      "\n",
      "                            accuracy                           0.97      1999\n",
      "                           macro avg       0.87      0.75      0.80      1999\n",
      "                        weighted avg       0.97      0.97      0.97      1999\n",
      "\n",
      "Epoch 9, Val Loss = 0.14831925016641612, Val F1 = 0.7957965517965518, Best Val f1 = 0.7999497065456469, stagnant_t = 4\n",
      "==========================================================\n",
      "Epoch 10\n",
      "Train\n"
     ]
    },
    {
     "data": {
      "application/vnd.jupyter.widget-view+json": {
       "model_id": "4ac9e6a4a55c4bf9b9e68efeb64c564d",
       "version_major": 2,
       "version_minor": 0
      },
      "text/plain": [
       "HBox(children=(HTML(value=''), FloatProgress(value=0.0, max=1001.0), HTML(value='')))"
      ]
     },
     "metadata": {},
     "output_type": "display_data"
    },
    {
     "name": "stdout",
     "output_type": "stream",
     "text": [
      "\n",
      "Dev\n"
     ]
    },
    {
     "data": {
      "application/vnd.jupyter.widget-view+json": {
       "model_id": "98f8dbd0d50749da9853b68003a61ef6",
       "version_major": 2,
       "version_minor": 0
      },
      "text/plain": [
       "HBox(children=(HTML(value=''), FloatProgress(value=0.0, max=125.0), HTML(value='')))"
      ]
     },
     "metadata": {},
     "output_type": "display_data"
    },
    {
     "name": "stdout",
     "output_type": "stream",
     "text": [
      "\n",
      "                                      precision    recall  f1-score   support\n",
      "\n",
      "                       Not_offensive       0.98      0.99      0.98      1779\n",
      "                       not-malayalam       0.90      0.91      0.91       163\n",
      "     Offensive_Targeted_Insult_Group       0.75      0.69      0.72        13\n",
      "               Offensive_Untargetede       0.76      0.65      0.70        20\n",
      "Offensive_Targeted_Insult_Individual       0.92      0.50      0.65        24\n",
      "\n",
      "                            accuracy                           0.97      1999\n",
      "                           macro avg       0.86      0.75      0.79      1999\n",
      "                        weighted avg       0.97      0.97      0.97      1999\n",
      "\n",
      "Epoch 10, Val Loss = 0.14941174986958516, Val F1 = 0.7926731908158576, Best Val f1 = 0.7999497065456469, stagnant_t = 5\n",
      "No increase for 5 epochs, Stopping ...\n"
     ]
    }
   ],
   "source": [
    "from torch.utils.data import DataLoader\n",
    "from tqdm.notebook import tqdm\n",
    "from sklearn.metrics import classification_report, f1_score\n",
    "import copy\n",
    "\n",
    "fusion_classifier = FusionNet(int(lin_dim + dim_extra_embeds), 1024, 256, 64, 5)\n",
    "# Optimiser\n",
    "optimizer = AdamW(fusion_classifier.parameters(), lr=1e-5)\n",
    "mo,ex_em = \"\",\"\"\n",
    "for mod in model_names:\n",
    "    mo += mod\n",
    "for em in add_extra_embeds:\n",
    "    ex_em += em\n",
    "model_name = 'fusion_malayalam_'+mo+'_'+ex_em\n",
    "\n",
    "best_model = None\n",
    "\n",
    "# device = torch.device('cuda') if torch.cuda.is_available() else torch.device('cpu')\n",
    "fusion_classifier.to(device)\n",
    "for model in models:\n",
    "    model.to(device)\n",
    "best_val_f1 = 0\n",
    "count = 0\n",
    "\n",
    "# Dataloaders\n",
    "train_loader = DataLoader(train_dataset, batch_size=16, shuffle=True)\n",
    "dev_loader = DataLoader(dev_dataset, batch_size=16, shuffle=False)\n",
    "\n",
    "for epoch in range(100):\n",
    "    fusion_classifier.train()\n",
    "    print(\"==========================================================\")\n",
    "    print(\"Epoch {}\".format(epoch))\n",
    "    print(\"Train\")\n",
    "    for batch in tqdm(train_loader):\n",
    "        optimizer.zero_grad()\n",
    "        outputs_all = []\n",
    "        for i in range(n_models):\n",
    "            model = models[i]\n",
    "            input_ids = batch['input_ids'+'_'+str(i)].to(device)\n",
    "            attention_mask = batch['attention_mask'+'_'+str(i)].to(device)\n",
    "            labels = batch['labels'].to(device)\n",
    "            outputs = model(input_ids, attention_mask=attention_mask)\n",
    "            outputs_all.append(outputs[1])\n",
    "        \n",
    "        for i in range(len_extra_embeds):\n",
    "            outputs_all.append(torch.Tensor(train_embeddings[i][batch['index'], :]).to(device))\n",
    "        \n",
    "        bert_output = torch.cat(outputs_all, dim = -1) \n",
    "        out = fusion_classifier(bert_output)\n",
    "        loss = loss_function(out, labels)\n",
    "        loss.backward()\n",
    "        optimizer.step()\n",
    "    \n",
    "    print(\"Dev\")\n",
    "    dev_preds = []\n",
    "    fusion_classifier.eval()\n",
    "    total_val_loss = 0\n",
    "    with torch.set_grad_enabled(False):\n",
    "        for batch in tqdm(dev_loader):\n",
    "            outputs_all = []\n",
    "            for i in range(n_models):\n",
    "                model = models[i]\n",
    "                input_ids = batch['input_ids'+'_'+str(i)].to(device)\n",
    "                attention_mask = batch['attention_mask'+'_'+str(i)].to(device)\n",
    "                labels = batch['labels'].to(device)\n",
    "                outputs = model(input_ids, attention_mask=attention_mask)\n",
    "                outputs_all.append(outputs[1])\n",
    "                \n",
    "            for i in range(len_extra_embeds):\n",
    "                outputs_all.append(torch.Tensor(dev_embeddings[i][batch['index'], :]).to(device))\n",
    "\n",
    "            bert_output = torch.cat(outputs_all, dim = -1) \n",
    "            out = fusion_classifier(bert_output)\n",
    "            loss = loss_function(out, labels)\n",
    "            total_val_loss += loss.item()/len(dev_loader)\n",
    "            \n",
    "            for logits in out.cpu().numpy():\n",
    "                dev_preds.append(np.argmax(logits))\n",
    "    \n",
    "    y_true = dev_batch_labels\n",
    "    y_pred = dev_preds\n",
    "    target_names = label_mapping.keys()\n",
    "    report = classification_report(y_true, y_pred, target_names=target_names)\n",
    "    val_f1 = f1_score(y_true, y_pred, average='macro')\n",
    "    \n",
    "    if val_f1 > best_val_f1:\n",
    "        PATH = '../../finetuned_models/' + model_name + '.pth'\n",
    "        torch.save(fusion_classifier.state_dict(), PATH)\n",
    "        best_model = copy.deepcopy(fusion_classifier)\n",
    "        best_val_f1 = val_f1\n",
    "        count = 0\n",
    "    else:\n",
    "        count += 1\n",
    "    \n",
    "    print(report)\n",
    "    print(\"Epoch {}, Val Loss = {}, Val F1 = {}, Best Val f1 = {}, stagnant_t = {}\".format(epoch, total_val_loss, val_f1, best_val_f1, count))\n",
    "    if count == 5:\n",
    "        print(\"No increase for 5 epochs, Stopping ...\")\n",
    "        break"
   ]
  },
  {
   "cell_type": "markdown",
   "metadata": {},
   "source": [
    "#### Final Model predictions on Dev"
   ]
  },
  {
   "cell_type": "code",
   "execution_count": 27,
   "metadata": {},
   "outputs": [
    {
     "data": {
      "application/vnd.jupyter.widget-view+json": {
       "model_id": "16bc60dd9d2043d581610ac7f1856bc3",
       "version_major": 2,
       "version_minor": 0
      },
      "text/plain": [
       "HBox(children=(HTML(value=''), FloatProgress(value=0.0, max=125.0), HTML(value='')))"
      ]
     },
     "metadata": {},
     "output_type": "display_data"
    },
    {
     "name": "stderr",
     "output_type": "stream",
     "text": [
      "/home/punyajoy/.conda/envs/nlp/lib/python3.7/site-packages/ipykernel_launcher.py:13: UserWarning: To copy construct from a tensor, it is recommended to use sourceTensor.clone().detach() or sourceTensor.clone().detach().requires_grad_(True), rather than torch.tensor(sourceTensor).\n",
      "  del sys.path[0]\n",
      "/home/punyajoy/.conda/envs/nlp/lib/python3.7/site-packages/ipykernel_launcher.py:16: UserWarning: To copy construct from a tensor, it is recommended to use sourceTensor.clone().detach() or sourceTensor.clone().detach().requires_grad_(True), rather than torch.tensor(sourceTensor).\n",
      "  app.launch_new_instance()\n"
     ]
    },
    {
     "name": "stdout",
     "output_type": "stream",
     "text": [
      "\n"
     ]
    }
   ],
   "source": [
    "dev_preds = []\n",
    "dev_probs = []\n",
    "best_model.eval()\n",
    "with torch.set_grad_enabled(False):\n",
    "    for batch in tqdm(dev_loader):\n",
    "        outputs_all = []\n",
    "        for i in range(n_models):\n",
    "            model = models[i]\n",
    "            input_ids = batch['input_ids'+'_'+str(i)].to(device)\n",
    "            attention_mask = batch['attention_mask'+'_'+str(i)].to(device)\n",
    "            labels = batch['labels'].to(device)\n",
    "            outputs = model(input_ids, attention_mask=attention_mask)\n",
    "            outputs_all.append(outputs[1])\n",
    "\n",
    "        for i in range(len_extra_embeds):\n",
    "            outputs_all.append(torch.Tensor(dev_embeddings[i][batch['index'], :]).to(device))\n",
    "\n",
    "        bert_output = torch.cat(outputs_all, dim = -1) \n",
    "        out = best_model(bert_output)\n",
    "\n",
    "        for logits in out.cpu().numpy():\n",
    "            dev_preds.append(np.argmax(logits))\n",
    "        for logits in out.cpu().numpy():\n",
    "            dev_probs.append(np.exp(logits)/np.sum(np.exp(logits)))\n",
    "\n",
    "y_true = dev_batch_labels\n",
    "y_pred = dev_preds\n",
    "target_names = label_mapping.keys()\n",
    "report = classification_report(y_true, y_pred, target_names=target_names)\n",
    "val_f1 = f1_score(y_true, y_pred, average='macro')"
   ]
  },
  {
   "cell_type": "code",
   "execution_count": 28,
   "metadata": {},
   "outputs": [
    {
     "name": "stdout",
     "output_type": "stream",
     "text": [
      "                                      precision    recall  f1-score   support\n",
      "\n",
      "                       Not_offensive       0.98      0.99      0.98      1779\n",
      "                       not-malayalam       0.90      0.92      0.91       163\n",
      "     Offensive_Targeted_Insult_Group       0.75      0.69      0.72        13\n",
      "               Offensive_Untargetede       0.76      0.65      0.70        20\n",
      "Offensive_Targeted_Insult_Individual       0.93      0.54      0.68        24\n",
      "\n",
      "                            accuracy                           0.97      1999\n",
      "                           macro avg       0.86      0.76      0.80      1999\n",
      "                        weighted avg       0.97      0.97      0.97      1999\n",
      "\n"
     ]
    }
   ],
   "source": [
    "print(report)"
   ]
  },
  {
   "cell_type": "code",
   "execution_count": 32,
   "metadata": {
    "scrolled": true
   },
   "outputs": [
    {
     "name": "stdout",
     "output_type": "stream",
     "text": [
      "fusion_malayalam_XLMroberta_base_MalayalamMbert_base_cased_Malayalam_cnn_128\n"
     ]
    }
   ],
   "source": [
    "print(model_name)"
   ]
  },
  {
   "cell_type": "code",
   "execution_count": 31,
   "metadata": {},
   "outputs": [],
   "source": [
    "#### SAVE PROBS\n",
    "np.save('dev_probs/dev_preds_'+model_name+'.npy', dev_probs)"
   ]
  },
  {
   "cell_type": "markdown",
   "metadata": {},
   "source": [
    "#### Final Model predictions on Test"
   ]
  },
  {
   "cell_type": "code",
   "execution_count": 34,
   "metadata": {},
   "outputs": [
    {
     "data": {
      "application/vnd.jupyter.widget-view+json": {
       "model_id": "c59236cf8ddb4da19cdd94580bded429",
       "version_major": 2,
       "version_minor": 0
      },
      "text/plain": [
       "HBox(children=(HTML(value=''), FloatProgress(value=0.0, max=126.0), HTML(value='')))"
      ]
     },
     "metadata": {},
     "output_type": "display_data"
    },
    {
     "name": "stderr",
     "output_type": "stream",
     "text": [
      "/home/punyajoy/.conda/envs/nlp/lib/python3.7/site-packages/ipykernel_launcher.py:13: UserWarning: To copy construct from a tensor, it is recommended to use sourceTensor.clone().detach() or sourceTensor.clone().detach().requires_grad_(True), rather than torch.tensor(sourceTensor).\n",
      "  del sys.path[0]\n"
     ]
    },
    {
     "name": "stdout",
     "output_type": "stream",
     "text": [
      "\n"
     ]
    }
   ],
   "source": [
    "best_model.eval()\n",
    "test_loader = DataLoader(test_dataset, batch_size=16, shuffle=False)\n",
    "\n",
    "test_preds = []\n",
    "test_probs = []\n",
    "total_val_loss = 0\n",
    "with torch.set_grad_enabled(False):\n",
    "    for batch in tqdm(test_loader):\n",
    "        outputs_all = []\n",
    "        for i in range(n_models):\n",
    "            model = models[i]\n",
    "            input_ids = batch['input_ids'+'_'+str(i)].to(device)\n",
    "            attention_mask = batch['attention_mask'+'_'+str(i)].to(device)\n",
    "            outputs = model(input_ids, attention_mask=attention_mask)\n",
    "            outputs_all.append(outputs[1])\n",
    "\n",
    "        for i in range(len_extra_embeds):\n",
    "            if len(test_embeddings[i][batch['index'], :]) == 128:\n",
    "                outputs_all.append(torch.Tensor(test_embeddings[i][batch['index'], :]).unsqueeze(0).to(device))\n",
    "            else:\n",
    "                outputs_all.append(torch.Tensor(test_embeddings[i][batch['index'], :]).to(device))\n",
    "    \n",
    "        bert_output = torch.cat(outputs_all, dim = -1) \n",
    "        out = best_model(bert_output)\n",
    " \n",
    "        for logits in out.cpu().numpy():\n",
    "            test_preds.append(np.argmax(logits))\n",
    "        for logits in out.cpu().numpy():\n",
    "            test_probs.append(np.exp(logits)/np.sum(np.exp(logits)))"
   ]
  },
  {
   "cell_type": "code",
   "execution_count": 36,
   "metadata": {},
   "outputs": [],
   "source": [
    "#### SAVE PROBS\n",
    "np.save('test_probs/test_preds_'+model_name+'.npy', test_probs)"
   ]
  },
  {
   "cell_type": "markdown",
   "metadata": {},
   "source": [
    "#### Save config in dict for predictions and ensemble"
   ]
  },
  {
   "cell_type": "code",
   "execution_count": 56,
   "metadata": {},
   "outputs": [],
   "source": [
    "dict = {}\n",
    "dict['pth_name'] = model_name\n",
    "dict['model'] = model_names\n",
    "dict['pretrained_keys'] = ['xlm-roberta-base','xlm-roberta-base','bert-base-multilingual-cased']\n",
    "dict['extra_embeds'] = add_extra_embeds\n",
    "dict['length'] = lin_dim + dim_extra_embeds"
   ]
  },
  {
   "cell_type": "code",
   "execution_count": 57,
   "metadata": {},
   "outputs": [],
   "source": [
    "model_name_tot = 'dicts/'+model_name"
   ]
  },
  {
   "cell_type": "code",
   "execution_count": 59,
   "metadata": {},
   "outputs": [],
   "source": [
    "import pickle\n",
    "with open(str(model_name_tot)+'.pickle', 'wb') as handle:\n",
    "    pickle.dump(dict, handle)"
   ]
  },
  {
   "cell_type": "markdown",
   "metadata": {},
   "source": [
    "### Save Preds - Get predictions from individual model"
   ]
  },
  {
   "cell_type": "code",
   "execution_count": 26,
   "metadata": {
    "scrolled": true
   },
   "outputs": [
    {
     "data": {
      "application/vnd.jupyter.widget-view+json": {
       "model_id": "bb474e2c9aaf40ee949aa5d7fbef42fe",
       "version_major": 2,
       "version_minor": 0
      },
      "text/plain": [
       "HBox(children=(HTML(value=''), FloatProgress(value=0.0, max=125.0), HTML(value='')))"
      ]
     },
     "metadata": {},
     "output_type": "display_data"
    },
    {
     "name": "stderr",
     "output_type": "stream",
     "text": [
      "/home/punyajoy/.conda/envs/nlp/lib/python3.7/site-packages/ipykernel_launcher.py:13: UserWarning: To copy construct from a tensor, it is recommended to use sourceTensor.clone().detach() or sourceTensor.clone().detach().requires_grad_(True), rather than torch.tensor(sourceTensor).\n",
      "  del sys.path[0]\n",
      "/home/punyajoy/.conda/envs/nlp/lib/python3.7/site-packages/ipykernel_launcher.py:14: UserWarning: To copy construct from a tensor, it is recommended to use sourceTensor.clone().detach() or sourceTensor.clone().detach().requires_grad_(True), rather than torch.tensor(sourceTensor).\n",
      "  \n"
     ]
    },
    {
     "name": "stdout",
     "output_type": "stream",
     "text": [
      "\n"
     ]
    }
   ],
   "source": [
    "from torch.utils.data import DataLoader\n",
    "from tqdm.notebook import tqdm\n",
    "from sklearn.metrics import classification_report, f1_score\n",
    "\n",
    "device = torch.device('cuda') if torch.cuda.is_available() else torch.device('cpu')\n",
    "model.to(device)\n",
    "\n",
    "# Dataloaders\n",
    "dev_loader = DataLoader(dev_dataset, batch_size=16, shuffle=False)\n",
    "fusion_classifier.load_state_dict(torch.load('../../finetuned_models/' + model_name + '.pth'))\n",
    "fusion_classifier.eval()\n",
    "\n",
    "dev_preds = []\n",
    "with torch.set_grad_enabled(False):\n",
    "    for batch in tqdm(dev_loader):\n",
    "        outputs_all = []\n",
    "        for i in range(n_models):\n",
    "            model = models[i]\n",
    "            input_ids = batch['input_ids'+'_'+str(i)].to(device)\n",
    "            attention_mask = batch['attention_mask'+'_'+str(i)].to(device)\n",
    "            labels = batch['labels'].to(device)\n",
    "            outputs = model(input_ids, attention_mask=attention_mask)\n",
    "            outputs_all.append(outputs[1])\n",
    "\n",
    "        for i in range(len_extra_embeds):\n",
    "                outputs_all.append(torch.Tensor(dev_embeddings[i][batch['index'], :]).to(device))\n",
    "\n",
    "        bert_output = torch.cat(outputs_all, dim = -1) \n",
    "        out = fusion_classifier(bert_output)\n",
    "\n",
    "        for logits in out.cpu().numpy():\n",
    "            dev_preds.append(np.argmax(logits))"
   ]
  },
  {
   "cell_type": "code",
   "execution_count": 27,
   "metadata": {},
   "outputs": [],
   "source": [
    "y_true = dev_batch_labels\n",
    "y_pred = dev_preds\n",
    "target_names = label_mapping.keys()\n",
    "report = classification_report(y_true, y_pred, target_names=target_names)"
   ]
  },
  {
   "cell_type": "code",
   "execution_count": 28,
   "metadata": {},
   "outputs": [
    {
     "name": "stdout",
     "output_type": "stream",
     "text": [
      "                                      precision    recall  f1-score   support\n",
      "\n",
      "                       Not_offensive       0.97      0.99      0.98      1779\n",
      "                       not-malayalam       0.90      0.86      0.88       163\n",
      "     Offensive_Targeted_Insult_Group       0.80      0.62      0.70        13\n",
      "               Offensive_Untargetede       0.80      0.60      0.69        20\n",
      "Offensive_Targeted_Insult_Individual       0.92      0.50      0.65        24\n",
      "\n",
      "                            accuracy                           0.96      1999\n",
      "                           macro avg       0.88      0.71      0.78      1999\n",
      "                        weighted avg       0.96      0.96      0.96      1999\n",
      "\n"
     ]
    }
   ],
   "source": [
    "print(report)"
   ]
  },
  {
   "cell_type": "markdown",
   "metadata": {},
   "source": [
    "#### Final Model predictions on Test"
   ]
  },
  {
   "cell_type": "code",
   "execution_count": 29,
   "metadata": {},
   "outputs": [],
   "source": [
    "np.savetxt(\"../../dev_preds/\" + model_name + \".csv\", dev_preds, delimiter=\",\")"
   ]
  },
  {
   "cell_type": "code",
   "execution_count": null,
   "metadata": {},
   "outputs": [],
   "source": []
  }
 ],
 "metadata": {
  "kernelspec": {
   "display_name": "Python [conda env:.conda-nlp]",
   "language": "python",
   "name": "conda-env-.conda-nlp-py"
  },
  "language_info": {
   "codemirror_mode": {
    "name": "ipython",
    "version": 3
   },
   "file_extension": ".py",
   "mimetype": "text/x-python",
   "name": "python",
   "nbconvert_exporter": "python",
   "pygments_lexer": "ipython3",
   "version": "3.7.9"
  }
 },
 "nbformat": 4,
 "nbformat_minor": 4
}
