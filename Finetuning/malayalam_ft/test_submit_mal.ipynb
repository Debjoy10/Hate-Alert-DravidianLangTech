{
 "cells": [
  {
   "cell_type": "markdown",
   "metadata": {},
   "source": [
    "### Script for generating prediction CSV files for Dev and Test sets"
   ]
  },
  {
   "cell_type": "markdown",
   "metadata": {},
   "source": [
    "**GA-Ensembling weights and individual model predictions already available**"
   ]
  },
  {
   "cell_type": "code",
   "execution_count": 1,
   "metadata": {},
   "outputs": [],
   "source": [
    "import pandas as pd\n",
    "import numpy as np"
   ]
  },
  {
   "cell_type": "code",
   "execution_count": 2,
   "metadata": {},
   "outputs": [],
   "source": [
    "# Reading CSV from link\n",
    "def read_csv_from_link(url):\n",
    "    path = 'https://drive.google.com/uc?export=download&id='+url.split('/')[-2]\n",
    "    df = pd.read_csv(path,delimiter=\"\\t\",error_bad_lines=False, header=None)\n",
    "    return df"
   ]
  },
  {
   "cell_type": "code",
   "execution_count": 3,
   "metadata": {},
   "outputs": [],
   "source": [
    "# Loading All Data\n",
    "# tamil_train = read_csv_from_link('https://drive.google.com/file/d/15auwrFAlq52JJ61u7eSfnhT9rZtI5sjk/view?usp=sharing')\n",
    "# tamil_dev = read_csv_from_link('https://drive.google.com/file/d/1Jme-Oftjm7OgfMNLKQs1mO_cnsQmznRI/view?usp=sharing')\n",
    "# malayalam_train = read_csv_from_link('https://drive.google.com/file/d/13JCCr-IjZK7uhbLXeufptr_AxvsKinVl/view?usp=sharing')\n",
    "malayalam_dev = read_csv_from_link('https://drive.google.com/file/d/1J0msLpLoM6gmXkjC6DFeQ8CG_rrLvjnM/view?usp=sharing')\n",
    "# kannada_train = read_csv_from_link('https://drive.google.com/file/d/1BFYF05rx-DK9Eb5hgoIgd6EcB8zOI-zu/view?usp=sharing')\n",
    "# kannada_dev = read_csv_from_link('https://drive.google.com/file/d/1V077dMQvscqpUmcWTcFHqRa_vTy-bQ4H/view?usp=sharing')"
   ]
  },
  {
   "cell_type": "code",
   "execution_count": 44,
   "metadata": {},
   "outputs": [
    {
     "name": "stderr",
     "output_type": "stream",
     "text": [
      "b'Skipping line 778: expected 2 fields, saw 3\\n'\n"
     ]
    }
   ],
   "source": [
    "# Test\n",
    "tamil_test = read_csv_from_link('https://drive.google.com/file/d/10RHrqXvIKMdnvN_tVJa_FAm41zaeC8WN/view?usp=sharing')\n",
    "malayalam_test = read_csv_from_link('https://drive.google.com/file/d/1zx1wCC9A-Pp80mzbqixb52WlWQQ7ATyJ/view?usp=sharing')\n",
    "kannada_test = read_csv_from_link('https://drive.google.com/file/d/1Px2CvIkLP_xaNhz_fCofW-7GGBCnSYsa/view?usp=sharing')"
   ]
  },
  {
   "cell_type": "code",
   "execution_count": 56,
   "metadata": {},
   "outputs": [],
   "source": [
    "split = 'test'"
   ]
  },
  {
   "cell_type": "code",
   "execution_count": 57,
   "metadata": {},
   "outputs": [],
   "source": [
    "# Uncomment If making predictions for Dev-Set\n",
    "# malayalam_test = malayalam_dev\n",
    "# split = 'dev'"
   ]
  },
  {
   "cell_type": "code",
   "execution_count": 58,
   "metadata": {},
   "outputs": [],
   "source": [
    "# Mal Preprocess\n",
    "malayalam_test = malayalam_test.iloc[:, 0:2]\n",
    "malayalam_test = malayalam_test.rename(columns={0: \"text\", 1: \"GT_label\"})"
   ]
  },
  {
   "cell_type": "markdown",
   "metadata": {},
   "source": [
    "### Load Model"
   ]
  },
  {
   "cell_type": "code",
   "execution_count": 47,
   "metadata": {},
   "outputs": [],
   "source": [
    "import torch"
   ]
  },
  {
   "cell_type": "code",
   "execution_count": 48,
   "metadata": {
    "scrolled": true
   },
   "outputs": [
    {
     "name": "stdout",
     "output_type": "stream",
     "text": [
      "GPU Nos: 2\n",
      "Tesla P100-PCIE-12GB\n",
      "Tesla P100-PCIE-16GB\n"
     ]
    }
   ],
   "source": [
    "print(\"GPU Nos: {}\".format(torch.cuda.device_count()))\n",
    "print(torch.cuda.get_device_name(0))\n",
    "print(torch.cuda.get_device_name(1))\n",
    "\n",
    "# Change Device - CPU/GPU-0/GPU-1\n",
    "torch.cuda.set_device(0)\n",
    "device = 'cuda'\n",
    "device = device if torch.cuda.is_available() else 'cpu'"
   ]
  },
  {
   "cell_type": "code",
   "execution_count": 49,
   "metadata": {},
   "outputs": [],
   "source": [
    "# Load Weights dictionary"
   ]
  },
  {
   "cell_type": "code",
   "execution_count": 9,
   "metadata": {},
   "outputs": [],
   "source": [
    "import pickle\n",
    "saved_model_filename = 'GA_v1_malayalam'\n",
    "\n",
    "with open(\"../../dev_preds/weights_\" + saved_model_filename + \".pickle\", 'rb') as handle:\n",
    "    mw = pickle.load(handle)"
   ]
  },
  {
   "cell_type": "code",
   "execution_count": 10,
   "metadata": {},
   "outputs": [
    {
     "data": {
      "text/plain": [
       "{'XLMroberta_custom_pretrained_Malayalam.pth': (4.987400383529981,\n",
       "  'xlm-roberta-base'),\n",
       " 'Distilbert_m_base_cased_Malayalam_weighted.pth': (1.358223048938526,\n",
       "  'distilbert-base-multilingual-cased'),\n",
       " 'Indic_bert_Malayalam_weighted.pth': (2.1480728379176064,\n",
       "  'ai4bharat/indic-bert'),\n",
       " 'Distilbert_m_base_cased_Malayalam.pth': (2.7947970649265406,\n",
       "  'distilbert-base-multilingual-cased'),\n",
       " 'XLMroberta_custom_pretrained_Malayalam_weighted.pth': (4.206574786073908,\n",
       "  'xlm-roberta-base'),\n",
       " 'MURIL_cased_temp_Malayalam.pth': (0.6841248293693636,\n",
       "  'simran-kh/muril-cased-temp'),\n",
       " 'XLMroberta_large_Malayalam_weighted.pth': (3.8948383954170698,\n",
       "  'xlm-roberta-large'),\n",
       " 'Mbert_base_cased_Malayalam.pth': (0.44254299249817775,\n",
       "  'bert-base-multilingual-cased'),\n",
       " 'Mbert_base_cased_Malayalam_weighted.pth': (0.4904552048096972,\n",
       "  'bert-base-multilingual-cased'),\n",
       " 'XLMroberta_large_Malayalam.pth': (1.4920680613973296, 'xlm-roberta-large'),\n",
       " 'Indic_bert_Malayalam.pth': (1.389161641030305, 'ai4bharat/indic-bert'),\n",
       " 'MURIL_cased_temp_Malayalam_weighted.pth': (2.8178302110508153,\n",
       "  'simran-kh/muril-cased-temp'),\n",
       " 'XLMroberta_base_Malayalam_weighted.pth': (1.8024446186776188,\n",
       "  'xlm-roberta-base'),\n",
       " 'XLMroberta_base_Malayalam.pth': (4.717196990349133, 'xlm-roberta-base')}"
      ]
     },
     "execution_count": 10,
     "metadata": {},
     "output_type": "execute_result"
    }
   ],
   "source": [
    "mw"
   ]
  },
  {
   "cell_type": "code",
   "execution_count": 13,
   "metadata": {},
   "outputs": [],
   "source": [
    "all_probs = []\n",
    "import os"
   ]
  },
  {
   "cell_type": "code",
   "execution_count": 10,
   "metadata": {},
   "outputs": [],
   "source": [
    "label_mapping = {\n",
    "    'Not_offensive': 0, \n",
    "    'not-malayalam': 1, \n",
    "    'Offensive_Targeted_Insult_Group': 2, \n",
    "    'Offensive_Untargetede': 3, \n",
    "    'Offensive_Targeted_Insult_Individual': 4\n",
    "}"
   ]
  },
  {
   "cell_type": "code",
   "execution_count": 13,
   "metadata": {},
   "outputs": [
    {
     "data": {
      "application/vnd.jupyter.widget-view+json": {
       "model_id": "0a997d174b7f4859baef1a1cad3f6f36",
       "version_major": 2,
       "version_minor": 0
      },
      "text/plain": [
       "HBox(children=(HTML(value=''), FloatProgress(value=0.0, max=14.0), HTML(value='')))"
      ]
     },
     "metadata": {},
     "output_type": "display_data"
    },
    {
     "name": "stdout",
     "output_type": "stream",
     "text": [
      "\n"
     ]
    }
   ],
   "source": [
    "# Loading Model\n",
    "from transformers import AutoTokenizer, AutoModelForSequenceClassification, BertTokenizer, BertForSequenceClassification\n",
    "from tqdm.notebook import tqdm\n",
    "\n",
    "for index in tqdm(mw.keys()):\n",
    "    model_name = index\n",
    "    pretrained_key = mw[index][1]\n",
    "    try:\n",
    "        test_preds = np.load(\"../../test_probs/\"+model_name+\".npy\")\n",
    "        all_probs.append(test_preds)\n",
    "        continue\n",
    "    except:\n",
    "        pass\n",
    "\n",
    "    if pretrained_key == 'distilbert-base-multilingual-cased':\n",
    "        tokenizer = BertTokenizer.from_pretrained(pretrained_key)\n",
    "        model = BertForSequenceClassification.from_pretrained(pretrained_key, num_labels=5)\n",
    "    else:\n",
    "        tokenizer = AutoTokenizer.from_pretrained(pretrained_key)\n",
    "        model = AutoModelForSequenceClassification.from_pretrained(pretrained_key, num_labels=5)\n",
    "\n",
    "    state_dict = torch.load(os.path.join('../../finetuned_models/', model_name))\n",
    "    model.load_state_dict(state_dict)\n",
    "    model.eval()\n",
    "\n",
    "    # Collecting Text and Labels\n",
    "    test_batch_sentences = list(malayalam_test['text'])\n",
    "\n",
    "    # Convert to Tensor\n",
    "    test_encodings = tokenizer(test_batch_sentences, padding='max_length', truncation=True, max_length=64, return_tensors=\"pt\")\n",
    "\n",
    "    # Dataset\n",
    "    from torch.utils.data import Dataset\n",
    "    class malayalam_Offensive_Dataset(Dataset):\n",
    "        def __init__(self, encodings):\n",
    "            self.encodings = encodings\n",
    "\n",
    "        def __getitem__(self, idx):\n",
    "            item = {key: torch.tensor(val[idx]) for key, val in self.encodings.items()}\n",
    "            item['labels'] = torch.tensor(1) # Label is irrelevant, since we need predictions\n",
    "            return item\n",
    "\n",
    "        def __len__(self):\n",
    "            return len(self.encodings[\"input_ids\"])\n",
    "\n",
    "    # Defining Datasets\n",
    "    test_dataset = malayalam_Offensive_Dataset(test_encodings)\n",
    "\n",
    "    ### Run Models-1\n",
    "    from torch.utils.data import DataLoader\n",
    "    from tqdm.notebook import tqdm\n",
    "    from sklearn.metrics import classification_report, f1_score\n",
    "\n",
    "    device = torch.device('cuda') if torch.cuda.is_available() else torch.device('cpu')\n",
    "    model.to(device)\n",
    "\n",
    "    # Dataloaders\n",
    "    test_loader = DataLoader(test_dataset, batch_size=16, shuffle=False)\n",
    "\n",
    "    test_preds = []\n",
    "    with torch.set_grad_enabled(False):\n",
    "        for batch in tqdm(test_loader):\n",
    "            input_ids = batch['input_ids'].to(device)\n",
    "            attention_mask = batch['attention_mask'].to(device)\n",
    "            labels = batch['labels'].to(device)\n",
    "            outputs = model(input_ids, attention_mask=attention_mask, labels=labels)\n",
    "\n",
    "            for logits in outputs[1].cpu().numpy():\n",
    "                test_preds.append(np.exp(logits)/np.sum(np.exp(logits)))\n",
    "    \n",
    "    np.save(\"../../test_probs/\"+model_name+\".npy\", test_preds)\n",
    "    all_probs.append(test_preds)\n",
    "    del model\n",
    "    torch.cuda.empty_cache()"
   ]
  },
  {
   "cell_type": "code",
   "execution_count": 63,
   "metadata": {},
   "outputs": [],
   "source": [
    "all_probs = []\n",
    "if split == 'test':\n",
    "    for k in mw.keys():\n",
    "        all_probs.append(np.load(\"../../test_probs/\"+k+\".npy\"))\n",
    "else:\n",
    "    for k in mw.keys():\n",
    "        all_probs.append(np.load(\"../../model_prediction_probs/preds_\"+k+\".npy\"))"
   ]
  },
  {
   "cell_type": "code",
   "execution_count": 70,
   "metadata": {
    "scrolled": true
   },
   "outputs": [
    {
     "data": {
      "text/plain": [
       "{'XLMroberta_custom_pretrained_Malayalam.pth': (4.987400383529981,\n",
       "  'xlm-roberta-base'),\n",
       " 'Distilbert_m_base_cased_Malayalam_weighted.pth': (1.358223048938526,\n",
       "  'distilbert-base-multilingual-cased'),\n",
       " 'Indic_bert_Malayalam_weighted.pth': (2.1480728379176064,\n",
       "  'ai4bharat/indic-bert'),\n",
       " 'Distilbert_m_base_cased_Malayalam.pth': (2.7947970649265406,\n",
       "  'distilbert-base-multilingual-cased'),\n",
       " 'XLMroberta_custom_pretrained_Malayalam_weighted.pth': (4.206574786073908,\n",
       "  'xlm-roberta-base'),\n",
       " 'MURIL_cased_temp_Malayalam.pth': (0.6841248293693636,\n",
       "  'simran-kh/muril-cased-temp'),\n",
       " 'XLMroberta_large_Malayalam_weighted.pth': (3.8948383954170698,\n",
       "  'xlm-roberta-large'),\n",
       " 'Mbert_base_cased_Malayalam.pth': (0.44254299249817775,\n",
       "  'bert-base-multilingual-cased'),\n",
       " 'Mbert_base_cased_Malayalam_weighted.pth': (0.4904552048096972,\n",
       "  'bert-base-multilingual-cased'),\n",
       " 'XLMroberta_large_Malayalam.pth': (1.4920680613973296, 'xlm-roberta-large'),\n",
       " 'Indic_bert_Malayalam.pth': (1.389161641030305, 'ai4bharat/indic-bert'),\n",
       " 'MURIL_cased_temp_Malayalam_weighted.pth': (2.8178302110508153,\n",
       "  'simran-kh/muril-cased-temp'),\n",
       " 'XLMroberta_base_Malayalam_weighted.pth': (1.8024446186776188,\n",
       "  'xlm-roberta-base'),\n",
       " 'XLMroberta_base_Malayalam.pth': (4.717196990349133, 'xlm-roberta-base')}"
      ]
     },
     "execution_count": 70,
     "metadata": {},
     "output_type": "execute_result"
    }
   ],
   "source": [
    "mw"
   ]
  },
  {
   "cell_type": "code",
   "execution_count": 64,
   "metadata": {},
   "outputs": [],
   "source": [
    "weights = [mw[index][0] for index in mw]"
   ]
  },
  {
   "cell_type": "code",
   "execution_count": 65,
   "metadata": {},
   "outputs": [],
   "source": [
    "inverse_label_mapping = {v: k for k, v in label_mapping.items()}"
   ]
  },
  {
   "cell_type": "code",
   "execution_count": 66,
   "metadata": {},
   "outputs": [],
   "source": [
    "GA = False\n",
    "if GA:\n",
    "    X = weights\n",
    "else:\n",
    "    X = np.ones_like(weights)/len(weights)\n",
    "all_dev_preds = np.array(all_probs)\n",
    "\n",
    "softmax_w = np.exp(X)/np.sum(np.exp(X))\n",
    "weighted_all_dev_preds = np.array([sw*dpreds for sw, dpreds in zip(softmax_w, all_dev_preds)])\n",
    "weighted_dev_preds = np.sum(weighted_all_dev_preds, axis = 0)\n",
    "final_dev_preds = np.argmax(weighted_dev_preds, axis = 1)\n",
    "\n",
    "final_dev_pred_labels = [inverse_label_mapping[int(k)] for k in final_dev_preds]\n",
    "saved_model_filename = 'test_GA_v1_malayalam'\n",
    "malayalam_test['labels'] = final_dev_pred_labels"
   ]
  },
  {
   "cell_type": "code",
   "execution_count": 67,
   "metadata": {},
   "outputs": [],
   "source": [
    "malayalam_test.index.name = 'id'"
   ]
  },
  {
   "cell_type": "code",
   "execution_count": 68,
   "metadata": {},
   "outputs": [
    {
     "data": {
      "text/html": [
       "<div>\n",
       "<style scoped>\n",
       "    .dataframe tbody tr th:only-of-type {\n",
       "        vertical-align: middle;\n",
       "    }\n",
       "\n",
       "    .dataframe tbody tr th {\n",
       "        vertical-align: top;\n",
       "    }\n",
       "\n",
       "    .dataframe thead th {\n",
       "        text-align: right;\n",
       "    }\n",
       "</style>\n",
       "<table border=\"1\" class=\"dataframe\">\n",
       "  <thead>\n",
       "    <tr style=\"text-align: right;\">\n",
       "      <th></th>\n",
       "      <th>text</th>\n",
       "      <th>GT_label</th>\n",
       "      <th>labels</th>\n",
       "    </tr>\n",
       "    <tr>\n",
       "      <th>id</th>\n",
       "      <th></th>\n",
       "      <th></th>\n",
       "      <th></th>\n",
       "    </tr>\n",
       "  </thead>\n",
       "  <tbody>\n",
       "    <tr>\n",
       "      <th>0</th>\n",
       "      <td>Gopichettante BGM um mammookayum ishtapedunnav...</td>\n",
       "      <td>Not_offensive</td>\n",
       "      <td>Not_offensive</td>\n",
       "    </tr>\n",
       "    <tr>\n",
       "      <th>1</th>\n",
       "      <td>ഇത് ഒരു പെണ്ണ് തന്നെ ആണോ direct ചെയ്യുന്നത്  p...</td>\n",
       "      <td>Not_offensive</td>\n",
       "      <td>Not_offensive</td>\n",
       "    </tr>\n",
       "    <tr>\n",
       "      <th>2</th>\n",
       "      <td>പൃഥ്വിരാജ് സുരാജേട്ടൻ ലാലും അലക്സ്.. Lal jr. ന...</td>\n",
       "      <td>Not_offensive</td>\n",
       "      <td>Not_offensive</td>\n",
       "    </tr>\n",
       "    <tr>\n",
       "      <th>3</th>\n",
       "      <td>പോകരുത് മക്കളെ പോക്ക .......... നൻ കണ്ട് എന്റ്...</td>\n",
       "      <td>Not_offensive</td>\n",
       "      <td>Not_offensive</td>\n",
       "    </tr>\n",
       "    <tr>\n",
       "      <th>4</th>\n",
       "      <td>avan Varum ente Makan Madhura Raja....</td>\n",
       "      <td>Not_offensive</td>\n",
       "      <td>Not_offensive</td>\n",
       "    </tr>\n",
       "    <tr>\n",
       "      <th>...</th>\n",
       "      <td>...</td>\n",
       "      <td>...</td>\n",
       "      <td>...</td>\n",
       "    </tr>\n",
       "    <tr>\n",
       "      <th>1994</th>\n",
       "      <td>Onnam ഇട്ടി മണി &amp; brathors ഡേ വിന്നർ ലാലേട്ടൻ ...</td>\n",
       "      <td>Not_offensive</td>\n",
       "      <td>Not_offensive</td>\n",
       "    </tr>\n",
       "    <tr>\n",
       "      <th>1995</th>\n",
       "      <td>Manju chechi undel hero vendaa. Chechi vere le...</td>\n",
       "      <td>Not_offensive</td>\n",
       "      <td>Not_offensive</td>\n",
       "    </tr>\n",
       "    <tr>\n",
       "      <th>1996</th>\n",
       "      <td>Ith kollaaaam....kanda ooodayp trailer ne kalu...</td>\n",
       "      <td>Not_offensive</td>\n",
       "      <td>Not_offensive</td>\n",
       "    </tr>\n",
       "    <tr>\n",
       "      <th>1997</th>\n",
       "      <td>Ufffff.  Pwoli lalattaa... Katta waiting</td>\n",
       "      <td>Not_offensive</td>\n",
       "      <td>Not_offensive</td>\n",
       "    </tr>\n",
       "    <tr>\n",
       "      <th>1998</th>\n",
       "      <td>trailer kollam but oru tamil movie remake anu ...</td>\n",
       "      <td>Not_offensive</td>\n",
       "      <td>Not_offensive</td>\n",
       "    </tr>\n",
       "  </tbody>\n",
       "</table>\n",
       "<p>1999 rows × 3 columns</p>\n",
       "</div>"
      ],
      "text/plain": [
       "                                                   text       GT_label  \\\n",
       "id                                                                       \n",
       "0     Gopichettante BGM um mammookayum ishtapedunnav...  Not_offensive   \n",
       "1     ഇത് ഒരു പെണ്ണ് തന്നെ ആണോ direct ചെയ്യുന്നത്  p...  Not_offensive   \n",
       "2     പൃഥ്വിരാജ് സുരാജേട്ടൻ ലാലും അലക്സ്.. Lal jr. ന...  Not_offensive   \n",
       "3     പോകരുത് മക്കളെ പോക്ക .......... നൻ കണ്ട് എന്റ്...  Not_offensive   \n",
       "4                avan Varum ente Makan Madhura Raja....  Not_offensive   \n",
       "...                                                 ...            ...   \n",
       "1994  Onnam ഇട്ടി മണി & brathors ഡേ വിന്നർ ലാലേട്ടൻ ...  Not_offensive   \n",
       "1995  Manju chechi undel hero vendaa. Chechi vere le...  Not_offensive   \n",
       "1996  Ith kollaaaam....kanda ooodayp trailer ne kalu...  Not_offensive   \n",
       "1997           Ufffff.  Pwoli lalattaa... Katta waiting  Not_offensive   \n",
       "1998  trailer kollam but oru tamil movie remake anu ...  Not_offensive   \n",
       "\n",
       "             labels  \n",
       "id                   \n",
       "0     Not_offensive  \n",
       "1     Not_offensive  \n",
       "2     Not_offensive  \n",
       "3     Not_offensive  \n",
       "4     Not_offensive  \n",
       "...             ...  \n",
       "1994  Not_offensive  \n",
       "1995  Not_offensive  \n",
       "1996  Not_offensive  \n",
       "1997  Not_offensive  \n",
       "1998  Not_offensive  \n",
       "\n",
       "[1999 rows x 3 columns]"
      ]
     },
     "execution_count": 68,
     "metadata": {},
     "output_type": "execute_result"
    }
   ],
   "source": [
    "malayalam_test"
   ]
  },
  {
   "cell_type": "code",
   "execution_count": 69,
   "metadata": {},
   "outputs": [
    {
     "name": "stdout",
     "output_type": "stream",
     "text": [
      "                                      precision    recall  f1-score   support\n",
      "\n",
      "                       Not_offensive       0.98      0.99      0.98      1779\n",
      "     Offensive_Targeted_Insult_Group       0.82      0.69      0.75        13\n",
      "Offensive_Targeted_Insult_Individual       0.92      0.50      0.65        24\n",
      "               Offensive_Untargetede       0.93      0.65      0.76        20\n",
      "                       not-malayalam       0.90      0.93      0.91       163\n",
      "\n",
      "                            accuracy                           0.97      1999\n",
      "                           macro avg       0.91      0.75      0.81      1999\n",
      "                        weighted avg       0.97      0.97      0.97      1999\n",
      "\n"
     ]
    }
   ],
   "source": [
    "from sklearn.metrics import classification_report\n",
    "\n",
    "print(classification_report(malayalam_test['GT_label'], malayalam_test['labels']))"
   ]
  },
  {
   "cell_type": "code",
   "execution_count": 32,
   "metadata": {},
   "outputs": [],
   "source": [
    "# Saving predictions\n",
    "malayalam_test.to_csv(\"../../test_preds/\" + saved_model_filename + \".tsv\", sep = '\\t')\n",
    "np.save(\"../../test_probs/\"+saved_model_filename+\".npy\", weighted_dev_preds)"
   ]
  },
  {
   "cell_type": "markdown",
   "metadata": {},
   "source": [
    "#### Performance of each model separately"
   ]
  },
  {
   "cell_type": "code",
   "execution_count": 1,
   "metadata": {},
   "outputs": [],
   "source": [
    "import numpy as np\n",
    "import pickle\n",
    "saved_model_filename = 'GA_v1_malayalam'\n",
    "\n",
    "with open(\"../../dev_preds/weights_\" + saved_model_filename + \".pickle\", 'rb') as handle:\n",
    "    mw = pickle.load(handle)"
   ]
  },
  {
   "cell_type": "code",
   "execution_count": 2,
   "metadata": {
    "scrolled": true
   },
   "outputs": [
    {
     "data": {
      "text/plain": [
       "{'XLMroberta_custom_pretrained_Malayalam.pth': (4.987400383529981,\n",
       "  'xlm-roberta-base'),\n",
       " 'Distilbert_m_base_cased_Malayalam_weighted.pth': (1.358223048938526,\n",
       "  'distilbert-base-multilingual-cased'),\n",
       " 'Indic_bert_Malayalam_weighted.pth': (2.1480728379176064,\n",
       "  'ai4bharat/indic-bert'),\n",
       " 'Distilbert_m_base_cased_Malayalam.pth': (2.7947970649265406,\n",
       "  'distilbert-base-multilingual-cased'),\n",
       " 'XLMroberta_custom_pretrained_Malayalam_weighted.pth': (4.206574786073908,\n",
       "  'xlm-roberta-base'),\n",
       " 'MURIL_cased_temp_Malayalam.pth': (0.6841248293693636,\n",
       "  'simran-kh/muril-cased-temp'),\n",
       " 'XLMroberta_large_Malayalam_weighted.pth': (3.8948383954170698,\n",
       "  'xlm-roberta-large'),\n",
       " 'Mbert_base_cased_Malayalam.pth': (0.44254299249817775,\n",
       "  'bert-base-multilingual-cased'),\n",
       " 'Mbert_base_cased_Malayalam_weighted.pth': (0.4904552048096972,\n",
       "  'bert-base-multilingual-cased'),\n",
       " 'XLMroberta_large_Malayalam.pth': (1.4920680613973296, 'xlm-roberta-large'),\n",
       " 'Indic_bert_Malayalam.pth': (1.389161641030305, 'ai4bharat/indic-bert'),\n",
       " 'MURIL_cased_temp_Malayalam_weighted.pth': (2.8178302110508153,\n",
       "  'simran-kh/muril-cased-temp'),\n",
       " 'XLMroberta_base_Malayalam_weighted.pth': (1.8024446186776188,\n",
       "  'xlm-roberta-base'),\n",
       " 'XLMroberta_base_Malayalam.pth': (4.717196990349133, 'xlm-roberta-base')}"
      ]
     },
     "execution_count": 2,
     "metadata": {},
     "output_type": "execute_result"
    }
   ],
   "source": [
    "mw"
   ]
  },
  {
   "cell_type": "code",
   "execution_count": 7,
   "metadata": {},
   "outputs": [],
   "source": [
    "all_model_names = mw.keys()"
   ]
  },
  {
   "cell_type": "code",
   "execution_count": 10,
   "metadata": {},
   "outputs": [],
   "source": [
    "all_test_preds = []\n",
    "for model_name in all_model_names:\n",
    "    all_test_preds.append(np.load(\"../../test_probs/\"+model_name+\".npy\"))"
   ]
  },
  {
   "cell_type": "code",
   "execution_count": 12,
   "metadata": {},
   "outputs": [],
   "source": [
    "from sklearn.metrics import classification_report"
   ]
  },
  {
   "cell_type": "code",
   "execution_count": 19,
   "metadata": {},
   "outputs": [
    {
     "name": "stdout",
     "output_type": "stream",
     "text": [
      "XLMroberta_custom_pretrained_Malayalam.pth\n",
      "                                      precision    recall  f1-score   support\n",
      "\n",
      "                       Not_offensive       0.98      0.99      0.98      1765\n",
      "                       not-malayalam       0.91      0.93      0.92       157\n",
      "     Offensive_Targeted_Insult_Group       0.88      0.65      0.75        23\n",
      "               Offensive_Untargetede       0.91      0.72      0.81        29\n",
      "Offensive_Targeted_Insult_Individual       0.80      0.59      0.68        27\n",
      "\n",
      "                            accuracy                           0.97      2001\n",
      "                           macro avg       0.90      0.78      0.83      2001\n",
      "                        weighted avg       0.97      0.97      0.97      2001\n",
      "\n",
      "Distilbert_m_base_cased_Malayalam_weighted.pth\n",
      "                                      precision    recall  f1-score   support\n",
      "\n",
      "                       Not_offensive       0.97      0.95      0.96      1765\n",
      "                       not-malayalam       0.78      0.87      0.82       157\n",
      "     Offensive_Targeted_Insult_Group       0.44      0.48      0.46        23\n",
      "               Offensive_Untargetede       0.56      0.48      0.52        29\n",
      "Offensive_Targeted_Insult_Individual       0.34      0.56      0.42        27\n",
      "\n",
      "                            accuracy                           0.93      2001\n",
      "                           macro avg       0.62      0.67      0.64      2001\n",
      "                        weighted avg       0.93      0.93      0.93      2001\n",
      "\n",
      "Indic_bert_Malayalam_weighted.pth\n",
      "                                      precision    recall  f1-score   support\n",
      "\n",
      "                       Not_offensive       0.97      0.93      0.95      1765\n",
      "                       not-malayalam       0.81      0.89      0.84       157\n",
      "     Offensive_Targeted_Insult_Group       0.33      0.43      0.38        23\n",
      "               Offensive_Untargetede       0.43      0.55      0.48        29\n",
      "Offensive_Targeted_Insult_Individual       0.17      0.37      0.24        27\n",
      "\n",
      "                            accuracy                           0.91      2001\n",
      "                           macro avg       0.54      0.64      0.58      2001\n",
      "                        weighted avg       0.93      0.91      0.92      2001\n",
      "\n",
      "Distilbert_m_base_cased_Malayalam.pth\n",
      "                                      precision    recall  f1-score   support\n",
      "\n",
      "                       Not_offensive       0.97      0.98      0.98      1765\n",
      "                       not-malayalam       0.88      0.86      0.87       157\n",
      "     Offensive_Targeted_Insult_Group       0.82      0.39      0.53        23\n",
      "               Offensive_Untargetede       0.67      0.55      0.60        29\n",
      "Offensive_Targeted_Insult_Individual       0.55      0.63      0.59        27\n",
      "\n",
      "                            accuracy                           0.95      2001\n",
      "                           macro avg       0.78      0.68      0.71      2001\n",
      "                        weighted avg       0.95      0.95      0.95      2001\n",
      "\n",
      "XLMroberta_custom_pretrained_Malayalam_weighted.pth\n",
      "                                      precision    recall  f1-score   support\n",
      "\n",
      "                       Not_offensive       0.98      0.95      0.97      1765\n",
      "                       not-malayalam       0.79      0.94      0.85       157\n",
      "     Offensive_Targeted_Insult_Group       0.75      0.78      0.77        23\n",
      "               Offensive_Untargetede       0.47      0.76      0.58        29\n",
      "Offensive_Targeted_Insult_Individual       0.55      0.59      0.57        27\n",
      "\n",
      "                            accuracy                           0.94      2001\n",
      "                           macro avg       0.71      0.80      0.75      2001\n",
      "                        weighted avg       0.95      0.94      0.95      2001\n",
      "\n",
      "MURIL_cased_temp_Malayalam.pth\n",
      "                                      precision    recall  f1-score   support\n",
      "\n",
      "                       Not_offensive       0.97      0.98      0.98      1765\n",
      "                       not-malayalam       0.89      0.85      0.87       157\n",
      "     Offensive_Targeted_Insult_Group       0.86      0.52      0.65        23\n",
      "               Offensive_Untargetede       0.72      0.72      0.72        29\n",
      "Offensive_Targeted_Insult_Individual       0.85      0.63      0.72        27\n",
      "\n",
      "                            accuracy                           0.96      2001\n",
      "                           macro avg       0.86      0.74      0.79      2001\n",
      "                        weighted avg       0.96      0.96      0.96      2001\n",
      "\n",
      "XLMroberta_large_Malayalam_weighted.pth\n",
      "                                      precision    recall  f1-score   support\n",
      "\n",
      "                       Not_offensive       0.98      0.96      0.97      1765\n",
      "                       not-malayalam       0.84      0.96      0.89       157\n",
      "     Offensive_Targeted_Insult_Group       0.83      0.65      0.73        23\n",
      "               Offensive_Untargetede       0.43      0.79      0.56        29\n",
      "Offensive_Targeted_Insult_Individual       0.71      0.63      0.67        27\n",
      "\n",
      "                            accuracy                           0.95      2001\n",
      "                           macro avg       0.76      0.80      0.77      2001\n",
      "                        weighted avg       0.96      0.95      0.95      2001\n",
      "\n",
      "Mbert_base_cased_Malayalam.pth\n",
      "                                      precision    recall  f1-score   support\n",
      "\n",
      "                       Not_offensive       0.98      0.99      0.98      1765\n",
      "                       not-malayalam       0.89      0.91      0.90       157\n",
      "     Offensive_Targeted_Insult_Group       0.85      0.48      0.61        23\n",
      "               Offensive_Untargetede       0.71      0.69      0.70        29\n",
      "Offensive_Targeted_Insult_Individual       1.00      0.56      0.71        27\n",
      "\n",
      "                            accuracy                           0.96      2001\n",
      "                           macro avg       0.88      0.72      0.78      2001\n",
      "                        weighted avg       0.96      0.96      0.96      2001\n",
      "\n",
      "Mbert_base_cased_Malayalam_weighted.pth\n",
      "                                      precision    recall  f1-score   support\n",
      "\n",
      "                       Not_offensive       0.98      0.97      0.98      1765\n",
      "                       not-malayalam       0.84      0.94      0.89       157\n",
      "     Offensive_Targeted_Insult_Group       0.70      0.61      0.65        23\n",
      "               Offensive_Untargetede       0.59      0.66      0.62        29\n",
      "Offensive_Targeted_Insult_Individual       0.75      0.56      0.64        27\n",
      "\n",
      "                            accuracy                           0.96      2001\n",
      "                           macro avg       0.77      0.75      0.76      2001\n",
      "                        weighted avg       0.96      0.96      0.96      2001\n",
      "\n",
      "XLMroberta_large_Malayalam.pth\n",
      "                                      precision    recall  f1-score   support\n",
      "\n",
      "                       Not_offensive       0.98      0.99      0.98      1765\n",
      "                       not-malayalam       0.90      0.93      0.91       157\n",
      "     Offensive_Targeted_Insult_Group       0.88      0.61      0.72        23\n",
      "               Offensive_Untargetede       0.83      0.69      0.75        29\n",
      "Offensive_Targeted_Insult_Individual       0.78      0.67      0.72        27\n",
      "\n",
      "                            accuracy                           0.97      2001\n",
      "                           macro avg       0.87      0.78      0.82      2001\n",
      "                        weighted avg       0.97      0.97      0.97      2001\n",
      "\n",
      "Indic_bert_Malayalam.pth\n",
      "                                      precision    recall  f1-score   support\n",
      "\n",
      "                       Not_offensive       0.97      0.98      0.97      1765\n",
      "                       not-malayalam       0.90      0.87      0.88       157\n",
      "     Offensive_Targeted_Insult_Group       0.86      0.26      0.40        23\n",
      "               Offensive_Untargetede       0.50      0.66      0.57        29\n",
      "Offensive_Targeted_Insult_Individual       0.44      0.41      0.42        27\n",
      "\n",
      "                            accuracy                           0.95      2001\n",
      "                           macro avg       0.73      0.63      0.65      2001\n",
      "                        weighted avg       0.95      0.95      0.95      2001\n",
      "\n",
      "MURIL_cased_temp_Malayalam_weighted.pth\n",
      "                                      precision    recall  f1-score   support\n",
      "\n",
      "                       Not_offensive       0.98      0.96      0.97      1765\n",
      "                       not-malayalam       0.74      0.89      0.81       157\n",
      "     Offensive_Targeted_Insult_Group       0.80      0.52      0.63        23\n",
      "               Offensive_Untargetede       0.60      0.83      0.70        29\n",
      "Offensive_Targeted_Insult_Individual       0.63      0.63      0.63        27\n",
      "\n",
      "                            accuracy                           0.94      2001\n",
      "                           macro avg       0.75      0.77      0.75      2001\n",
      "                        weighted avg       0.95      0.94      0.94      2001\n",
      "\n",
      "XLMroberta_base_Malayalam_weighted.pth\n",
      "                                      precision    recall  f1-score   support\n",
      "\n",
      "                       Not_offensive       0.98      0.92      0.95      1765\n",
      "                       not-malayalam       0.66      0.94      0.78       157\n",
      "     Offensive_Targeted_Insult_Group       0.60      0.65      0.63        23\n",
      "               Offensive_Untargetede       0.36      0.79      0.49        29\n",
      "Offensive_Targeted_Insult_Individual       0.47      0.52      0.49        27\n",
      "\n",
      "                            accuracy                           0.91      2001\n",
      "                           macro avg       0.61      0.76      0.67      2001\n",
      "                        weighted avg       0.94      0.91      0.92      2001\n",
      "\n",
      "XLMroberta_base_Malayalam.pth\n",
      "                                      precision    recall  f1-score   support\n",
      "\n",
      "                       Not_offensive       0.98      0.98      0.98      1765\n",
      "                       not-malayalam       0.92      0.92      0.92       157\n",
      "     Offensive_Targeted_Insult_Group       0.80      0.52      0.63        23\n",
      "               Offensive_Untargetede       0.56      0.76      0.65        29\n",
      "Offensive_Targeted_Insult_Individual       0.62      0.56      0.59        27\n",
      "\n",
      "                            accuracy                           0.96      2001\n",
      "                           macro avg       0.78      0.75      0.75      2001\n",
      "                        weighted avg       0.96      0.96      0.96      2001\n",
      "\n"
     ]
    }
   ],
   "source": [
    "label_mapping = {\n",
    "    'Not_offensive': 0, \n",
    "    'not-malayalam': 1, \n",
    "    'Offensive_Targeted_Insult_Group': 2, \n",
    "    'Offensive_Untargetede': 3, \n",
    "    'Offensive_Targeted_Insult_Individual': 4\n",
    "}\n",
    "\n",
    "# Collecting Text and Labels\n",
    "test_batch_sentences = list(malayalam_test['text'])\n",
    "test_batch_labels =  [label_mapping[x] for x in malayalam_test['label']]\n",
    "\n",
    "for test_preds, mn in zip(all_test_preds, all_model_names):\n",
    "    final_test_preds = np.argmax(test_preds, axis = 1)\n",
    "    y_true = test_batch_labels\n",
    "    y_pred = final_test_preds\n",
    "    target_names = label_mapping.keys()\n",
    "    report = classification_report(y_true, y_pred, target_names=target_names)\n",
    "    print(mn)\n",
    "    print(report)"
   ]
  },
  {
   "cell_type": "code",
   "execution_count": null,
   "metadata": {},
   "outputs": [],
   "source": []
  }
 ],
 "metadata": {
  "kernelspec": {
   "display_name": "Python [conda env:.conda-nlp]",
   "language": "python",
   "name": "conda-env-.conda-nlp-py"
  },
  "language_info": {
   "codemirror_mode": {
    "name": "ipython",
    "version": 3
   },
   "file_extension": ".py",
   "mimetype": "text/x-python",
   "name": "python",
   "nbconvert_exporter": "python",
   "pygments_lexer": "ipython3",
   "version": "3.7.9"
  }
 },
 "nbformat": 4,
 "nbformat_minor": 4
}
