{
 "cells": [
  {
   "cell_type": "code",
   "execution_count": 7,
   "metadata": {},
   "outputs": [],
   "source": [
    "import numpy as np\n",
    "import pandas as pd\n",
    "from sklearn.metrics import classification_report, f1_score"
   ]
  },
  {
   "cell_type": "code",
   "execution_count": 6,
   "metadata": {},
   "outputs": [],
   "source": [
    "def read_csv_from_link(url):\n",
    "    path = 'https://drive.google.com/uc?export=download&id='+url.split('/')[-2]\n",
    "    df = pd.read_csv(path,delimiter=\"\\t\",error_bad_lines=False, header=None)\n",
    "    return df"
   ]
  },
  {
   "cell_type": "code",
   "execution_count": 33,
   "metadata": {},
   "outputs": [],
   "source": [
    "# Data and Label Mapping\n",
    "malayalam_train = read_csv_from_link('https://drive.google.com/file/d/13JCCr-IjZK7uhbLXeufptr_AxvsKinVl/view?usp=sharing')\n",
    "malayalam_dev = read_csv_from_link('https://drive.google.com/file/d/1J0msLpLoM6gmXkjC6DFeQ8CG_rrLvjnM/view?usp=sharing')\n",
    "\n",
    "# mal Preprocess\n",
    "malayalam_train = malayalam_train.iloc[:, 0:2]\n",
    "malayalam_train = malayalam_train.rename(columns={0: \"text\", 1: \"label\"})\n",
    "# Stats\n",
    "malayalam_train['label'] = pd.Categorical(malayalam_train.label)\n",
    "# Mal Preprocess\n",
    "malayalam_dev = malayalam_dev.iloc[:, 0:2]\n",
    "malayalam_dev = malayalam_dev.rename(columns={0: \"text\", 1: \"label\"})\n",
    "# Stats\n",
    "malayalam_dev['label'] = pd.Categorical(malayalam_dev.label)\n",
    "\n",
    "\n",
    "label_mapping = {\n",
    "    'Not_offensive': 0, \n",
    "    'not-malayalam': 1, \n",
    "    'Offensive_Targeted_Insult_Group': 2, \n",
    "    'Offensive_Untargetede': 3, \n",
    "    'Offensive_Targeted_Insult_Individual': 4\n",
    "}\n",
    "\n",
    "dev_batch_labels =  [label_mapping[x] for x in malayalam_dev['label']]\n",
    "target_names = label_mapping.keys()"
   ]
  },
  {
   "cell_type": "code",
   "execution_count": 30,
   "metadata": {},
   "outputs": [],
   "source": [
    "import os\n",
    "load_model_filenames = [x for x in os.listdir('./dev_probs/')]"
   ]
  },
  {
   "cell_type": "code",
   "execution_count": 31,
   "metadata": {},
   "outputs": [
    {
     "data": {
      "text/plain": [
       "['dev_preds_fusion_malayalam_XLMroberta_custom_pretrained_MalayalamXLMroberta_large_Malayalam_cnn_128.npy',\n",
       " '.ipynb_checkpoints',\n",
       " 'dev_preds_fusion_malayalam_XLMroberta_base_MalayalamMbert_base_cased_Malayalam_cnn_128.npy',\n",
       " 'dev_preds_fusion_malayalam_XLMroberta_base_Malayalam_cnn_128.npy',\n",
       " 'dev_preds_fusion_malayalam_XLMroberta_base_MalayalamXLMroberta_large_MalayalamMbert_base_cased_Malayalam_cnn_128.npy',\n",
       " 'dev_preds_fusion_malayalam_XLMroberta_custom_pretrained_MalayalamMbert_base_cased_Malayalam_cnn_128.npy',\n",
       " 'dev_preds_fusion_malayalam_XLMroberta_base_MalayalamMbert_base_cased_Malayalam_.npy',\n",
       " 'dev_preds_fusion_malayalam_XLMroberta_custom_pretrained_MalayalamXLMroberta_large_Tamil_cnn_128.npy']"
      ]
     },
     "execution_count": 31,
     "metadata": {},
     "output_type": "execute_result"
    }
   ],
   "source": [
    "# Read ALL fusion predictions models\n",
    "load_model_filenames"
   ]
  },
  {
   "cell_type": "code",
   "execution_count": 32,
   "metadata": {},
   "outputs": [],
   "source": [
    "all_dev_preds = []\n",
    "all_dev_model_names = []\n",
    "for modelname in load_model_filenames:\n",
    "    if(\"ipynb\" not in modelname):\n",
    "        all_dev_model_names.append(modelname)\n",
    "        all_dev_preds.append(np.load('./dev_probs/' + modelname))"
   ]
  },
  {
   "cell_type": "code",
   "execution_count": 35,
   "metadata": {
    "scrolled": true
   },
   "outputs": [
    {
     "name": "stdout",
     "output_type": "stream",
     "text": [
      "dev_preds_fusion_malayalam_XLMroberta_custom_pretrained_MalayalamXLMroberta_large_Malayalam_cnn_128.npy\n",
      "                                      precision    recall  f1-score   support\n",
      "\n",
      "                       Not_offensive       0.98      0.99      0.99      1779\n",
      "                       not-malayalam       0.90      0.93      0.92       163\n",
      "     Offensive_Targeted_Insult_Group       0.82      0.69      0.75        13\n",
      "               Offensive_Untargetede       0.93      0.70      0.80        20\n",
      "Offensive_Targeted_Insult_Individual       0.93      0.58      0.72        24\n",
      "\n",
      "                            accuracy                           0.97      1999\n",
      "                           macro avg       0.91      0.78      0.83      1999\n",
      "                        weighted avg       0.97      0.97      0.97      1999\n",
      "\n",
      "dev_preds_fusion_malayalam_XLMroberta_base_MalayalamMbert_base_cased_Malayalam_cnn_128.npy\n",
      "                                      precision    recall  f1-score   support\n",
      "\n",
      "                       Not_offensive       0.98      0.99      0.98      1779\n",
      "                       not-malayalam       0.90      0.92      0.91       163\n",
      "     Offensive_Targeted_Insult_Group       0.75      0.69      0.72        13\n",
      "               Offensive_Untargetede       0.76      0.65      0.70        20\n",
      "Offensive_Targeted_Insult_Individual       0.93      0.54      0.68        24\n",
      "\n",
      "                            accuracy                           0.97      1999\n",
      "                           macro avg       0.86      0.76      0.80      1999\n",
      "                        weighted avg       0.97      0.97      0.97      1999\n",
      "\n",
      "dev_preds_fusion_malayalam_XLMroberta_base_Malayalam_cnn_128.npy\n",
      "                                      precision    recall  f1-score   support\n",
      "\n",
      "                       Not_offensive       0.98      0.99      0.98      1779\n",
      "                       not-malayalam       0.91      0.88      0.89       163\n",
      "     Offensive_Targeted_Insult_Group       0.90      0.69      0.78        13\n",
      "               Offensive_Untargetede       1.00      0.65      0.79        20\n",
      "Offensive_Targeted_Insult_Individual       0.87      0.54      0.67        24\n",
      "\n",
      "                            accuracy                           0.97      1999\n",
      "                           macro avg       0.93      0.75      0.82      1999\n",
      "                        weighted avg       0.97      0.97      0.97      1999\n",
      "\n",
      "dev_preds_fusion_malayalam_XLMroberta_base_MalayalamXLMroberta_large_MalayalamMbert_base_cased_Malayalam_cnn_128.npy\n",
      "                                      precision    recall  f1-score   support\n",
      "\n",
      "                       Not_offensive       0.98      0.98      0.98      1779\n",
      "                       not-malayalam       0.89      0.93      0.91       163\n",
      "     Offensive_Targeted_Insult_Group       0.75      0.69      0.72        13\n",
      "               Offensive_Untargetede       0.72      0.65      0.68        20\n",
      "Offensive_Targeted_Insult_Individual       0.88      0.58      0.70        24\n",
      "\n",
      "                            accuracy                           0.97      1999\n",
      "                           macro avg       0.84      0.77      0.80      1999\n",
      "                        weighted avg       0.97      0.97      0.97      1999\n",
      "\n",
      "dev_preds_fusion_malayalam_XLMroberta_custom_pretrained_MalayalamMbert_base_cased_Malayalam_cnn_128.npy\n",
      "                                      precision    recall  f1-score   support\n",
      "\n",
      "                       Not_offensive       0.98      0.99      0.99      1779\n",
      "                       not-malayalam       0.92      0.94      0.93       163\n",
      "     Offensive_Targeted_Insult_Group       0.82      0.69      0.75        13\n",
      "               Offensive_Untargetede       0.76      0.65      0.70        20\n",
      "Offensive_Targeted_Insult_Individual       0.93      0.54      0.68        24\n",
      "\n",
      "                            accuracy                           0.97      1999\n",
      "                           macro avg       0.88      0.76      0.81      1999\n",
      "                        weighted avg       0.97      0.97      0.97      1999\n",
      "\n",
      "dev_preds_fusion_malayalam_XLMroberta_base_MalayalamMbert_base_cased_Malayalam_.npy\n",
      "                                      precision    recall  f1-score   support\n",
      "\n",
      "                       Not_offensive       0.98      0.99      0.98      1779\n",
      "                       not-malayalam       0.92      0.87      0.90       163\n",
      "     Offensive_Targeted_Insult_Group       0.90      0.69      0.78        13\n",
      "               Offensive_Untargetede       0.81      0.65      0.72        20\n",
      "Offensive_Targeted_Insult_Individual       1.00      0.54      0.70        24\n",
      "\n",
      "                            accuracy                           0.97      1999\n",
      "                           macro avg       0.92      0.75      0.82      1999\n",
      "                        weighted avg       0.97      0.97      0.97      1999\n",
      "\n",
      "dev_preds_fusion_malayalam_XLMroberta_custom_pretrained_MalayalamXLMroberta_large_Tamil_cnn_128.npy\n",
      "                                      precision    recall  f1-score   support\n",
      "\n",
      "                       Not_offensive       0.98      0.99      0.99      1779\n",
      "                       not-malayalam       0.91      0.93      0.92       163\n",
      "     Offensive_Targeted_Insult_Group       0.90      0.69      0.78        13\n",
      "               Offensive_Untargetede       0.88      0.70      0.78        20\n",
      "Offensive_Targeted_Insult_Individual       0.93      0.58      0.72        24\n",
      "\n",
      "                            accuracy                           0.97      1999\n",
      "                           macro avg       0.92      0.78      0.84      1999\n",
      "                        weighted avg       0.97      0.97      0.97      1999\n",
      "\n"
     ]
    }
   ],
   "source": [
    "# Collecting Text and Labels\n",
    "dev_batch_sentences = list(malayalam_dev['text'])\n",
    "dev_batch_labels =  [label_mapping[x] for x in malayalam_dev['label']]\n",
    "\n",
    "for dev_preds, mn in zip(all_dev_preds, all_dev_model_names):\n",
    "    final_dev_preds = np.argmax(dev_preds, axis = 1)\n",
    "    y_true = dev_batch_labels\n",
    "    y_pred = final_dev_preds\n",
    "    target_names = label_mapping.keys()\n",
    "    report = classification_report(y_true, y_pred, target_names=target_names)\n",
    "    print(mn)\n",
    "    print(report)"
   ]
  },
  {
   "cell_type": "code",
   "execution_count": null,
   "metadata": {},
   "outputs": [],
   "source": [
    "# Averaging Ensemble"
   ]
  },
  {
   "cell_type": "code",
   "execution_count": 36,
   "metadata": {},
   "outputs": [
    {
     "name": "stdout",
     "output_type": "stream",
     "text": [
      "                                      precision    recall  f1-score   support\n",
      "\n",
      "                       Not_offensive       0.98      0.99      0.98      1779\n",
      "                       not-malayalam       0.91      0.91      0.91       163\n",
      "     Offensive_Targeted_Insult_Group       0.82      0.69      0.75        13\n",
      "               Offensive_Untargetede       0.87      0.65      0.74        20\n",
      "Offensive_Targeted_Insult_Individual       0.93      0.58      0.72        24\n",
      "\n",
      "                            accuracy                           0.97      1999\n",
      "                           macro avg       0.90      0.77      0.82      1999\n",
      "                        weighted avg       0.97      0.97      0.97      1999\n",
      "\n"
     ]
    }
   ],
   "source": [
    "all_dev_preds = np.array(all_dev_preds)\n",
    "\n",
    "# Initialise Weights\n",
    "w = np.ones(all_dev_preds.shape[0])\n",
    "softmax_w = np.exp(w)/np.sum(np.exp(w))\n",
    "\n",
    "weighted_all_dev_preds = np.array([sw*dpreds for sw, dpreds in zip(softmax_w, all_dev_preds)])\n",
    "weighted_dev_preds = np.sum(weighted_all_dev_preds, axis = 0)\n",
    "final_dev_preds = np.argmax(weighted_dev_preds, axis = 1)\n",
    "\n",
    "y_true = dev_batch_labels\n",
    "y_pred = final_dev_preds\n",
    "target_names = label_mapping.keys()\n",
    "report = classification_report(y_true, y_pred, target_names=target_names)\n",
    "print(report)"
   ]
  },
  {
   "cell_type": "code",
   "execution_count": null,
   "metadata": {},
   "outputs": [],
   "source": [
    "# GA-weighted ensemble"
   ]
  },
  {
   "cell_type": "code",
   "execution_count": 37,
   "metadata": {},
   "outputs": [
    {
     "name": "stdout",
     "output_type": "stream",
     "text": [
      " The best solution found:                                                                           \n",
      " [3.80866039 0.83892262 4.44867459 1.13009363 3.57928917 1.20935295\n",
      " 4.37148247]\n",
      "\n",
      " Objective function:\n",
      " 0.15247926824237157\n"
     ]
    },
    {
     "data": {
      "image/png": "[encoded data removed]",
      "text/plain": [
       "<Figure size 432x288 with 1 Axes>"
      ]
     },
     "metadata": {
      "needs_background": "light"
     },
     "output_type": "display_data"
    }
   ],
   "source": [
    "from geneticalgorithm import geneticalgorithm as ga\n",
    "\n",
    "def f(X):\n",
    "    softmax_w = np.exp(X)/np.sum(np.exp(X))\n",
    "    weighted_all_dev_preds = np.array([sw*dpreds for sw, dpreds in zip(softmax_w, all_dev_preds)])\n",
    "    weighted_dev_preds = np.sum(weighted_all_dev_preds, axis = 0)\n",
    "    final_dev_preds = np.argmax(weighted_dev_preds, axis = 1)\n",
    "\n",
    "    y_true = dev_batch_labels\n",
    "    y_pred = final_dev_preds\n",
    "    score = f1_score(y_true, y_pred, average='macro')\n",
    "    return 1-score\n",
    "\n",
    "varbound=np.array([[0, 5]]*all_dev_preds.shape[0])\n",
    "\n",
    "model=ga(function=f,dimension=all_dev_preds.shape[0],variable_type='real',variable_boundaries=varbound)\n",
    "\n",
    "model.run()"
   ]
  },
  {
   "cell_type": "code",
   "execution_count": 38,
   "metadata": {},
   "outputs": [
    {
     "name": "stdout",
     "output_type": "stream",
     "text": [
      "                                      precision    recall  f1-score   support\n",
      "\n",
      "                       Not_offensive       0.98      0.99      0.99      1779\n",
      "                       not-malayalam       0.93      0.93      0.93       163\n",
      "     Offensive_Targeted_Insult_Group       0.90      0.69      0.78        13\n",
      "               Offensive_Untargetede       1.00      0.70      0.82        20\n",
      "Offensive_Targeted_Insult_Individual       0.93      0.58      0.72        24\n",
      "\n",
      "                            accuracy                           0.98      1999\n",
      "                           macro avg       0.95      0.78      0.85      1999\n",
      "                        weighted avg       0.98      0.98      0.98      1999\n",
      "\n"
     ]
    },
    {
     "data": {
      "text/plain": [
       "0.8475207317576284"
      ]
     },
     "execution_count": 38,
     "metadata": {},
     "output_type": "execute_result"
    }
   ],
   "source": [
    "convergence=model.report\n",
    "solution=model.output_dict\n",
    "\n",
    "X = solution['variable']\n",
    "softmax_w = np.exp(X)/np.sum(np.exp(X))\n",
    "weighted_all_dev_preds = np.array([sw*dpreds for sw, dpreds in zip(softmax_w, all_dev_preds)])\n",
    "weighted_dev_preds = np.sum(weighted_all_dev_preds, axis = 0)\n",
    "final_dev_preds = np.argmax(weighted_dev_preds, axis = 1)\n",
    "\n",
    "y_true = dev_batch_labels\n",
    "y_pred = final_dev_preds\n",
    "target_names = label_mapping.keys()\n",
    "report = classification_report(y_true, y_pred, target_names=target_names)\n",
    "\n",
    "print(report)\n",
    "f1_score(y_true, y_pred, average='macro')"
   ]
  },
  {
   "cell_type": "code",
   "execution_count": 2,
   "metadata": {},
   "outputs": [],
   "source": [
    "model_pretrained_keys = ['']*8  # NOT REQUIRED"
   ]
  },
  {
   "cell_type": "code",
   "execution_count": 40,
   "metadata": {},
   "outputs": [],
   "source": [
    "saved_model_filename = 'self_ensemble_malayalam'\n",
    "\n",
    "a = {x:(y,z) for x, y, z in zip(load_model_filenames, np.array(solution['variable']), model_pretrained_keys)}\n",
    "import pickle\n",
    "with open(\"/home/punyajoy/Dravidian_Offensive_Classification/dev_preds/weights_\" + saved_model_filename + \".pickle\", 'wb') as handle:\n",
    "    pickle.dump(a, handle, protocol=pickle.HIGHEST_PROTOCOL)"
   ]
  },
  {
   "cell_type": "code",
   "execution_count": 8,
   "metadata": {},
   "outputs": [
    {
     "name": "stderr",
     "output_type": "stream",
     "text": [
      "b'Skipping line 778: expected 2 fields, saw 3\\n'\n"
     ]
    }
   ],
   "source": [
    "# Test With Labels\n",
    "tamil_test = read_csv_from_link('https://drive.google.com/file/d/10RHrqXvIKMdnvN_tVJa_FAm41zaeC8WN/view?usp=sharing')\n",
    "malayalam_test = read_csv_from_link('https://drive.google.com/file/d/1zx1wCC9A-Pp80mzbqixb52WlWQQ7ATyJ/view?usp=sharing')\n",
    "kannada_test = read_csv_from_link('https://drive.google.com/file/d/1Px2CvIkLP_xaNhz_fCofW-7GGBCnSYsa/view?usp=sharing')\n",
    "\n",
    "# Mal Preprocess\n",
    "malayalam_test = malayalam_test.iloc[:, 0:2]\n",
    "malayalam_test = malayalam_test.rename(columns={0: \"text\", 1: \"label\"})"
   ]
  },
  {
   "cell_type": "code",
   "execution_count": 9,
   "metadata": {},
   "outputs": [
    {
     "data": {
      "text/plain": [
       "(2001, 2)"
      ]
     },
     "execution_count": 9,
     "metadata": {},
     "output_type": "execute_result"
    }
   ],
   "source": [
    "malayalam_test.shape"
   ]
  },
  {
   "cell_type": "code",
   "execution_count": 65,
   "metadata": {},
   "outputs": [
    {
     "data": {
      "text/plain": [
       "(1999, 2)"
      ]
     },
     "execution_count": 65,
     "metadata": {},
     "output_type": "execute_result"
    }
   ],
   "source": [
    "malayalam_dev.shape"
   ]
  },
  {
   "cell_type": "code",
   "execution_count": 44,
   "metadata": {},
   "outputs": [],
   "source": [
    "import pickle\n",
    "saved_model_filename = 'self_ensemble_malayalam'\n",
    "\n",
    "with open(\"/home/punyajoy/Dravidian_Offensive_Classification/dev_preds/weights_\" + saved_model_filename + \".pickle\", 'rb') as handle:\n",
    "    mw = pickle.load(handle)"
   ]
  },
  {
   "cell_type": "code",
   "execution_count": 11,
   "metadata": {},
   "outputs": [],
   "source": [
    "import os\n",
    "load_model_filenames = [x for x in os.listdir('/home/punyajoy/Dravidian_Offensive_Classification/finetuning/malayalam_ft/test_probs/')]"
   ]
  },
  {
   "cell_type": "code",
   "execution_count": 24,
   "metadata": {},
   "outputs": [
    {
     "name": "stdout",
     "output_type": "stream",
     "text": [
      "(2001, 5) test_preds_fusion_malayalam_XLMroberta_base_Malayalam_cnn_128.npy\n",
      "(2001, 5) test_preds_fusion_malayalam_XLMroberta_custom_pretrained_MalayalamMbert_base_cased_Malayalam_cnn_128.npy\n",
      "(2001, 5) test_preds_fusion_malayalam_XLMroberta_base_MalayalamXLMroberta_large_MalayalamMbert_base_cased_Malayalam_cnn_128.npy\n",
      "(2001, 5) test_preds_fusion_malayalam_XLMroberta_custom_pretrained_MalayalamXLMroberta_large_Malayalam_cnn_128.npy\n",
      "(2001, 5) test_preds_fusion_malayalam_XLMroberta_base_MalayalamMbert_base_cased_Malayalam_cnn_128.npy\n",
      "(2001, 5) test_preds_fusion_malayalam_XLMroberta_base_MalayalamMbert_base_cased_Malayalam_.npy\n"
     ]
    }
   ],
   "source": [
    "all_test_preds = []\n",
    "all_model_names = []\n",
    "for modelname in load_model_filenames:\n",
    "    if(\"ipynb\" not in modelname):\n",
    "        a = np.load('/home/punyajoy/Dravidian_Offensive_Classification/finetuning/malayalam_ft/test_probs/' + modelname)\n",
    "        all_test_preds.append(a)\n",
    "        all_model_names.append(modelname)\n",
    "        print(a.shape,modelname)"
   ]
  },
  {
   "cell_type": "code",
   "execution_count": 26,
   "metadata": {},
   "outputs": [
    {
     "data": {
      "text/plain": [
       "(2001, 5)"
      ]
     },
     "execution_count": 26,
     "metadata": {},
     "output_type": "execute_result"
    }
   ],
   "source": [
    "all_test_preds[0].shape"
   ]
  },
  {
   "cell_type": "code",
   "execution_count": 27,
   "metadata": {},
   "outputs": [
    {
     "data": {
      "text/plain": [
       "['test_preds_fusion_malayalam_XLMroberta_base_Malayalam_cnn_128.npy',\n",
       " 'test_preds_fusion_malayalam_XLMroberta_custom_pretrained_MalayalamMbert_base_cased_Malayalam_cnn_128.npy',\n",
       " 'test_preds_fusion_malayalam_XLMroberta_base_MalayalamXLMroberta_large_MalayalamMbert_base_cased_Malayalam_cnn_128.npy',\n",
       " 'test_preds_fusion_malayalam_XLMroberta_custom_pretrained_MalayalamXLMroberta_large_Malayalam_cnn_128.npy',\n",
       " 'test_preds_fusion_malayalam_XLMroberta_base_MalayalamMbert_base_cased_Malayalam_cnn_128.npy',\n",
       " 'test_preds_fusion_malayalam_XLMroberta_base_MalayalamMbert_base_cased_Malayalam_.npy']"
      ]
     },
     "execution_count": 27,
     "metadata": {},
     "output_type": "execute_result"
    }
   ],
   "source": [
    "all_model_names"
   ]
  },
  {
   "cell_type": "code",
   "execution_count": 28,
   "metadata": {},
   "outputs": [
    {
     "name": "stdout",
     "output_type": "stream",
     "text": [
      "test_preds_fusion_malayalam_XLMroberta_base_Malayalam_cnn_128.npy\n",
      "                                      precision    recall  f1-score   support\n",
      "\n",
      "                       Not_offensive       0.97      0.99      0.98      1765\n",
      "                       not-malayalam       0.93      0.90      0.92       157\n",
      "     Offensive_Targeted_Insult_Group       0.87      0.57      0.68        23\n",
      "               Offensive_Untargetede       0.74      0.69      0.71        29\n",
      "Offensive_Targeted_Insult_Individual       0.88      0.56      0.68        27\n",
      "\n",
      "                            accuracy                           0.97      2001\n",
      "                           macro avg       0.88      0.74      0.80      2001\n",
      "                        weighted avg       0.97      0.97      0.97      2001\n",
      "\n",
      "test_preds_fusion_malayalam_XLMroberta_custom_pretrained_MalayalamMbert_base_cased_Malayalam_cnn_128.npy\n",
      "                                      precision    recall  f1-score   support\n",
      "\n",
      "                       Not_offensive       0.98      0.99      0.98      1765\n",
      "                       not-malayalam       0.91      0.93      0.92       157\n",
      "     Offensive_Targeted_Insult_Group       0.80      0.52      0.63        23\n",
      "               Offensive_Untargetede       0.70      0.72      0.71        29\n",
      "Offensive_Targeted_Insult_Individual       0.88      0.56      0.68        27\n",
      "\n",
      "                            accuracy                           0.97      2001\n",
      "                           macro avg       0.85      0.74      0.79      2001\n",
      "                        weighted avg       0.97      0.97      0.97      2001\n",
      "\n",
      "test_preds_fusion_malayalam_XLMroberta_base_MalayalamXLMroberta_large_MalayalamMbert_base_cased_Malayalam_cnn_128.npy\n",
      "                                      precision    recall  f1-score   support\n",
      "\n",
      "                       Not_offensive       0.98      0.98      0.98      1765\n",
      "                       not-malayalam       0.90      0.94      0.92       157\n",
      "     Offensive_Targeted_Insult_Group       0.82      0.61      0.70        23\n",
      "               Offensive_Untargetede       0.61      0.76      0.68        29\n",
      "Offensive_Targeted_Insult_Individual       0.89      0.63      0.74        27\n",
      "\n",
      "                            accuracy                           0.97      2001\n",
      "                           macro avg       0.84      0.78      0.80      2001\n",
      "                        weighted avg       0.97      0.97      0.97      2001\n",
      "\n",
      "test_preds_fusion_malayalam_XLMroberta_custom_pretrained_MalayalamXLMroberta_large_Malayalam_cnn_128.npy\n",
      "                                      precision    recall  f1-score   support\n",
      "\n",
      "                       Not_offensive       0.98      0.99      0.99      1765\n",
      "                       not-malayalam       0.93      0.92      0.92       157\n",
      "     Offensive_Targeted_Insult_Group       0.88      0.65      0.75        23\n",
      "               Offensive_Untargetede       0.88      0.72      0.79        29\n",
      "Offensive_Targeted_Insult_Individual       0.82      0.52      0.64        27\n",
      "\n",
      "                            accuracy                           0.97      2001\n",
      "                           macro avg       0.90      0.76      0.82      2001\n",
      "                        weighted avg       0.97      0.97      0.97      2001\n",
      "\n",
      "test_preds_fusion_malayalam_XLMroberta_base_MalayalamMbert_base_cased_Malayalam_cnn_128.npy\n",
      "                                      precision    recall  f1-score   support\n",
      "\n",
      "                       Not_offensive       0.98      0.98      0.98      1765\n",
      "                       not-malayalam       0.91      0.94      0.92       157\n",
      "     Offensive_Targeted_Insult_Group       0.80      0.52      0.63        23\n",
      "               Offensive_Untargetede       0.63      0.76      0.69        29\n",
      "Offensive_Targeted_Insult_Individual       0.89      0.59      0.71        27\n",
      "\n",
      "                            accuracy                           0.97      2001\n",
      "                           macro avg       0.84      0.76      0.79      2001\n",
      "                        weighted avg       0.97      0.97      0.97      2001\n",
      "\n",
      "test_preds_fusion_malayalam_XLMroberta_base_MalayalamMbert_base_cased_Malayalam_.npy\n",
      "                                      precision    recall  f1-score   support\n",
      "\n",
      "                       Not_offensive       0.98      0.99      0.98      1765\n",
      "                       not-malayalam       0.93      0.92      0.92       157\n",
      "     Offensive_Targeted_Insult_Group       0.92      0.48      0.63        23\n",
      "               Offensive_Untargetede       0.68      0.66      0.67        29\n",
      "Offensive_Targeted_Insult_Individual       0.94      0.63      0.76        27\n",
      "\n",
      "                            accuracy                           0.97      2001\n",
      "                           macro avg       0.89      0.73      0.79      2001\n",
      "                        weighted avg       0.97      0.97      0.97      2001\n",
      "\n"
     ]
    }
   ],
   "source": [
    "# Collecting Text and Labels\n",
    "test_batch_sentences = list(malayalam_test['text'])\n",
    "test_batch_labels =  [label_mapping[x] for x in malayalam_test['label']]\n",
    "\n",
    "for test_preds, mn in zip(all_test_preds, all_model_names):\n",
    "    final_test_preds = np.argmax(test_preds, axis = 1)\n",
    "    y_true = test_batch_labels\n",
    "    y_pred = final_test_preds\n",
    "    target_names = label_mapping.keys()\n",
    "    report = classification_report(y_true, y_pred, target_names=target_names)\n",
    "    print(mn)\n",
    "    print(report)"
   ]
  },
  {
   "cell_type": "code",
   "execution_count": 3,
   "metadata": {},
   "outputs": [],
   "source": [
    "# GENERATE FINAL ENSEMBLED PREDICTIONS"
   ]
  },
  {
   "cell_type": "code",
   "execution_count": 69,
   "metadata": {},
   "outputs": [],
   "source": [
    "weights = [mw[index][0] for index in mw.keys()]\n",
    "inverse_label_mapping = {v: k for k, v in label_mapping.items()}\n",
    "\n",
    "X = weights\n",
    "all_dev_preds = np.array(all_test_preds)\n",
    "\n",
    "\n",
    "softmax_w = np.exp(X)/np.sum(np.exp(X))\n",
    "weighted_all_dev_preds = np.array([sw*dpreds for sw, dpreds in zip(softmax_w, all_dev_preds)])\n",
    "weighted_dev_preds = np.sum(weighted_all_dev_preds, axis = 0)\n",
    "final_dev_preds = np.argmax(weighted_dev_preds, axis = 1)\n",
    "\n",
    "final_dev_pred_labels = [inverse_label_mapping[int(k)] for k in final_dev_preds]\n",
    "saved_model_filename = 'test_GA_fusion_malayalam'\n",
    "malayalam_test['labels'] = final_dev_pred_labels\n",
    "malayalam_test.index.name = 'id'\n",
    "malayalam_test.to_csv(\"/home/punyajoy/Dravidian_Offensive_Classification/test_preds/\" + saved_model_filename + \".tsv\", sep = '\\t')"
   ]
  },
  {
   "cell_type": "code",
   "execution_count": 70,
   "metadata": {},
   "outputs": [],
   "source": [
    "np.save(\"/home/punyajoy/Dravidian_Offensive_Classification/model_prediction_probs/\"+'GA_fusion_malayalam'+\".npy\", weighted_dev_preds)"
   ]
  },
  {
   "cell_type": "code",
   "execution_count": null,
   "metadata": {},
   "outputs": [],
   "source": []
  }
 ],
 "metadata": {
  "kernelspec": {
   "display_name": "Python [conda env:.conda-nlp]",
   "language": "python",
   "name": "conda-env-.conda-nlp-py"
  },
  "language_info": {
   "codemirror_mode": {
    "name": "ipython",
    "version": 3
   },
   "file_extension": ".py",
   "mimetype": "text/x-python",
   "name": "python",
   "nbconvert_exporter": "python",
   "pygments_lexer": "ipython3",
   "version": "3.7.9"
  }
 },
 "nbformat": 4,
 "nbformat_minor": 4
}
