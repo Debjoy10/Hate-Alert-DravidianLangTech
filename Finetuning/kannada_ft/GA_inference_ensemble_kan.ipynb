{
 "cells": [
  {
   "cell_type": "markdown",
   "metadata": {},
   "source": [
    "#### Imports and Data"
   ]
  },
  {
   "cell_type": "code",
   "execution_count": 2,
   "metadata": {},
   "outputs": [],
   "source": [
    "import pandas as pd\n",
    "import numpy as np"
   ]
  },
  {
   "cell_type": "code",
   "execution_count": 3,
   "metadata": {},
   "outputs": [],
   "source": [
    "# Reading CSV from link\n",
    "def read_csv_from_link(url):\n",
    "    path = 'https://drive.google.com/uc?export=download&id='+url.split('/')[-2]\n",
    "    df = pd.read_csv(path,delimiter=\"\\t\",error_bad_lines=False, header=None)\n",
    "    return df"
   ]
  },
  {
   "cell_type": "code",
   "execution_count": 4,
   "metadata": {},
   "outputs": [],
   "source": [
    "# Loading All Data\n",
    "tamil_train = read_csv_from_link('https://drive.google.com/file/d/15auwrFAlq52JJ61u7eSfnhT9rZtI5sjk/view?usp=sharing')\n",
    "tamil_dev = read_csv_from_link('https://drive.google.com/file/d/1Jme-Oftjm7OgfMNLKQs1mO_cnsQmznRI/view?usp=sharing')\n",
    "malayalam_train = read_csv_from_link('https://drive.google.com/file/d/13JCCr-IjZK7uhbLXeufptr_AxvsKinVl/view?usp=sharing')\n",
    "malayalam_dev = read_csv_from_link('https://drive.google.com/file/d/1J0msLpLoM6gmXkjC6DFeQ8CG_rrLvjnM/view?usp=sharing')\n",
    "kannada_train = read_csv_from_link('https://drive.google.com/file/d/1BFYF05rx-DK9Eb5hgoIgd6EcB8zOI-zu/view?usp=sharing')\n",
    "kannada_dev = read_csv_from_link('https://drive.google.com/file/d/1V077dMQvscqpUmcWTcFHqRa_vTy-bQ4H/view?usp=sharing')"
   ]
  },
  {
   "cell_type": "code",
   "execution_count": 5,
   "metadata": {},
   "outputs": [],
   "source": [
    "# Mal Preprocess\n",
    "kannada_train = kannada_train.iloc[:, 0:2]\n",
    "kannada_train = kannada_train.rename(columns={0: \"text\", 1: \"label\"})\n",
    "# Stats\n",
    "kannada_train['label'] = pd.Categorical(kannada_train.label)\n",
    "# Mal Preprocess\n",
    "kannada_dev = kannada_dev.iloc[:, 0:2]\n",
    "kannada_dev = kannada_dev.rename(columns={0: \"text\", 1: \"label\"})\n",
    "# Stats\n",
    "kannada_dev['label'] = pd.Categorical(kannada_dev.label)"
   ]
  },
  {
   "cell_type": "markdown",
   "metadata": {},
   "source": [
    "### Load Model"
   ]
  },
  {
   "cell_type": "code",
   "execution_count": 6,
   "metadata": {},
   "outputs": [],
   "source": [
    "import torch"
   ]
  },
  {
   "cell_type": "code",
   "execution_count": 6,
   "metadata": {
    "scrolled": true
   },
   "outputs": [
    {
     "name": "stdout",
     "output_type": "stream",
     "text": [
      "GPU Nos: 2\n",
      "Tesla P100-PCIE-12GB\n",
      "Tesla P100-PCIE-16GB\n"
     ]
    }
   ],
   "source": [
    "print(\"GPU Nos: {}\".format(torch.cuda.device_count()))\n",
    "print(torch.cuda.get_device_name(0))\n",
    "print(torch.cuda.get_device_name(1))\n",
    "\n",
    "# Change Device - CPU/GPU-0/GPU-1\n",
    "torch.cuda.set_device(0)\n",
    "device = 'cuda'\n",
    "device = device if torch.cuda.is_available() else 'cpu'"
   ]
  },
  {
   "cell_type": "markdown",
   "metadata": {},
   "source": [
    "## Enter Path of Saved model here in torch.load()"
   ]
  },
  {
   "cell_type": "code",
   "execution_count": 9,
   "metadata": {},
   "outputs": [],
   "source": [
    "saved_model_filenames = [\n",
    "    'XLMroberta_large_kannada.pth',\n",
    "    'MURIL_cased_temp_kannada.pth',\n",
    "    'Indic_bert_kannada.pth',\n",
    "    'Indic_bert_kannada_weighted.pth',\n",
    "    'MURIL_cased_temp_kannada_weighted.pth',\n",
    "    'XLMroberta_large_kannada_weighted.pth',\n",
    "    'Mbert_base_cased_kannada.pth',\n",
    "    'Distilbert_m_base_cased_kannada.pth',\n",
    "    'XLMroberta_custom_pretrained_kannada.pth',\n",
    "    'Mbert_base_cased_kannada_weighted.pth',\n",
    "    'Distilbert_m_base_cased_kannada_weighted.pth',\n",
    "    'XLMroberta_custom_pretrained_kannada_weighted.pth'\n",
    "]"
   ]
  },
  {
   "cell_type": "code",
   "execution_count": 10,
   "metadata": {},
   "outputs": [],
   "source": [
    "model_pretrained_keys = [\n",
    "    'xlm-roberta-large',\n",
    "    \"simran-kh/muril-cased-temp\",\n",
    "    'ai4bharat/indic-bert',\n",
    "    'ai4bharat/indic-bert',\n",
    "    \"simran-kh/muril-cased-temp\",\n",
    "    'xlm-roberta-large',\n",
    "    'bert-base-multilingual-cased',\n",
    "    'distilbert-base-multilingual-cased',\n",
    "    'xlm-roberta-base',\n",
    "    'bert-base-multilingual-cased',\n",
    "    'distilbert-base-multilingual-cased',\n",
    "    'xlm-roberta-base',\n",
    "]"
   ]
  },
  {
   "cell_type": "code",
   "execution_count": 11,
   "metadata": {},
   "outputs": [],
   "source": [
    "tokenizers = []\n",
    "models = []"
   ]
  },
  {
   "cell_type": "code",
   "execution_count": 13,
   "metadata": {
    "scrolled": true
   },
   "outputs": [
    {
     "name": "stderr",
     "output_type": "stream",
     "text": [
      "Some weights of the model checkpoint at xlm-roberta-large were not used when initializing XLMRobertaForSequenceClassification: ['lm_head.bias', 'lm_head.dense.weight', 'lm_head.dense.bias', 'lm_head.layer_norm.weight', 'lm_head.layer_norm.bias', 'lm_head.decoder.weight', 'roberta.pooler.dense.weight', 'roberta.pooler.dense.bias']\n",
      "- This IS expected if you are initializing XLMRobertaForSequenceClassification from the checkpoint of a model trained on another task or with another architecture (e.g. initializing a BertForSequenceClassification model from a BertForPreTraining model).\n",
      "- This IS NOT expected if you are initializing XLMRobertaForSequenceClassification from the checkpoint of a model that you expect to be exactly identical (initializing a BertForSequenceClassification model from a BertForSequenceClassification model).\n",
      "Some weights of XLMRobertaForSequenceClassification were not initialized from the model checkpoint at xlm-roberta-large and are newly initialized: ['classifier.dense.weight', 'classifier.dense.bias', 'classifier.out_proj.weight', 'classifier.out_proj.bias']\n",
      "You should probably TRAIN this model on a down-stream task to be able to use it for predictions and inference.\n",
      "Some weights of the model checkpoint at simran-kh/muril-cased-temp were not used when initializing BertForSequenceClassification: ['cls.predictions.bias', 'cls.predictions.transform.dense.weight', 'cls.predictions.transform.dense.bias', 'cls.predictions.transform.LayerNorm.weight', 'cls.predictions.transform.LayerNorm.bias', 'cls.predictions.decoder.weight', 'cls.predictions.decoder.bias', 'cls.seq_relationship.weight', 'cls.seq_relationship.bias']\n",
      "- This IS expected if you are initializing BertForSequenceClassification from the checkpoint of a model trained on another task or with another architecture (e.g. initializing a BertForSequenceClassification model from a BertForPreTraining model).\n",
      "- This IS NOT expected if you are initializing BertForSequenceClassification from the checkpoint of a model that you expect to be exactly identical (initializing a BertForSequenceClassification model from a BertForSequenceClassification model).\n",
      "Some weights of BertForSequenceClassification were not initialized from the model checkpoint at simran-kh/muril-cased-temp and are newly initialized: ['classifier.weight', 'classifier.bias']\n",
      "You should probably TRAIN this model on a down-stream task to be able to use it for predictions and inference.\n",
      "Some weights of the model checkpoint at ai4bharat/indic-bert were not used when initializing AlbertForSequenceClassification: ['predictions.bias', 'predictions.LayerNorm.weight', 'predictions.LayerNorm.bias', 'predictions.dense.weight', 'predictions.dense.bias', 'predictions.decoder.weight', 'predictions.decoder.bias', 'sop_classifier.classifier.weight', 'sop_classifier.classifier.bias']\n",
      "- This IS expected if you are initializing AlbertForSequenceClassification from the checkpoint of a model trained on another task or with another architecture (e.g. initializing a BertForSequenceClassification model from a BertForPreTraining model).\n",
      "- This IS NOT expected if you are initializing AlbertForSequenceClassification from the checkpoint of a model that you expect to be exactly identical (initializing a BertForSequenceClassification model from a BertForSequenceClassification model).\n",
      "Some weights of AlbertForSequenceClassification were not initialized from the model checkpoint at ai4bharat/indic-bert and are newly initialized: ['classifier.weight', 'classifier.bias']\n",
      "You should probably TRAIN this model on a down-stream task to be able to use it for predictions and inference.\n",
      "Some weights of the model checkpoint at ai4bharat/indic-bert were not used when initializing AlbertForSequenceClassification: ['predictions.bias', 'predictions.LayerNorm.weight', 'predictions.LayerNorm.bias', 'predictions.dense.weight', 'predictions.dense.bias', 'predictions.decoder.weight', 'predictions.decoder.bias', 'sop_classifier.classifier.weight', 'sop_classifier.classifier.bias']\n",
      "- This IS expected if you are initializing AlbertForSequenceClassification from the checkpoint of a model trained on another task or with another architecture (e.g. initializing a BertForSequenceClassification model from a BertForPreTraining model).\n",
      "- This IS NOT expected if you are initializing AlbertForSequenceClassification from the checkpoint of a model that you expect to be exactly identical (initializing a BertForSequenceClassification model from a BertForSequenceClassification model).\n",
      "Some weights of AlbertForSequenceClassification were not initialized from the model checkpoint at ai4bharat/indic-bert and are newly initialized: ['classifier.weight', 'classifier.bias']\n",
      "You should probably TRAIN this model on a down-stream task to be able to use it for predictions and inference.\n"
     ]
    }
   ],
   "source": [
    "# Loading Model\n",
    "from transformers import AutoTokenizer, AutoModelForSequenceClassification, BertTokenizer, BertForSequenceClassification\n",
    "\n",
    "for model_name, pretrained_key in zip(saved_model_filenames, model_pretrained_keys):\n",
    "    \n",
    "    if pretrained_key == 'distilbert-base-multilingual-cased':\n",
    "        tokenizer = BertTokenizer.from_pretrained(pretrained_key)\n",
    "        model = BertForSequenceClassification.from_pretrained(pretrained_key, num_labels=6)\n",
    "    else:\n",
    "        tokenizer = AutoTokenizer.from_pretrained(pretrained_key)\n",
    "        model = AutoModelForSequenceClassification.from_pretrained(pretrained_key, num_labels=6)\n",
    "        \n",
    "    state_dict = torch.load(os.path.join('../../finetuned_models/', model_name))\n",
    "    model.load_state_dict(state_dict)\n",
    "    model.eval()\n",
    "    \n",
    "    models.append(model)\n",
    "    tokenizers.append(tokenizer)"
   ]
  },
  {
   "cell_type": "markdown",
   "metadata": {},
   "source": [
    "### Dataset Stuff"
   ]
  },
  {
   "cell_type": "code",
   "execution_count": 13,
   "metadata": {
    "collapsed": true
   },
   "outputs": [
    {
     "ename": "NameError",
     "evalue": "name 'tokenizers' is not defined",
     "output_type": "error",
     "traceback": [
      "\u001b[0;31m---------------------------------------------------------------------------\u001b[0m",
      "\u001b[0;31mNameError\u001b[0m                                 Traceback (most recent call last)",
      "\u001b[0;32m<ipython-input-13-c3d38e38ad75>\u001b[0m in \u001b[0;36m<module>\u001b[0;34m\u001b[0m\n\u001b[1;32m     15\u001b[0m \u001b[0;34m\u001b[0m\u001b[0m\n\u001b[1;32m     16\u001b[0m \u001b[0;31m# Convert to Tensor\u001b[0m\u001b[0;34m\u001b[0m\u001b[0;34m\u001b[0m\u001b[0;34m\u001b[0m\u001b[0m\n\u001b[0;32m---> 17\u001b[0;31m \u001b[0mtrain_encodings\u001b[0m \u001b[0;34m=\u001b[0m \u001b[0;34m[\u001b[0m\u001b[0mtokenizer\u001b[0m\u001b[0;34m(\u001b[0m\u001b[0mtrain_batch_sentences\u001b[0m\u001b[0;34m,\u001b[0m \u001b[0mpadding\u001b[0m\u001b[0;34m=\u001b[0m\u001b[0;34m'max_length'\u001b[0m\u001b[0;34m,\u001b[0m \u001b[0mtruncation\u001b[0m\u001b[0;34m=\u001b[0m\u001b[0;32mTrue\u001b[0m\u001b[0;34m,\u001b[0m \u001b[0mmax_length\u001b[0m\u001b[0;34m=\u001b[0m\u001b[0;36m64\u001b[0m\u001b[0;34m,\u001b[0m \u001b[0mreturn_tensors\u001b[0m\u001b[0;34m=\u001b[0m\u001b[0;34m\"pt\"\u001b[0m\u001b[0;34m)\u001b[0m \u001b[0;32mfor\u001b[0m \u001b[0mtokenizer\u001b[0m \u001b[0;32min\u001b[0m \u001b[0mtokenizers\u001b[0m\u001b[0;34m]\u001b[0m\u001b[0;34m\u001b[0m\u001b[0;34m\u001b[0m\u001b[0m\n\u001b[0m\u001b[1;32m     18\u001b[0m \u001b[0mtrain_labels\u001b[0m \u001b[0;34m=\u001b[0m \u001b[0mtorch\u001b[0m\u001b[0;34m.\u001b[0m\u001b[0mtensor\u001b[0m\u001b[0;34m(\u001b[0m\u001b[0mtrain_batch_labels\u001b[0m\u001b[0;34m)\u001b[0m\u001b[0;34m\u001b[0m\u001b[0;34m\u001b[0m\u001b[0m\n\u001b[1;32m     19\u001b[0m \u001b[0mdev_encodings\u001b[0m \u001b[0;34m=\u001b[0m \u001b[0;34m[\u001b[0m\u001b[0mtokenizer\u001b[0m\u001b[0;34m(\u001b[0m\u001b[0mdev_batch_sentences\u001b[0m\u001b[0;34m,\u001b[0m \u001b[0mpadding\u001b[0m\u001b[0;34m=\u001b[0m\u001b[0;34m'max_length'\u001b[0m\u001b[0;34m,\u001b[0m \u001b[0mtruncation\u001b[0m\u001b[0;34m=\u001b[0m\u001b[0;32mTrue\u001b[0m\u001b[0;34m,\u001b[0m \u001b[0mmax_length\u001b[0m\u001b[0;34m=\u001b[0m\u001b[0;36m64\u001b[0m\u001b[0;34m,\u001b[0m \u001b[0mreturn_tensors\u001b[0m\u001b[0;34m=\u001b[0m\u001b[0;34m\"pt\"\u001b[0m\u001b[0;34m)\u001b[0m \u001b[0;32mfor\u001b[0m \u001b[0mtokenizer\u001b[0m \u001b[0;32min\u001b[0m \u001b[0mtokenizers\u001b[0m\u001b[0;34m]\u001b[0m\u001b[0;34m\u001b[0m\u001b[0;34m\u001b[0m\u001b[0m\n",
      "\u001b[0;31mNameError\u001b[0m: name 'tokenizers' is not defined"
     ]
    }
   ],
   "source": [
    "label_mapping = {\n",
    "    'Not_offensive': 0, \n",
    "    'not-Kannada': 1, \n",
    "    'Offensive_Targeted_Insult_Other': 2, \n",
    "    'Offensive_Targeted_Insult_Group': 3, \n",
    "    'Offensive_Untargetede': 4, \n",
    "    'Offensive_Targeted_Insult_Individual': 5\n",
    "}\n",
    "\n",
    "# Collecting Text and Labels\n",
    "train_batch_sentences = list(kannada_train['text'])\n",
    "train_batch_labels =  [label_mapping[x] for x in kannada_train['label']]\n",
    "dev_batch_sentences = list(kannada_dev['text'])\n",
    "dev_batch_labels =  [label_mapping[x] for x in kannada_dev['label']]\n",
    "\n",
    "# Convert to Tensor\n",
    "train_encodings = [tokenizer(train_batch_sentences, padding='max_length', truncation=True, max_length=64, return_tensors=\"pt\") for tokenizer in tokenizers]\n",
    "train_labels = torch.tensor(train_batch_labels)\n",
    "dev_encodings = [tokenizer(dev_batch_sentences, padding='max_length', truncation=True, max_length=64, return_tensors=\"pt\") for tokenizer in tokenizers]\n",
    "dev_labels = torch.tensor(dev_batch_labels)"
   ]
  },
  {
   "cell_type": "code",
   "execution_count": 15,
   "metadata": {},
   "outputs": [],
   "source": [
    "# Dataset\n",
    "from torch.utils.data import Dataset\n",
    "\n",
    "class Kannada_Offensive_Dataset(Dataset):\n",
    "    def __init__(self, encodings, labels, bpe = False):\n",
    "        self.encodings = encodings\n",
    "        self.labels = labels\n",
    "        self.is_bpe_tokenized = bpe\n",
    "\n",
    "    def __getitem__(self, idx):\n",
    "        if not self.is_bpe_tokenized:\n",
    "            item = {key: torch.tensor(val[idx]) for key, val in self.encodings.items()}\n",
    "        else:\n",
    "            item = {\n",
    "                'input_ids': torch.LongTensor(self.encodings[idx].ids),\n",
    "                'attention_mask': torch.LongTensor(self.encodings[idx].attention_mask)\n",
    "            }\n",
    "        item['labels'] = torch.tensor(self.labels[idx])\n",
    "        return item\n",
    "\n",
    "    def __len__(self):\n",
    "        return len(self.labels)\n",
    "    \n",
    "# Defining Datasets\n",
    "train_datasets = [Kannada_Offensive_Dataset(tenc, train_labels, bpe = False) for tenc in train_encodings]\n",
    "dev_datasets = [Kannada_Offensive_Dataset(denc, dev_labels, bpe = False) for denc in dev_encodings]"
   ]
  },
  {
   "cell_type": "markdown",
   "metadata": {},
   "source": [
    "### Get predictions"
   ]
  },
  {
   "cell_type": "code",
   "execution_count": 17,
   "metadata": {},
   "outputs": [
    {
     "data": {
      "application/vnd.jupyter.widget-view+json": {
       "model_id": "5aa4d820cb144b32bf9600b36f314ce3",
       "version_major": 2,
       "version_minor": 0
      },
      "text/plain": [
       "HBox(children=(HTML(value=''), FloatProgress(value=0.0, max=4.0), HTML(value='')))"
      ]
     },
     "metadata": {},
     "output_type": "display_data"
    },
    {
     "data": {
      "application/vnd.jupyter.widget-view+json": {
       "model_id": "888f121f3d374b5c8fcc7f2908f333eb",
       "version_major": 2,
       "version_minor": 0
      },
      "text/plain": [
       "HBox(children=(HTML(value=''), FloatProgress(value=0.0, max=49.0), HTML(value='')))"
      ]
     },
     "metadata": {},
     "output_type": "display_data"
    },
    {
     "name": "stderr",
     "output_type": "stream",
     "text": [
      "/home/punyajoy/.conda/envs/nlp/lib/python3.7/site-packages/ipykernel_launcher.py:12: UserWarning: To copy construct from a tensor, it is recommended to use sourceTensor.clone().detach() or sourceTensor.clone().detach().requires_grad_(True), rather than torch.tensor(sourceTensor).\n",
      "  if sys.path[0] == '':\n",
      "/home/punyajoy/.conda/envs/nlp/lib/python3.7/site-packages/ipykernel_launcher.py:18: UserWarning: To copy construct from a tensor, it is recommended to use sourceTensor.clone().detach() or sourceTensor.clone().detach().requires_grad_(True), rather than torch.tensor(sourceTensor).\n"
     ]
    },
    {
     "name": "stdout",
     "output_type": "stream",
     "text": [
      "\n"
     ]
    },
    {
     "data": {
      "application/vnd.jupyter.widget-view+json": {
       "model_id": "784b588465f44f809b8cb3c649f7303a",
       "version_major": 2,
       "version_minor": 0
      },
      "text/plain": [
       "HBox(children=(HTML(value=''), FloatProgress(value=0.0, max=49.0), HTML(value='')))"
      ]
     },
     "metadata": {},
     "output_type": "display_data"
    },
    {
     "name": "stdout",
     "output_type": "stream",
     "text": [
      "\n"
     ]
    },
    {
     "data": {
      "application/vnd.jupyter.widget-view+json": {
       "model_id": "3cf2a680d3514d2b856a05dcf8e665ac",
       "version_major": 2,
       "version_minor": 0
      },
      "text/plain": [
       "HBox(children=(HTML(value=''), FloatProgress(value=0.0, max=49.0), HTML(value='')))"
      ]
     },
     "metadata": {},
     "output_type": "display_data"
    },
    {
     "name": "stdout",
     "output_type": "stream",
     "text": [
      "\n"
     ]
    },
    {
     "data": {
      "application/vnd.jupyter.widget-view+json": {
       "model_id": "9a16af902ec347e0a1b4a807ebaca3dc",
       "version_major": 2,
       "version_minor": 0
      },
      "text/plain": [
       "HBox(children=(HTML(value=''), FloatProgress(value=0.0, max=49.0), HTML(value='')))"
      ]
     },
     "metadata": {},
     "output_type": "display_data"
    },
    {
     "name": "stdout",
     "output_type": "stream",
     "text": [
      "\n",
      "\n"
     ]
    }
   ],
   "source": [
    "from torch.utils.data import DataLoader\n",
    "from tqdm.notebook import tqdm\n",
    "from sklearn.metrics import classification_report, f1_score\n",
    "\n",
    "device = torch.device('cuda') if torch.cuda.is_available() else torch.device('cpu')\n",
    "all_dev_preds = []\n",
    "\n",
    "for model, dev_dataset in tqdm(zip(models, dev_datasets), total = len(models)):\n",
    "    model.to(device)\n",
    "    # Dataloaders\n",
    "    dev_loader = DataLoader(dev_dataset, batch_size=16, shuffle=False)\n",
    "\n",
    "    dev_preds = []\n",
    "    with torch.no_grad():\n",
    "        for batch in tqdm(dev_loader):\n",
    "            input_ids = batch['input_ids'].to(device)\n",
    "            attention_mask = batch['attention_mask'].to(device)\n",
    "            labels = batch['labels'].to(device)\n",
    "            outputs = model(input_ids, attention_mask=attention_mask, labels=labels)\n",
    "\n",
    "            for logits in outputs[1].cpu().numpy():\n",
    "                dev_preds.append(np.exp(logits)/np.sum(np.exp(logits)))\n",
    "    \n",
    "    # Add All together\n",
    "    all_dev_preds.append(dev_preds)"
   ]
  },
  {
   "cell_type": "markdown",
   "metadata": {},
   "source": [
    "#### SAVE PREDS"
   ]
  },
  {
   "cell_type": "code",
   "execution_count": 18,
   "metadata": {},
   "outputs": [],
   "source": [
    "for dev_preds, modelname in zip(all_dev_preds, saved_model_filenames):\n",
    "    np.save('../../model_prediction_probs/preds_'+modelname+'.npy', dev_preds)"
   ]
  },
  {
   "cell_type": "markdown",
   "metadata": {},
   "source": [
    "#### Load preds"
   ]
  },
  {
   "cell_type": "code",
   "execution_count": 7,
   "metadata": {},
   "outputs": [],
   "source": [
    "model_pretrained_keys = [\n",
    "    'xlm-roberta-base',\n",
    "    'distilbert-base-multilingual-cased',\n",
    "    'ai4bharat/indic-bert',\n",
    "    'distilbert-base-multilingual-cased',\n",
    "    'xlm-roberta-base',\n",
    "    \"simran-kh/muril-cased-temp\",\n",
    "    'xlm-roberta-large',    \n",
    "    'bert-base-multilingual-cased',\n",
    "    'bert-base-multilingual-cased',\n",
    "    'xlm-roberta-large',\n",
    "    'ai4bharat/indic-bert',\n",
    "    \"simran-kh/muril-cased-temp\",\n",
    "]"
   ]
  },
  {
   "cell_type": "code",
   "execution_count": 18,
   "metadata": {},
   "outputs": [
    {
     "data": {
      "text/plain": [
       "12"
      ]
     },
     "execution_count": 18,
     "metadata": {},
     "output_type": "execute_result"
    }
   ],
   "source": [
    "import os\n",
    "a = [x for x in os.listdir('../../model_prediction_probs/') if 'anna' in x and 'llate' not in x and 'only' not in x and 'fusion' not in x and x.startswith('pre') and 'self' not in x]\n",
    "len(a)"
   ]
  },
  {
   "cell_type": "code",
   "execution_count": 20,
   "metadata": {},
   "outputs": [
    {
     "name": "stdout",
     "output_type": "stream",
     "text": [
      "12\n"
     ]
    }
   ],
   "source": [
    "load_model_filenames = [\n",
    "    'XLMroberta_custom_pretrained_kannada.pth',\n",
    "    'Distilbert_m_base_cased_kannada_weighted.pth',\n",
    "    'Indic_bert_kannada_weighted.pth',\n",
    "    'Distilbert_m_base_cased_kannada.pth',\n",
    "    'XLMroberta_custom_pretrained_kannada_weighted.pth',\n",
    "    'MURIL_cased_temp_kannada.pth',\n",
    "    'XLMroberta_large_kannada_weighted.pth',\n",
    "    'Mbert_base_cased_kannada.pth',\n",
    "    'Mbert_base_cased_kannada_weighted.pth',\n",
    "    'XLMroberta_large_kannada.pth',\n",
    "    'Indic_bert_kannada.pth',\n",
    "    'MURIL_cased_temp_kannada_weighted.pth',\n",
    "]\n",
    "\n",
    "model_pretrained_keys = [\n",
    "    'xlm-roberta-base',\n",
    "    'distilbert-base-multilingual-cased',\n",
    "    'ai4bharat/indic-bert',\n",
    "    'distilbert-base-multilingual-cased',\n",
    "    'xlm-roberta-base',\n",
    "    \"simran-kh/muril-cased-temp\",\n",
    "    'xlm-roberta-large',    \n",
    "    'bert-base-multilingual-cased',\n",
    "    'bert-base-multilingual-cased',\n",
    "    'xlm-roberta-large',\n",
    "    'ai4bharat/indic-bert',\n",
    "    \"simran-kh/muril-cased-temp\",\n",
    "]\n",
    "\n",
    "print(len(load_model_filenames))\n",
    "\n",
    "all_dev_preds = []\n",
    "for modelname in load_model_filenames:\n",
    "    all_dev_preds.append(np.load('../../model_prediction_probs/preds_'+modelname+'.npy'))"
   ]
  },
  {
   "cell_type": "code",
   "execution_count": 21,
   "metadata": {},
   "outputs": [],
   "source": [
    "from sklearn.metrics import classification_report, f1_score"
   ]
  },
  {
   "cell_type": "code",
   "execution_count": 25,
   "metadata": {},
   "outputs": [
    {
     "name": "stdout",
     "output_type": "stream",
     "text": [
      "XLMroberta_custom_pretrained_kannada.pth\n",
      "                                      precision    recall  f1-score   support\n",
      "\n",
      "                       Not_offensive       0.79      0.80      0.80       426\n",
      "                         not-Kannada       0.74      0.81      0.77       191\n",
      "     Offensive_Targeted_Insult_Other       0.00      0.00      0.00        16\n",
      "     Offensive_Targeted_Insult_Group       0.37      0.49      0.42        45\n",
      "               Offensive_Untargetede       0.05      0.03      0.04        33\n",
      "Offensive_Targeted_Insult_Individual       0.63      0.59      0.61        66\n",
      "\n",
      "                            accuracy                           0.72       777\n",
      "                           macro avg       0.43      0.45      0.44       777\n",
      "                        weighted avg       0.69      0.72      0.70       777\n",
      "\n",
      "Distilbert_m_base_cased_kannada_weighted.pth\n",
      "                                      precision    recall  f1-score   support\n",
      "\n",
      "                       Not_offensive       0.77      0.76      0.76       426\n",
      "                         not-Kannada       0.74      0.69      0.71       191\n",
      "     Offensive_Targeted_Insult_Other       0.00      0.00      0.00        16\n",
      "     Offensive_Targeted_Insult_Group       0.29      0.38      0.33        45\n",
      "               Offensive_Untargetede       0.10      0.12      0.11        33\n",
      "Offensive_Targeted_Insult_Individual       0.57      0.62      0.59        66\n",
      "\n",
      "                            accuracy                           0.66       777\n",
      "                           macro avg       0.41      0.43      0.42       777\n",
      "                        weighted avg       0.67      0.66      0.67       777\n",
      "\n",
      "Indic_bert_kannada_weighted.pth\n",
      "                                      precision    recall  f1-score   support\n",
      "\n",
      "                       Not_offensive       0.78      0.46      0.58       426\n",
      "                         not-Kannada       0.67      0.83      0.74       191\n",
      "     Offensive_Targeted_Insult_Other       0.12      0.06      0.08        16\n",
      "     Offensive_Targeted_Insult_Group       0.20      0.60      0.30        45\n",
      "               Offensive_Untargetede       0.10      0.15      0.12        33\n",
      "Offensive_Targeted_Insult_Individual       0.32      0.47      0.38        66\n",
      "\n",
      "                            accuracy                           0.54       777\n",
      "                           macro avg       0.37      0.43      0.37       777\n",
      "                        weighted avg       0.64      0.54      0.56       777\n",
      "\n",
      "Distilbert_m_base_cased_kannada.pth\n",
      "                                      precision    recall  f1-score   support\n",
      "\n",
      "                       Not_offensive       0.77      0.80      0.78       426\n",
      "                         not-Kannada       0.70      0.78      0.74       191\n",
      "     Offensive_Targeted_Insult_Other       0.00      0.00      0.00        16\n",
      "     Offensive_Targeted_Insult_Group       0.41      0.20      0.27        45\n",
      "               Offensive_Untargetede       0.27      0.09      0.14        33\n",
      "Offensive_Targeted_Insult_Individual       0.49      0.67      0.57        66\n",
      "\n",
      "                            accuracy                           0.70       777\n",
      "                           macro avg       0.44      0.42      0.42       777\n",
      "                        weighted avg       0.67      0.70      0.68       777\n",
      "\n",
      "XLMroberta_custom_pretrained_kannada_weighted.pth\n",
      "                                      precision    recall  f1-score   support\n",
      "\n",
      "                       Not_offensive       0.78      0.74      0.76       426\n",
      "                         not-Kannada       0.69      0.80      0.74       191\n",
      "     Offensive_Targeted_Insult_Other       0.21      0.31      0.25        16\n",
      "     Offensive_Targeted_Insult_Group       0.45      0.22      0.30        45\n",
      "               Offensive_Untargetede       0.19      0.15      0.17        33\n",
      "Offensive_Targeted_Insult_Individual       0.51      0.59      0.55        66\n",
      "\n",
      "                            accuracy                           0.68       777\n",
      "                           macro avg       0.47      0.47      0.46       777\n",
      "                        weighted avg       0.68      0.68      0.67       777\n",
      "\n",
      "MURIL_cased_temp_kannada.pth\n",
      "                                      precision    recall  f1-score   support\n",
      "\n",
      "                       Not_offensive       0.77      0.76      0.76       426\n",
      "                         not-Kannada       0.68      0.76      0.72       191\n",
      "     Offensive_Targeted_Insult_Other       1.00      0.06      0.12        16\n",
      "     Offensive_Targeted_Insult_Group       0.40      0.27      0.32        45\n",
      "               Offensive_Untargetede       0.15      0.24      0.18        33\n",
      "Offensive_Targeted_Insult_Individual       0.56      0.50      0.53        66\n",
      "\n",
      "                            accuracy                           0.67       777\n",
      "                           macro avg       0.59      0.43      0.44       777\n",
      "                        weighted avg       0.69      0.67      0.67       777\n",
      "\n",
      "XLMroberta_large_kannada_weighted.pth\n",
      "                                      precision    recall  f1-score   support\n",
      "\n",
      "                       Not_offensive       0.50      0.00      0.00       426\n",
      "                         not-Kannada       0.73      0.14      0.24       191\n",
      "     Offensive_Targeted_Insult_Other       0.02      0.94      0.05        16\n",
      "     Offensive_Targeted_Insult_Group       0.00      0.00      0.00        45\n",
      "               Offensive_Untargetede       0.03      0.09      0.04        33\n",
      "Offensive_Targeted_Insult_Individual       0.00      0.00      0.00        66\n",
      "\n",
      "                            accuracy                           0.06       777\n",
      "                           macro avg       0.21      0.20      0.06       777\n",
      "                        weighted avg       0.46      0.06      0.06       777\n",
      "\n",
      "Mbert_base_cased_kannada.pth\n",
      "                                      precision    recall  f1-score   support\n",
      "\n",
      "                       Not_offensive       0.73      0.86      0.79       426\n",
      "                         not-Kannada       0.73      0.72      0.72       191\n",
      "     Offensive_Targeted_Insult_Other       1.00      0.06      0.12        16\n",
      "     Offensive_Targeted_Insult_Group       0.48      0.31      0.38        45\n",
      "               Offensive_Untargetede       0.28      0.15      0.20        33\n",
      "Offensive_Targeted_Insult_Individual       0.72      0.47      0.57        66\n",
      "\n",
      "                            accuracy                           0.71       777\n",
      "                           macro avg       0.66      0.43      0.46       777\n",
      "                        weighted avg       0.70      0.71      0.69       777\n",
      "\n",
      "Mbert_base_cased_kannada_weighted.pth\n",
      "                                      precision    recall  f1-score   support\n",
      "\n",
      "                       Not_offensive       0.79      0.64      0.71       426\n",
      "                         not-Kannada       0.71      0.80      0.75       191\n",
      "     Offensive_Targeted_Insult_Other       0.16      0.31      0.21        16\n",
      "     Offensive_Targeted_Insult_Group       0.26      0.36      0.30        45\n",
      "               Offensive_Untargetede       0.10      0.09      0.10        33\n",
      "Offensive_Targeted_Insult_Individual       0.46      0.65      0.54        66\n",
      "\n",
      "                            accuracy                           0.64       777\n",
      "                           macro avg       0.41      0.48      0.43       777\n",
      "                        weighted avg       0.67      0.64      0.65       777\n",
      "\n",
      "XLMroberta_large_kannada.pth\n",
      "                                      precision    recall  f1-score   support\n",
      "\n",
      "                       Not_offensive       0.76      0.84      0.80       426\n",
      "                         not-Kannada       0.71      0.85      0.78       191\n",
      "     Offensive_Targeted_Insult_Other       0.00      0.00      0.00        16\n",
      "     Offensive_Targeted_Insult_Group       0.29      0.31      0.30        45\n",
      "               Offensive_Untargetede       0.00      0.00      0.00        33\n",
      "Offensive_Targeted_Insult_Individual       0.74      0.35      0.47        66\n",
      "\n",
      "                            accuracy                           0.72       777\n",
      "                           macro avg       0.42      0.39      0.39       777\n",
      "                        weighted avg       0.67      0.72      0.69       777\n",
      "\n",
      "Indic_bert_kannada.pth\n",
      "                                      precision    recall  f1-score   support\n",
      "\n",
      "                       Not_offensive       0.70      0.76      0.73       426\n",
      "                         not-Kannada       0.71      0.70      0.71       191\n",
      "     Offensive_Targeted_Insult_Other       0.00      0.00      0.00        16\n",
      "     Offensive_Targeted_Insult_Group       0.19      0.33      0.25        45\n",
      "               Offensive_Untargetede       0.00      0.00      0.00        33\n",
      "Offensive_Targeted_Insult_Individual       0.45      0.36      0.40        66\n",
      "\n",
      "                            accuracy                           0.64       777\n",
      "                           macro avg       0.34      0.36      0.35       777\n",
      "                        weighted avg       0.61      0.64      0.62       777\n",
      "\n",
      "MURIL_cased_temp_kannada_weighted.pth\n",
      "                                      precision    recall  f1-score   support\n",
      "\n",
      "                       Not_offensive       0.83      0.55      0.67       426\n",
      "                         not-Kannada       0.65      0.81      0.72       191\n",
      "     Offensive_Targeted_Insult_Other       0.22      0.12      0.16        16\n",
      "     Offensive_Targeted_Insult_Group       0.20      0.27      0.23        45\n",
      "               Offensive_Untargetede       0.13      0.36      0.19        33\n",
      "Offensive_Targeted_Insult_Individual       0.48      0.65      0.55        66\n",
      "\n",
      "                            accuracy                           0.59       777\n",
      "                           macro avg       0.42      0.46      0.42       777\n",
      "                        weighted avg       0.68      0.59      0.61       777\n",
      "\n"
     ]
    },
    {
     "name": "stderr",
     "output_type": "stream",
     "text": [
      "/home/punyajoy/.conda/envs/nlp/lib/python3.7/site-packages/sklearn/metrics/_classification.py:1221: UndefinedMetricWarning: Precision and F-score are ill-defined and being set to 0.0 in labels with no predicted samples. Use `zero_division` parameter to control this behavior.\n",
      "  _warn_prf(average, modifier, msg_start, len(result))\n"
     ]
    }
   ],
   "source": [
    "label_mapping = {\n",
    "    'Not_offensive': 0, \n",
    "    'not-Kannada': 1, \n",
    "    'Offensive_Targeted_Insult_Other': 2, \n",
    "    'Offensive_Targeted_Insult_Group': 3, \n",
    "    'Offensive_Untargetede': 4, \n",
    "    'Offensive_Targeted_Insult_Individual': 5\n",
    "}\n",
    "\n",
    "# Collecting Text and Labels\n",
    "train_batch_sentences = list(kannada_train['text'])\n",
    "train_batch_labels =  [label_mapping[x] for x in kannada_train['label']]\n",
    "dev_batch_sentences = list(kannada_dev['text'])\n",
    "dev_batch_labels =  [label_mapping[x] for x in kannada_dev['label']]\n",
    "\n",
    "for dev_preds, mn in zip(all_dev_preds, load_model_filenames):\n",
    "    final_dev_preds = np.argmax(dev_preds, axis = 1)\n",
    "    y_true = dev_batch_labels\n",
    "    y_pred = final_dev_preds\n",
    "    target_names = label_mapping.keys()\n",
    "    report = classification_report(y_true, y_pred, target_names=target_names)\n",
    "    print(mn)\n",
    "    print(report)"
   ]
  },
  {
   "cell_type": "markdown",
   "metadata": {},
   "source": [
    "### Averaging Ensemble"
   ]
  },
  {
   "cell_type": "code",
   "execution_count": 10,
   "metadata": {},
   "outputs": [],
   "source": [
    "all_dev_preds = np.array(all_dev_preds)\n",
    "\n",
    "# Initialise Weights\n",
    "w = np.ones(all_dev_preds.shape[0])\n",
    "softmax_w = np.exp(w)/np.sum(np.exp(w))\n",
    "\n",
    "weighted_all_dev_preds = np.array([sw*dpreds for sw, dpreds in zip(softmax_w, all_dev_preds)])\n",
    "weighted_dev_preds = np.sum(weighted_all_dev_preds, axis = 0)\n",
    "final_dev_preds = np.argmax(weighted_dev_preds, axis = 1)"
   ]
  },
  {
   "cell_type": "code",
   "execution_count": 14,
   "metadata": {},
   "outputs": [],
   "source": [
    "label_mapping = {\n",
    "    'Not_offensive': 0, \n",
    "    'not-Kannada': 1, \n",
    "    'Offensive_Targeted_Insult_Other': 2, \n",
    "    'Offensive_Targeted_Insult_Group': 3, \n",
    "    'Offensive_Untargetede': 4, \n",
    "    'Offensive_Targeted_Insult_Individual': 5\n",
    "}\n",
    "\n",
    "# Collecting Text and Labels\n",
    "train_batch_sentences = list(kannada_train['text'])\n",
    "train_batch_labels =  [label_mapping[x] for x in kannada_train['label']]\n",
    "dev_batch_sentences = list(kannada_dev['text'])\n",
    "dev_batch_labels =  [label_mapping[x] for x in kannada_dev['label']]"
   ]
  },
  {
   "cell_type": "code",
   "execution_count": 15,
   "metadata": {},
   "outputs": [
    {
     "name": "stderr",
     "output_type": "stream",
     "text": [
      "/home/punyajoy/.conda/envs/nlp/lib/python3.7/site-packages/sklearn/metrics/_classification.py:1221: UndefinedMetricWarning: Precision and F-score are ill-defined and being set to 0.0 in labels with no predicted samples. Use `zero_division` parameter to control this behavior.\n",
      "  _warn_prf(average, modifier, msg_start, len(result))\n"
     ]
    }
   ],
   "source": [
    "y_true = dev_batch_labels\n",
    "y_pred = final_dev_preds\n",
    "target_names = label_mapping.keys()\n",
    "report = classification_report(y_true, y_pred, target_names=target_names)"
   ]
  },
  {
   "cell_type": "code",
   "execution_count": 16,
   "metadata": {
    "scrolled": true
   },
   "outputs": [
    {
     "name": "stdout",
     "output_type": "stream",
     "text": [
      "                                      precision    recall  f1-score   support\n",
      "\n",
      "                       Not_offensive       0.78      0.85      0.81       426\n",
      "                         not-Kannada       0.74      0.84      0.79       191\n",
      "     Offensive_Targeted_Insult_Other       0.00      0.00      0.00        16\n",
      "     Offensive_Targeted_Insult_Group       0.42      0.31      0.36        45\n",
      "               Offensive_Untargetede       0.43      0.09      0.15        33\n",
      "Offensive_Targeted_Insult_Individual       0.65      0.55      0.60        66\n",
      "\n",
      "                            accuracy                           0.74       777\n",
      "                           macro avg       0.50      0.44      0.45       777\n",
      "                        weighted avg       0.71      0.74      0.72       777\n",
      "\n"
     ]
    }
   ],
   "source": [
    "print(report)"
   ]
  },
  {
   "cell_type": "markdown",
   "metadata": {},
   "source": [
    "### Optimising with GA"
   ]
  },
  {
   "cell_type": "code",
   "execution_count": 23,
   "metadata": {},
   "outputs": [
    {
     "name": "stdout",
     "output_type": "stream",
     "text": [
      " The best solution found:                                                                           \n",
      " [2.45755889 1.81199597 0.46211092 1.63414761 2.65716323 1.27402854\n",
      " 4.01661441 3.30297596 2.12425989 0.70285799 0.745588   3.20394856]\n",
      "\n",
      " Objective function:\n",
      " 0.46137094358593855\n"
     ]
    },
    {
     "data": {
      "image/png": "[encoded data removed]",
      "text/plain": [
       "<Figure size 432x288 with 1 Axes>"
      ]
     },
     "metadata": {
      "needs_background": "light"
     },
     "output_type": "display_data"
    }
   ],
   "source": [
    "from geneticalgorithm import geneticalgorithm as ga\n",
    "\n",
    "def f(X):\n",
    "    softmax_w = np.exp(X)/np.sum(np.exp(X))\n",
    "    weighted_all_dev_preds = np.array([sw*dpreds for sw, dpreds in zip(softmax_w, all_dev_preds)])\n",
    "    weighted_dev_preds = np.sum(weighted_all_dev_preds, axis = 0)\n",
    "    final_dev_preds = np.argmax(weighted_dev_preds, axis = 1)\n",
    "\n",
    "    y_true = dev_batch_labels\n",
    "    y_pred = final_dev_preds\n",
    "    score = f1_score(y_true, y_pred, average='macro')\n",
    "    return 1-score\n",
    "\n",
    "varbound=np.array([[0, 5]]*all_dev_preds.shape[0])\n",
    "\n",
    "model=ga(function=f,dimension=all_dev_preds.shape[0],variable_type='real',variable_boundaries=varbound)\n",
    "\n",
    "model.run()"
   ]
  },
  {
   "cell_type": "code",
   "execution_count": 24,
   "metadata": {},
   "outputs": [],
   "source": [
    "convergence=model.report\n",
    "solution=model.output_dict"
   ]
  },
  {
   "cell_type": "code",
   "execution_count": 25,
   "metadata": {},
   "outputs": [
    {
     "data": {
      "text/plain": [
       "{'variable': array([2.45755889, 1.81199597, 0.46211092, 1.63414761, 2.65716323,\n",
       "        1.27402854, 4.01661441, 3.30297596, 2.12425989, 0.70285799,\n",
       "        0.745588  , 3.20394856]),\n",
       " 'function': 0.46137094358593855}"
      ]
     },
     "execution_count": 25,
     "metadata": {},
     "output_type": "execute_result"
    }
   ],
   "source": [
    "solution"
   ]
  },
  {
   "cell_type": "code",
   "execution_count": null,
   "metadata": {},
   "outputs": [],
   "source": [
    "X = solution['variable']"
   ]
  },
  {
   "cell_type": "code",
   "execution_count": 20,
   "metadata": {},
   "outputs": [],
   "source": [
    "import pickle\n",
    "saved_model_filename = 'GA_v1_kannada'\n",
    "\n",
    "with open(\"../../dev_preds/weights_\" + saved_model_filename + \".pickle\", 'rb') as handle:\n",
    "    mw = pickle.load(handle)\n",
    "    \n",
    "X = [mw[index][0] for index in mw.keys()]"
   ]
  },
  {
   "cell_type": "code",
   "execution_count": 21,
   "metadata": {},
   "outputs": [
    {
     "data": {
      "text/plain": [
       "[2.4575588857477992,\n",
       " 1.8119959704070476,\n",
       " 0.462110920903549,\n",
       " 1.6341476131375288,\n",
       " 2.65716323320213,\n",
       " 1.2740285448075563,\n",
       " 4.016614405001666,\n",
       " 3.302975964858024,\n",
       " 2.124259887478466,\n",
       " 0.7028579920165603,\n",
       " 0.7455879960046707,\n",
       " 3.2039485588581016]"
      ]
     },
     "execution_count": 21,
     "metadata": {},
     "output_type": "execute_result"
    }
   ],
   "source": [
    "X"
   ]
  },
  {
   "cell_type": "code",
   "execution_count": 22,
   "metadata": {},
   "outputs": [],
   "source": [
    "softmax_w = np.exp(X)/np.sum(np.exp(X))\n",
    "weighted_all_dev_preds = np.array([sw*dpreds for sw, dpreds in zip(softmax_w, all_dev_preds)])\n",
    "weighted_dev_preds = np.sum(weighted_all_dev_preds, axis = 0)\n",
    "final_dev_preds = np.argmax(weighted_dev_preds, axis = 1)\n",
    "\n",
    "y_true = dev_batch_labels\n",
    "y_pred = final_dev_preds\n",
    "target_names = label_mapping.keys()\n",
    "report = classification_report(y_true, y_pred, target_names=target_names)"
   ]
  },
  {
   "cell_type": "code",
   "execution_count": 23,
   "metadata": {
    "scrolled": false
   },
   "outputs": [
    {
     "name": "stdout",
     "output_type": "stream",
     "text": [
      "                                      precision    recall  f1-score   support\n",
      "\n",
      "                       Not_offensive       0.78      0.85      0.82       426\n",
      "                         not-Kannada       0.76      0.82      0.79       191\n",
      "     Offensive_Targeted_Insult_Other       0.75      0.19      0.30        16\n",
      "     Offensive_Targeted_Insult_Group       0.50      0.36      0.42        45\n",
      "               Offensive_Untargetede       0.46      0.18      0.26        33\n",
      "Offensive_Targeted_Insult_Individual       0.68      0.62      0.65        66\n",
      "\n",
      "                            accuracy                           0.75       777\n",
      "                           macro avg       0.66      0.50      0.54       777\n",
      "                        weighted avg       0.74      0.75      0.74       777\n",
      "\n"
     ]
    }
   ],
   "source": [
    "print(report)"
   ]
  },
  {
   "cell_type": "code",
   "execution_count": 24,
   "metadata": {},
   "outputs": [
    {
     "data": {
      "text/plain": [
       "0.5386290564140614"
      ]
     },
     "execution_count": 24,
     "metadata": {},
     "output_type": "execute_result"
    }
   ],
   "source": [
    "f1_score(y_true, y_pred, average='macro')"
   ]
  },
  {
   "cell_type": "markdown",
   "metadata": {},
   "source": [
    "### Save stuff"
   ]
  },
  {
   "cell_type": "code",
   "execution_count": 25,
   "metadata": {
    "scrolled": true
   },
   "outputs": [],
   "source": [
    "saved_model_filename = 'GA_v1_kannada'\n",
    "np.savetxt(\"../../dev_preds/\" + saved_model_filename + \".csv\", final_dev_preds, delimiter=\",\")"
   ]
  },
  {
   "cell_type": "code",
   "execution_count": 26,
   "metadata": {},
   "outputs": [],
   "source": [
    "np.save(\"../../model_prediction_probs/\"+saved_model_filename+\".npy\", weighted_dev_preds)"
   ]
  },
  {
   "cell_type": "code",
   "execution_count": 1,
   "metadata": {
    "collapsed": true
   },
   "outputs": [
    {
     "ename": "NameError",
     "evalue": "name 'load_model_filenames' is not defined",
     "output_type": "error",
     "traceback": [
      "\u001b[0;31m---------------------------------------------------------------------------\u001b[0m",
      "\u001b[0;31mNameError\u001b[0m                                 Traceback (most recent call last)",
      "\u001b[0;32m<ipython-input-1-df80b6c3c0d2>\u001b[0m in \u001b[0;36m<module>\u001b[0;34m\u001b[0m\n\u001b[0;32m----> 1\u001b[0;31m \u001b[0ma\u001b[0m \u001b[0;34m=\u001b[0m \u001b[0;34m{\u001b[0m\u001b[0mx\u001b[0m\u001b[0;34m:\u001b[0m\u001b[0;34m(\u001b[0m\u001b[0my\u001b[0m\u001b[0;34m,\u001b[0m\u001b[0mz\u001b[0m\u001b[0;34m)\u001b[0m \u001b[0;32mfor\u001b[0m \u001b[0mx\u001b[0m\u001b[0;34m,\u001b[0m \u001b[0my\u001b[0m\u001b[0;34m,\u001b[0m \u001b[0mz\u001b[0m \u001b[0;32min\u001b[0m \u001b[0mzip\u001b[0m\u001b[0;34m(\u001b[0m\u001b[0mload_model_filenames\u001b[0m\u001b[0;34m,\u001b[0m \u001b[0mnp\u001b[0m\u001b[0;34m.\u001b[0m\u001b[0marray\u001b[0m\u001b[0;34m(\u001b[0m\u001b[0msolution\u001b[0m\u001b[0;34m[\u001b[0m\u001b[0;34m'variable'\u001b[0m\u001b[0;34m]\u001b[0m\u001b[0;34m)\u001b[0m\u001b[0;34m,\u001b[0m \u001b[0mmodel_pretrained_keys\u001b[0m\u001b[0;34m)\u001b[0m\u001b[0;34m}\u001b[0m\u001b[0;34m\u001b[0m\u001b[0;34m\u001b[0m\u001b[0m\n\u001b[0m",
      "\u001b[0;31mNameError\u001b[0m: name 'load_model_filenames' is not defined"
     ]
    }
   ],
   "source": [
    "a = {x:(y,z) for x, y, z in zip(load_model_filenames, np.array(solution['variable']), model_pretrained_keys)}"
   ]
  },
  {
   "cell_type": "code",
   "execution_count": 2,
   "metadata": {
    "collapsed": true
   },
   "outputs": [
    {
     "ename": "NameError",
     "evalue": "name 'saved_model_filename' is not defined",
     "output_type": "error",
     "traceback": [
      "\u001b[0;31m---------------------------------------------------------------------------\u001b[0m",
      "\u001b[0;31mNameError\u001b[0m                                 Traceback (most recent call last)",
      "\u001b[0;32m<ipython-input-2-84bdf4aed05d>\u001b[0m in \u001b[0;36m<module>\u001b[0;34m\u001b[0m\n\u001b[1;32m      1\u001b[0m \u001b[0;32mimport\u001b[0m \u001b[0mpickle\u001b[0m\u001b[0;34m\u001b[0m\u001b[0;34m\u001b[0m\u001b[0m\n\u001b[0;32m----> 2\u001b[0;31m \u001b[0;32mwith\u001b[0m \u001b[0mopen\u001b[0m\u001b[0;34m(\u001b[0m\u001b[0;34m\"../../dev_preds/weights_\"\u001b[0m \u001b[0;34m+\u001b[0m \u001b[0msaved_model_filename\u001b[0m \u001b[0;34m+\u001b[0m \u001b[0;34m\".pickle\"\u001b[0m\u001b[0;34m,\u001b[0m \u001b[0;34m'wb'\u001b[0m\u001b[0;34m)\u001b[0m \u001b[0;32mas\u001b[0m \u001b[0mhandle\u001b[0m\u001b[0;34m:\u001b[0m\u001b[0;34m\u001b[0m\u001b[0;34m\u001b[0m\u001b[0m\n\u001b[0m\u001b[1;32m      3\u001b[0m     \u001b[0mpickle\u001b[0m\u001b[0;34m.\u001b[0m\u001b[0mdump\u001b[0m\u001b[0;34m(\u001b[0m\u001b[0ma\u001b[0m\u001b[0;34m,\u001b[0m \u001b[0mhandle\u001b[0m\u001b[0;34m,\u001b[0m \u001b[0mprotocol\u001b[0m\u001b[0;34m=\u001b[0m\u001b[0mpickle\u001b[0m\u001b[0;34m.\u001b[0m\u001b[0mHIGHEST_PROTOCOL\u001b[0m\u001b[0;34m)\u001b[0m\u001b[0;34m\u001b[0m\u001b[0;34m\u001b[0m\u001b[0m\n",
      "\u001b[0;31mNameError\u001b[0m: name 'saved_model_filename' is not defined"
     ]
    }
   ],
   "source": [
    "import pickle\n",
    "with open(\"../../dev_preds/weights_\" + saved_model_filename + \".pickle\", 'wb') as handle:\n",
    "    pickle.dump(a, handle, protocol=pickle.HIGHEST_PROTOCOL)"
   ]
  },
  {
   "cell_type": "code",
   "execution_count": null,
   "metadata": {},
   "outputs": [],
   "source": []
  }
 ],
 "metadata": {
  "kernelspec": {
   "display_name": "Python [conda env:.conda-nlp]",
   "language": "python",
   "name": "conda-env-.conda-nlp-py"
  },
  "language_info": {
   "codemirror_mode": {
    "name": "ipython",
    "version": 3
   },
   "file_extension": ".py",
   "mimetype": "text/x-python",
   "name": "python",
   "nbconvert_exporter": "python",
   "pygments_lexer": "ipython3",
   "version": "3.7.9"
  }
 },
 "nbformat": 4,
 "nbformat_minor": 4
}
