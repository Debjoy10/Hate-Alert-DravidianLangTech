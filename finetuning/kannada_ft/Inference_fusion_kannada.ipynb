{
 "cells": [
  {
   "cell_type": "code",
   "execution_count": 1,
   "metadata": {},
   "outputs": [],
   "source": [
    "import numpy as np\n",
    "import pandas as pd\n",
    "from sklearn.metrics import classification_report, f1_score"
   ]
  },
  {
   "cell_type": "code",
   "execution_count": null,
   "metadata": {},
   "outputs": [],
   "source": [
    "def read_csv_from_link(url):\n",
    "    path = 'https://drive.google.com/uc?export=download&id='+url.split('/')[-2]\n",
    "    df = pd.read_csv(path,delimiter=\"\\t\",error_bad_lines=False, header=None)\n",
    "    return df"
   ]
  },
  {
   "cell_type": "code",
   "execution_count": 2,
   "metadata": {},
   "outputs": [],
   "source": [
    "# Data and Label Mapping\n",
    "kannada_train = read_csv_from_link('https://drive.google.com/file/d/1BFYF05rx-DK9Eb5hgoIgd6EcB8zOI-zu/view?usp=sharing')\n",
    "kannada_dev = read_csv_from_link('https://drive.google.com/file/d/1V077dMQvscqpUmcWTcFHqRa_vTy-bQ4H/view?usp=sharing')\n",
    "\n",
    "# kannada Preprocess\n",
    "kannada_train = kannada_train.iloc[:, 0:2]\n",
    "kannada_train = kannada_train.rename(columns={0: \"text\", 1: \"label\"})\n",
    "# Stats\n",
    "kannada_train['label'] = pd.Categorical(kannada_train.label)\n",
    "# kannada Preprocess\n",
    "kannada_dev = kannada_dev.iloc[:, 0:2]\n",
    "kannada_dev = kannada_dev.rename(columns={0: \"text\", 1: \"label\"})\n",
    "# Stats\n",
    "kannada_dev['label'] = pd.Categorical(kannada_dev.label)\n",
    "\n",
    "label_mapping = {\n",
    "    'Not_offensive': 0, \n",
    "    'not-Kannada': 1, \n",
    "    'Offensive_Targeted_Insult_Other': 2, \n",
    "    'Offensive_Targeted_Insult_Group': 3, \n",
    "    'Offensive_Untargetede': 4, \n",
    "    'Offensive_Targeted_Insult_Individual': 5\n",
    "}\n",
    "\n",
    "dev_batch_labels =  [label_mapping[x] for x in kannada_dev['label']]\n",
    "target_names = label_mapping.keys()"
   ]
  },
  {
   "cell_type": "code",
   "execution_count": 3,
   "metadata": {},
   "outputs": [],
   "source": [
    "import os\n",
    "load_model_filenames = [x for x in os.listdir('./dev_preds/')]"
   ]
  },
  {
   "cell_type": "code",
   "execution_count": 4,
   "metadata": {
    "scrolled": true
   },
   "outputs": [
    {
     "data": {
      "text/plain": [
       "['fusion_kannada_XLMroberta_base_kannadaXLMroberta_custom_pretrained_kannadaMbert_base_cased_kannada_cnn_128.npy',\n",
       " 'fusion_kannada_XLMroberta_base_kannadaMbert_base_cased_kannada_cnn_128.npy',\n",
       " 'fusion_kannada_XLMroberta_base_kannadaMbert_base_cased_kannada_.npy',\n",
       " 'fusion_kannada_XLMroberta_base_kannadaXLMroberta_custom_pretrained_kannada_cnn_128.npy',\n",
       " 'fusion_kannada_XLMroberta_custom_pretrained_kannada_cnn_128.npy',\n",
       " 'fusion_kannada_XLMroberta_base_kannada_cnn_128.npy',\n",
       " 'fusion_kannada_XLMroberta_base_kannadaMbert_base_cased_kannadaMURIL_cased_temp_kannada_cnn_128.npy',\n",
       " 'fusion_kannada_XLMroberta_base_kannadaIndic_bert_kannada_.npy']"
      ]
     },
     "execution_count": 4,
     "metadata": {},
     "output_type": "execute_result"
    }
   ],
   "source": [
    "# Read ALL fusion predictions models\n",
    "load_model_filenames"
   ]
  },
  {
   "cell_type": "code",
   "execution_count": 7,
   "metadata": {},
   "outputs": [],
   "source": [
    "all_dev_preds = []\n",
    "all_dev_model_names = []\n",
    "for modelname in load_model_filenames:\n",
    "    if(\"ipynb\" not in modelname):\n",
    "        all_dev_model_names.append(modelname)\n",
    "        all_dev_preds.append(np.load('./dev_preds/' + modelname))"
   ]
  },
  {
   "cell_type": "code",
   "execution_count": 8,
   "metadata": {},
   "outputs": [
    {
     "name": "stdout",
     "output_type": "stream",
     "text": [
      "fusion_kannada_XLMroberta_base_kannadaXLMroberta_custom_pretrained_kannadaMbert_base_cased_kannada_cnn_128.npy\n",
      "                                      precision    recall  f1-score   support\n",
      "\n",
      "                       Not_offensive       0.80      0.79      0.79       426\n",
      "                         not-Kannada       0.73      0.86      0.79       191\n",
      "     Offensive_Targeted_Insult_Other       0.33      0.19      0.24        16\n",
      "     Offensive_Targeted_Insult_Group       0.35      0.36      0.35        45\n",
      "               Offensive_Untargetede       0.40      0.12      0.19        33\n",
      "Offensive_Targeted_Insult_Individual       0.56      0.56      0.56        66\n",
      "\n",
      "                            accuracy                           0.72       777\n",
      "                           macro avg       0.53      0.48      0.49       777\n",
      "                        weighted avg       0.71      0.72      0.71       777\n",
      "\n",
      "fusion_kannada_XLMroberta_base_kannadaMbert_base_cased_kannada_cnn_128.npy\n",
      "                                      precision    recall  f1-score   support\n",
      "\n",
      "                       Not_offensive       0.80      0.77      0.79       426\n",
      "                         not-Kannada       0.73      0.84      0.78       191\n",
      "     Offensive_Targeted_Insult_Other       0.25      0.06      0.10        16\n",
      "     Offensive_Targeted_Insult_Group       0.39      0.36      0.37        45\n",
      "               Offensive_Untargetede       0.17      0.27      0.21        33\n",
      "Offensive_Targeted_Insult_Individual       0.74      0.52      0.61        66\n",
      "\n",
      "                            accuracy                           0.71       777\n",
      "                           macro avg       0.51      0.47      0.48       777\n",
      "                        weighted avg       0.71      0.71      0.71       777\n",
      "\n",
      "fusion_kannada_XLMroberta_base_kannadaMbert_base_cased_kannada_.npy\n",
      "                                      precision    recall  f1-score   support\n",
      "\n",
      "                       Not_offensive       0.79      0.79      0.79       426\n",
      "                         not-Kannada       0.73      0.81      0.77       191\n",
      "     Offensive_Targeted_Insult_Other       0.11      0.19      0.14        16\n",
      "     Offensive_Targeted_Insult_Group       0.48      0.31      0.38        45\n",
      "               Offensive_Untargetede       0.25      0.24      0.25        33\n",
      "Offensive_Targeted_Insult_Individual       0.69      0.50      0.58        66\n",
      "\n",
      "                            accuracy                           0.71       777\n",
      "                           macro avg       0.51      0.47      0.48       777\n",
      "                        weighted avg       0.71      0.71      0.71       777\n",
      "\n",
      "fusion_kannada_XLMroberta_base_kannadaXLMroberta_custom_pretrained_kannada_cnn_128.npy\n",
      "                                      precision    recall  f1-score   support\n",
      "\n",
      "                       Not_offensive       0.82      0.77      0.79       426\n",
      "                         not-Kannada       0.72      0.87      0.79       191\n",
      "     Offensive_Targeted_Insult_Other       0.00      0.00      0.00        16\n",
      "     Offensive_Targeted_Insult_Group       0.38      0.29      0.33        45\n",
      "               Offensive_Untargetede       0.19      0.24      0.21        33\n",
      "Offensive_Targeted_Insult_Individual       0.55      0.59      0.57        66\n",
      "\n",
      "                            accuracy                           0.71       777\n",
      "                           macro avg       0.44      0.46      0.45       777\n",
      "                        weighted avg       0.70      0.71      0.71       777\n",
      "\n",
      "fusion_kannada_XLMroberta_custom_pretrained_kannada_cnn_128.npy\n",
      "                                      precision    recall  f1-score   support\n",
      "\n",
      "                       Not_offensive       0.80      0.81      0.80       426\n",
      "                         not-Kannada       0.74      0.82      0.78       191\n",
      "     Offensive_Targeted_Insult_Other       0.08      0.06      0.07        16\n",
      "     Offensive_Targeted_Insult_Group       0.34      0.42      0.38        45\n",
      "               Offensive_Untargetede       0.29      0.12      0.17        33\n",
      "Offensive_Targeted_Insult_Individual       0.69      0.58      0.63        66\n",
      "\n",
      "                            accuracy                           0.72       777\n",
      "                           macro avg       0.49      0.47      0.47       777\n",
      "                        weighted avg       0.71      0.72      0.72       777\n",
      "\n",
      "fusion_kannada_XLMroberta_base_kannada_cnn_128.npy\n",
      "                                      precision    recall  f1-score   support\n",
      "\n",
      "                       Not_offensive       0.83      0.73      0.78       426\n",
      "                         not-Kannada       0.71      0.89      0.79       191\n",
      "     Offensive_Targeted_Insult_Other       0.29      0.12      0.17        16\n",
      "     Offensive_Targeted_Insult_Group       0.27      0.31      0.29        45\n",
      "               Offensive_Untargetede       0.12      0.09      0.11        33\n",
      "Offensive_Targeted_Insult_Individual       0.53      0.62      0.57        66\n",
      "\n",
      "                            accuracy                           0.70       777\n",
      "                           macro avg       0.46      0.46      0.45       777\n",
      "                        weighted avg       0.70      0.70      0.69       777\n",
      "\n",
      "fusion_kannada_XLMroberta_base_kannadaMbert_base_cased_kannadaMURIL_cased_temp_kannada_cnn_128.npy\n",
      "                                      precision    recall  f1-score   support\n",
      "\n",
      "                       Not_offensive       0.81      0.76      0.78       426\n",
      "                         not-Kannada       0.75      0.78      0.77       191\n",
      "     Offensive_Targeted_Insult_Other       0.33      0.12      0.18        16\n",
      "     Offensive_Targeted_Insult_Group       0.35      0.38      0.37        45\n",
      "               Offensive_Untargetede       0.14      0.21      0.17        33\n",
      "Offensive_Targeted_Insult_Individual       0.55      0.65      0.60        66\n",
      "\n",
      "                            accuracy                           0.70       777\n",
      "                           macro avg       0.49      0.48      0.48       777\n",
      "                        weighted avg       0.71      0.70      0.70       777\n",
      "\n",
      "fusion_kannada_XLMroberta_base_kannadaIndic_bert_kannada_.npy\n",
      "                                      precision    recall  f1-score   support\n",
      "\n",
      "                       Not_offensive       0.81      0.75      0.78       426\n",
      "                         not-Kannada       0.71      0.86      0.78       191\n",
      "     Offensive_Targeted_Insult_Other       0.10      0.12      0.11        16\n",
      "     Offensive_Targeted_Insult_Group       0.40      0.38      0.39        45\n",
      "               Offensive_Untargetede       0.15      0.06      0.09        33\n",
      "Offensive_Targeted_Insult_Individual       0.54      0.59      0.57        66\n",
      "\n",
      "                            accuracy                           0.70       777\n",
      "                           macro avg       0.45      0.46      0.45       777\n",
      "                        weighted avg       0.69      0.70      0.69       777\n",
      "\n"
     ]
    }
   ],
   "source": [
    "# Collecting Text and Labels\n",
    "dev_batch_sentences = list(kannada_dev['text'])\n",
    "dev_batch_labels =  [label_mapping[x] for x in kannada_dev['label']]\n",
    "\n",
    "for dev_preds, mn in zip(all_dev_preds, all_dev_model_names):\n",
    "    final_dev_preds = np.argmax(dev_preds, axis = 1)\n",
    "    y_true = dev_batch_labels\n",
    "    y_pred = final_dev_preds\n",
    "    target_names = label_mapping.keys()\n",
    "    report = classification_report(y_true, y_pred, target_names=target_names)\n",
    "    print(mn)\n",
    "    print(report)"
   ]
  },
  {
   "cell_type": "code",
   "execution_count": null,
   "metadata": {},
   "outputs": [],
   "source": [
    "# Averaging Ensemble"
   ]
  },
  {
   "cell_type": "code",
   "execution_count": 9,
   "metadata": {},
   "outputs": [
    {
     "name": "stdout",
     "output_type": "stream",
     "text": [
      "                                      precision    recall  f1-score   support\n",
      "\n",
      "                       Not_offensive       0.81      0.81      0.81       426\n",
      "                         not-Kannada       0.74      0.85      0.79       191\n",
      "     Offensive_Targeted_Insult_Other       0.50      0.06      0.11        16\n",
      "     Offensive_Targeted_Insult_Group       0.39      0.40      0.40        45\n",
      "               Offensive_Untargetede       0.22      0.18      0.20        33\n",
      "Offensive_Targeted_Insult_Individual       0.66      0.59      0.62        66\n",
      "\n",
      "                            accuracy                           0.73       777\n",
      "                           macro avg       0.55      0.48      0.49       777\n",
      "                        weighted avg       0.72      0.73      0.72       777\n",
      "\n"
     ]
    }
   ],
   "source": [
    "all_dev_preds = np.array(all_dev_preds)\n",
    "# Initialise Weights\n",
    "w = np.ones(all_dev_preds.shape[0])\n",
    "softmax_w = np.exp(w)/np.sum(np.exp(w))\n",
    "\n",
    "weighted_all_dev_preds = np.array([sw*dpreds for sw, dpreds in zip(softmax_w, all_dev_preds)])\n",
    "weighted_dev_preds = np.sum(weighted_all_dev_preds, axis = 0)\n",
    "final_dev_preds = np.argmax(weighted_dev_preds, axis = 1)\n",
    "\n",
    "y_true = dev_batch_labels\n",
    "y_pred = final_dev_preds\n",
    "target_names = label_mapping.keys()\n",
    "report = classification_report(y_true, y_pred, target_names=target_names)\n",
    "print(report)"
   ]
  },
  {
   "cell_type": "code",
   "execution_count": null,
   "metadata": {},
   "outputs": [],
   "source": [
    "# GA-weighted ensemble"
   ]
  },
  {
   "cell_type": "code",
   "execution_count": 10,
   "metadata": {},
   "outputs": [
    {
     "name": "stdout",
     "output_type": "stream",
     "text": [
      " The best solution found:                                                                           \n",
      " [4.03997823 1.83412154 2.04013947 2.05531012 0.02925574 1.55985391\n",
      " 4.24512147 2.06835945]\n",
      "\n",
      " Objective function:\n",
      " 0.48640022361799196\n"
     ]
    },
    {
     "data": {
      "image/png": "[encoded data removed]",
      "text/plain": [
       "<Figure size 432x288 with 1 Axes>"
      ]
     },
     "metadata": {
      "needs_background": "light"
     },
     "output_type": "display_data"
    }
   ],
   "source": [
    "from geneticalgorithm import geneticalgorithm as ga\n",
    "\n",
    "def f(X):\n",
    "    softmax_w = np.exp(X)/np.sum(np.exp(X))\n",
    "    weighted_all_dev_preds = np.array([sw*dpreds for sw, dpreds in zip(softmax_w, all_dev_preds)])\n",
    "    weighted_dev_preds = np.sum(weighted_all_dev_preds, axis = 0)\n",
    "    final_dev_preds = np.argmax(weighted_dev_preds, axis = 1)\n",
    "\n",
    "    y_true = dev_batch_labels\n",
    "    y_pred = final_dev_preds\n",
    "    score = f1_score(y_true, y_pred, average='macro')\n",
    "    return 1-score\n",
    "\n",
    "varbound=np.array([[0, 5]]*all_dev_preds.shape[0])\n",
    "\n",
    "model=ga(function=f,dimension=all_dev_preds.shape[0],variable_type='real',variable_boundaries=varbound)\n",
    "\n",
    "model.run()"
   ]
  },
  {
   "cell_type": "code",
   "execution_count": 11,
   "metadata": {},
   "outputs": [
    {
     "name": "stdout",
     "output_type": "stream",
     "text": [
      "                                      precision    recall  f1-score   support\n",
      "\n",
      "                       Not_offensive       0.81      0.81      0.81       426\n",
      "                         not-Kannada       0.75      0.85      0.80       191\n",
      "     Offensive_Targeted_Insult_Other       0.50      0.12      0.20        16\n",
      "     Offensive_Targeted_Insult_Group       0.44      0.44      0.44        45\n",
      "               Offensive_Untargetede       0.21      0.18      0.19        33\n",
      "Offensive_Targeted_Insult_Individual       0.65      0.62      0.64        66\n",
      "\n",
      "                            accuracy                           0.74       777\n",
      "                           macro avg       0.56      0.50      0.51       777\n",
      "                        weighted avg       0.73      0.74      0.73       777\n",
      "\n"
     ]
    },
    {
     "data": {
      "text/plain": [
       "0.513599776382008"
      ]
     },
     "execution_count": 11,
     "metadata": {},
     "output_type": "execute_result"
    }
   ],
   "source": [
    "convergence=model.report\n",
    "solution=model.output_dict\n",
    "\n",
    "X = solution['variable']\n",
    "softmax_w = np.exp(X)/np.sum(np.exp(X))\n",
    "weighted_all_dev_preds = np.array([sw*dpreds for sw, dpreds in zip(softmax_w, all_dev_preds)])\n",
    "weighted_dev_preds = np.sum(weighted_all_dev_preds, axis = 0)\n",
    "final_dev_preds = np.argmax(weighted_dev_preds, axis = 1)\n",
    "\n",
    "y_true = dev_batch_labels\n",
    "y_pred = final_dev_preds\n",
    "target_names = label_mapping.keys()\n",
    "report = classification_report(y_true, y_pred, target_names=target_names)\n",
    "\n",
    "print(report)\n",
    "f1_score(y_true, y_pred, average='macro')"
   ]
  },
  {
   "cell_type": "code",
   "execution_count": 12,
   "metadata": {},
   "outputs": [],
   "source": [
    "model_pretrained_keys = ['']*8  # NOT REQUIRED"
   ]
  },
  {
   "cell_type": "code",
   "execution_count": 13,
   "metadata": {},
   "outputs": [],
   "source": [
    "saved_model_filename = 'self_ensemble_kannada'\n",
    "\n",
    "a = {x:(y,z) for x, y, z in zip(load_model_filenames, np.array(solution['variable']), model_pretrained_keys)}\n",
    "import pickle\n",
    "with open(\"/home/punyajoy/Dravidian_Offensive_Classification/dev_preds/weights_\" + saved_model_filename + \".pickle\", 'wb') as handle:\n",
    "    pickle.dump(a, handle, protocol=pickle.HIGHEST_PROTOCOL)"
   ]
  },
  {
   "cell_type": "code",
   "execution_count": 9,
   "metadata": {},
   "outputs": [
    {
     "name": "stderr",
     "output_type": "stream",
     "text": [
      "b'Skipping line 778: expected 2 fields, saw 3\\n'\n"
     ]
    }
   ],
   "source": [
    "# Test with Labels\n",
    "tamil_test = read_csv_from_link('https://drive.google.com/file/d/10RHrqXvIKMdnvN_tVJa_FAm41zaeC8WN/view?usp=sharing')\n",
    "malayalam_test = read_csv_from_link('https://drive.google.com/file/d/1zx1wCC9A-Pp80mzbqixb52WlWQQ7ATyJ/view?usp=sharing')\n",
    "kannada_test = read_csv_from_link('https://drive.google.com/file/d/1Px2CvIkLP_xaNhz_fCofW-7GGBCnSYsa/view?usp=sharing')\n",
    "\n",
    "# Kannada Preprocess\n",
    "kannada_test = kannada_test.iloc[:, 0:2]\n",
    "kannada_test = kannada_test.rename(columns={0: \"text\", 1: \"label\"})"
   ]
  },
  {
   "cell_type": "code",
   "execution_count": 10,
   "metadata": {
    "scrolled": true
   },
   "outputs": [
    {
     "data": {
      "text/plain": [
       "(777, 2)"
      ]
     },
     "execution_count": 10,
     "metadata": {},
     "output_type": "execute_result"
    }
   ],
   "source": [
    "kannada_test.shape"
   ]
  },
  {
   "cell_type": "code",
   "execution_count": 18,
   "metadata": {},
   "outputs": [
    {
     "data": {
      "text/plain": [
       "(777, 2)"
      ]
     },
     "execution_count": 18,
     "metadata": {},
     "output_type": "execute_result"
    }
   ],
   "source": [
    "kannada_dev.shape"
   ]
  },
  {
   "cell_type": "code",
   "execution_count": 17,
   "metadata": {},
   "outputs": [],
   "source": [
    "import pickle\n",
    "saved_model_filename = 'self_ensemble_kannada'\n",
    "\n",
    "with open(\"/home/punyajoy/Dravidian_Offensive_Classification/dev_preds/weights_\" + saved_model_filename + \".pickle\", 'rb') as handle:\n",
    "    mw = pickle.load(handle)"
   ]
  },
  {
   "cell_type": "code",
   "execution_count": 12,
   "metadata": {},
   "outputs": [],
   "source": [
    "import os\n",
    "load_model_filenames = [x for x in os.listdir('/home/punyajoy/Dravidian_Offensive_Classification/finetuning/kannada_ft/dev_preds/')]"
   ]
  },
  {
   "cell_type": "code",
   "execution_count": 19,
   "metadata": {},
   "outputs": [
    {
     "name": "stdout",
     "output_type": "stream",
     "text": [
      "(778, 6) fusion_kannada_XLMroberta_base_kannadaXLMroberta_custom_pretrained_kannadaMbert_base_cased_kannada_cnn_128.npy\n",
      "(778, 6) fusion_kannada_XLMroberta_base_kannadaMbert_base_cased_kannada_cnn_128.npy\n",
      "(778, 6) fusion_kannada_XLMroberta_base_kannadaMbert_base_cased_kannada_.npy\n",
      "(778, 6) fusion_kannada_XLMroberta_base_kannadaXLMroberta_custom_pretrained_kannada_cnn_128.npy\n",
      "(778, 6) fusion_kannada_XLMroberta_custom_pretrained_kannada_cnn_128.npy\n",
      "(778, 6) fusion_kannada_XLMroberta_base_kannada_cnn_128.npy\n",
      "(778, 6) fusion_kannada_XLMroberta_base_kannadaMbert_base_cased_kannadaMURIL_cased_temp_kannada_cnn_128.npy\n",
      "(778, 6) fusion_kannada_XLMroberta_base_kannadaIndic_bert_kannada_.npy\n"
     ]
    }
   ],
   "source": [
    "all_test_preds = []\n",
    "all_model_names = []\n",
    "for modelname in load_model_filenames:\n",
    "    if(\"ipynb\" not in modelname):\n",
    "        a = np.load('/home/punyajoy/Dravidian_Offensive_Classification/finetuning/kannada_ft/test_preds/' + modelname)\n",
    "        all_test_preds.append(a[:-1])\n",
    "        all_model_names.append(modelname)\n",
    "        print(a.shape,modelname)"
   ]
  },
  {
   "cell_type": "code",
   "execution_count": 20,
   "metadata": {},
   "outputs": [
    {
     "data": {
      "text/plain": [
       "777"
      ]
     },
     "execution_count": 20,
     "metadata": {},
     "output_type": "execute_result"
    }
   ],
   "source": [
    "len(all_test_preds[0])"
   ]
  },
  {
   "cell_type": "code",
   "execution_count": 22,
   "metadata": {},
   "outputs": [
    {
     "name": "stdout",
     "output_type": "stream",
     "text": [
      "fusion_kannada_XLMroberta_base_kannadaXLMroberta_custom_pretrained_kannadaMbert_base_cased_kannada_cnn_128.npy\n",
      "                                      precision    recall  f1-score   support\n",
      "\n",
      "                       Not_offensive       0.80      0.80      0.80       426\n",
      "                         not-Kannada       0.73      0.89      0.80       185\n",
      "     Offensive_Targeted_Insult_Other       0.11      0.07      0.09        14\n",
      "     Offensive_Targeted_Insult_Group       0.38      0.30      0.33        44\n",
      "               Offensive_Untargetede       0.09      0.03      0.05        33\n",
      "Offensive_Targeted_Insult_Individual       0.66      0.65      0.66        75\n",
      "\n",
      "                            accuracy                           0.73       777\n",
      "                           macro avg       0.46      0.46      0.45       777\n",
      "                        weighted avg       0.71      0.73      0.72       777\n",
      "\n",
      "fusion_kannada_XLMroberta_base_kannadaMbert_base_cased_kannada_cnn_128.npy\n",
      "                                      precision    recall  f1-score   support\n",
      "\n",
      "                       Not_offensive       0.79      0.77      0.78       426\n",
      "                         not-Kannada       0.71      0.84      0.77       185\n",
      "     Offensive_Targeted_Insult_Other       0.11      0.07      0.09        14\n",
      "     Offensive_Targeted_Insult_Group       0.43      0.34      0.38        44\n",
      "               Offensive_Untargetede       0.09      0.12      0.11        33\n",
      "Offensive_Targeted_Insult_Individual       0.78      0.60      0.68        75\n",
      "\n",
      "                            accuracy                           0.70       777\n",
      "                           macro avg       0.48      0.46      0.47       777\n",
      "                        weighted avg       0.71      0.70      0.70       777\n",
      "\n",
      "fusion_kannada_XLMroberta_base_kannadaMbert_base_cased_kannada_.npy\n",
      "                                      precision    recall  f1-score   support\n",
      "\n",
      "                       Not_offensive       0.80      0.80      0.80       426\n",
      "                         not-Kannada       0.73      0.85      0.79       185\n",
      "     Offensive_Targeted_Insult_Other       0.17      0.29      0.22        14\n",
      "     Offensive_Targeted_Insult_Group       0.39      0.20      0.27        44\n",
      "               Offensive_Untargetede       0.15      0.12      0.14        33\n",
      "Offensive_Targeted_Insult_Individual       0.72      0.59      0.65        75\n",
      "\n",
      "                            accuracy                           0.72       777\n",
      "                           macro avg       0.49      0.48      0.48       777\n",
      "                        weighted avg       0.71      0.72      0.71       777\n",
      "\n",
      "fusion_kannada_XLMroberta_base_kannadaXLMroberta_custom_pretrained_kannada_cnn_128.npy\n",
      "                                      precision    recall  f1-score   support\n",
      "\n",
      "                       Not_offensive       0.83      0.78      0.80       426\n",
      "                         not-Kannada       0.74      0.92      0.82       185\n",
      "     Offensive_Targeted_Insult_Other       0.00      0.00      0.00        14\n",
      "     Offensive_Targeted_Insult_Group       0.39      0.32      0.35        44\n",
      "               Offensive_Untargetede       0.15      0.15      0.15        33\n",
      "Offensive_Targeted_Insult_Individual       0.68      0.67      0.67        75\n",
      "\n",
      "                            accuracy                           0.74       777\n",
      "                           macro avg       0.46      0.47      0.47       777\n",
      "                        weighted avg       0.72      0.74      0.73       777\n",
      "\n",
      "fusion_kannada_XLMroberta_custom_pretrained_kannada_cnn_128.npy\n",
      "                                      precision    recall  f1-score   support\n",
      "\n",
      "                       Not_offensive       0.81      0.80      0.81       426\n",
      "                         not-Kannada       0.73      0.89      0.80       185\n",
      "     Offensive_Targeted_Insult_Other       0.33      0.14      0.20        14\n",
      "     Offensive_Targeted_Insult_Group       0.36      0.36      0.36        44\n",
      "               Offensive_Untargetede       0.20      0.09      0.13        33\n",
      "Offensive_Targeted_Insult_Individual       0.67      0.60      0.63        75\n",
      "\n",
      "                            accuracy                           0.74       777\n",
      "                           macro avg       0.52      0.48      0.49       777\n",
      "                        weighted avg       0.72      0.74      0.72       777\n",
      "\n",
      "fusion_kannada_XLMroberta_base_kannada_cnn_128.npy\n",
      "                                      precision    recall  f1-score   support\n",
      "\n",
      "                       Not_offensive       0.84      0.75      0.79       426\n",
      "                         not-Kannada       0.73      0.90      0.81       185\n",
      "     Offensive_Targeted_Insult_Other       0.00      0.00      0.00        14\n",
      "     Offensive_Targeted_Insult_Group       0.26      0.41      0.32        44\n",
      "               Offensive_Untargetede       0.14      0.09      0.11        33\n",
      "Offensive_Targeted_Insult_Individual       0.63      0.65      0.64        75\n",
      "\n",
      "                            accuracy                           0.72       777\n",
      "                           macro avg       0.43      0.47      0.44       777\n",
      "                        weighted avg       0.72      0.72      0.71       777\n",
      "\n",
      "fusion_kannada_XLMroberta_base_kannadaMbert_base_cased_kannadaMURIL_cased_temp_kannada_cnn_128.npy\n",
      "                                      precision    recall  f1-score   support\n",
      "\n",
      "                       Not_offensive       0.84      0.77      0.80       426\n",
      "                         not-Kannada       0.76      0.82      0.79       185\n",
      "     Offensive_Targeted_Insult_Other       0.00      0.00      0.00        14\n",
      "     Offensive_Targeted_Insult_Group       0.35      0.41      0.38        44\n",
      "               Offensive_Untargetede       0.16      0.24      0.20        33\n",
      "Offensive_Targeted_Insult_Individual       0.64      0.71      0.67        75\n",
      "\n",
      "                            accuracy                           0.72       777\n",
      "                           macro avg       0.46      0.49      0.47       777\n",
      "                        weighted avg       0.73      0.72      0.72       777\n",
      "\n",
      "fusion_kannada_XLMroberta_base_kannadaIndic_bert_kannada_.npy\n",
      "                                      precision    recall  f1-score   support\n",
      "\n",
      "                       Not_offensive       0.82      0.77      0.80       426\n",
      "                         not-Kannada       0.74      0.89      0.81       185\n",
      "     Offensive_Targeted_Insult_Other       0.08      0.14      0.10        14\n",
      "     Offensive_Targeted_Insult_Group       0.33      0.32      0.32        44\n",
      "               Offensive_Untargetede       0.14      0.06      0.09        33\n",
      "Offensive_Targeted_Insult_Individual       0.64      0.63      0.64        75\n",
      "\n",
      "                            accuracy                           0.72       777\n",
      "                           macro avg       0.46      0.47      0.46       777\n",
      "                        weighted avg       0.71      0.72      0.71       777\n",
      "\n"
     ]
    },
    {
     "name": "stderr",
     "output_type": "stream",
     "text": [
      "/home/punyajoy/.conda/envs/nlp/lib/python3.7/site-packages/sklearn/metrics/_classification.py:1221: UndefinedMetricWarning: Precision and F-score are ill-defined and being set to 0.0 in labels with no predicted samples. Use `zero_division` parameter to control this behavior.\n",
      "  _warn_prf(average, modifier, msg_start, len(result))\n"
     ]
    }
   ],
   "source": [
    "# Collecting Text and Labels\n",
    "test_batch_sentences = list(kannada_test['text'])\n",
    "test_batch_labels =  [label_mapping[x] for x in kannada_test['label']]\n",
    "\n",
    "for test_preds, mn in zip(all_test_preds, all_model_names):\n",
    "    final_test_preds = np.argmax(test_preds, axis = 1)\n",
    "    y_true = test_batch_labels\n",
    "    y_pred = final_test_preds\n",
    "    target_names = label_mapping.keys()\n",
    "    report = classification_report(y_true, y_pred, target_names=target_names)\n",
    "    print(mn)\n",
    "    print(report)"
   ]
  },
  {
   "cell_type": "code",
   "execution_count": 3,
   "metadata": {},
   "outputs": [],
   "source": [
    "# GENERATE FINAL ENSEMBLED PREDICTIONS"
   ]
  },
  {
   "cell_type": "code",
   "execution_count": 35,
   "metadata": {},
   "outputs": [],
   "source": [
    "weights = [mw[index][0] for index in mw.keys()]\n",
    "inverse_label_mapping = {v: k for k, v in label_mapping.items()}\n",
    "\n",
    "X = weights\n",
    "all_dev_preds = np.array(all_dev_preds)\n",
    "\n",
    "softmax_w = np.exp(X)/np.sum(np.exp(X))\n",
    "weighted_all_dev_preds = np.array([sw*dpreds for sw, dpreds in zip(softmax_w, all_dev_preds)])\n",
    "weighted_dev_preds = np.sum(weighted_all_dev_preds, axis = 0)\n",
    "final_dev_preds = np.argmax(weighted_dev_preds, axis = 1)\n",
    "\n",
    "final_dev_pred_labels = [inverse_label_mapping[int(k)] for k in final_dev_preds]\n",
    "saved_model_filename = 'test_GA_fusion_kannada'\n",
    "kannada_test['labels'] = final_dev_pred_labels\n",
    "kannada_test.index.name = 'id'\n",
    "kannada_test.to_csv(\"/home/punyajoy/Dravidian_Offensive_Classification/test_preds/\" + saved_model_filename + \".tsv\", sep = '\\t')"
   ]
  },
  {
   "cell_type": "code",
   "execution_count": 36,
   "metadata": {},
   "outputs": [],
   "source": [
    "np.save(\"/home/punyajoy/Dravidian_Offensive_Classification/model_prediction_probs/\"+'GA_fusion_kannada'+\".npy\", weighted_dev_preds)"
   ]
  },
  {
   "cell_type": "code",
   "execution_count": null,
   "metadata": {},
   "outputs": [],
   "source": []
  }
 ],
 "metadata": {
  "kernelspec": {
   "display_name": "Python [conda env:.conda-nlp]",
   "language": "python",
   "name": "conda-env-.conda-nlp-py"
  },
  "language_info": {
   "codemirror_mode": {
    "name": "ipython",
    "version": 3
   },
   "file_extension": ".py",
   "mimetype": "text/x-python",
   "name": "python",
   "nbconvert_exporter": "python",
   "pygments_lexer": "ipython3",
   "version": "3.7.9"
  }
 },
 "nbformat": 4,
 "nbformat_minor": 4
}
