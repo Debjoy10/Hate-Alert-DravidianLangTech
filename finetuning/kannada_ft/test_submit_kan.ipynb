{
 "cells": [
  {
   "cell_type": "markdown",
   "metadata": {},
   "source": [
    "### Script for generating prediction CSV files for Dev and Test sets"
   ]
  },
  {
   "cell_type": "markdown",
   "metadata": {},
   "source": [
    "**GA-Ensembling weights and individual model predictions already available**"
   ]
  },
  {
   "cell_type": "code",
   "execution_count": 46,
   "metadata": {},
   "outputs": [],
   "source": [
    "import pandas as pd\n",
    "import numpy as np"
   ]
  },
  {
   "cell_type": "code",
   "execution_count": 47,
   "metadata": {},
   "outputs": [],
   "source": [
    "# Reading CSV from link\n",
    "def read_csv_from_link(url):\n",
    "    path = 'https://drive.google.com/uc?export=download&id='+url.split('/')[-2]\n",
    "    df = pd.read_csv(path,delimiter=\"\\t\",error_bad_lines=False, header=None)\n",
    "    return df"
   ]
  },
  {
   "cell_type": "code",
   "execution_count": 48,
   "metadata": {},
   "outputs": [],
   "source": [
    "# Loading All Data\n",
    "# tamil_train = read_csv_from_link('https://drive.google.com/file/d/15auwrFAlq52JJ61u7eSfnhT9rZtI5sjk/view?usp=sharing')\n",
    "# tamil_dev = read_csv_from_link('https://drive.google.com/file/d/1Jme-Oftjm7OgfMNLKQs1mO_cnsQmznRI/view?usp=sharing')\n",
    "# malayalam_train = read_csv_from_link('https://drive.google.com/file/d/13JCCr-IjZK7uhbLXeufptr_AxvsKinVl/view?usp=sharing')\n",
    "# malayalam_dev = read_csv_from_link('https://drive.google.com/file/d/1J0msLpLoM6gmXkjC6DFeQ8CG_rrLvjnM/view?usp=sharing')\n",
    "# kannada_train = read_csv_from_link('https://drive.google.com/file/d/1BFYF05rx-DK9Eb5hgoIgd6EcB8zOI-zu/view?usp=sharing')\n",
    "kannada_dev = read_csv_from_link('https://drive.google.com/file/d/1V077dMQvscqpUmcWTcFHqRa_vTy-bQ4H/view?usp=sharing')"
   ]
  },
  {
   "cell_type": "code",
   "execution_count": 49,
   "metadata": {},
   "outputs": [
    {
     "name": "stderr",
     "output_type": "stream",
     "text": [
      "b'Skipping line 778: expected 2 fields, saw 3\\n'\n"
     ]
    }
   ],
   "source": [
    "# Test\n",
    "tamil_test = read_csv_from_link('https://drive.google.com/file/d/10RHrqXvIKMdnvN_tVJa_FAm41zaeC8WN/view?usp=sharing')\n",
    "malayalam_test = read_csv_from_link('https://drive.google.com/file/d/1zx1wCC9A-Pp80mzbqixb52WlWQQ7ATyJ/view?usp=sharing')\n",
    "kannada_test = read_csv_from_link('https://drive.google.com/file/d/1Px2CvIkLP_xaNhz_fCofW-7GGBCnSYsa/view?usp=sharing')"
   ]
  },
  {
   "cell_type": "code",
   "execution_count": 50,
   "metadata": {},
   "outputs": [],
   "source": [
    "split = 'test'"
   ]
  },
  {
   "cell_type": "code",
   "execution_count": 51,
   "metadata": {},
   "outputs": [],
   "source": [
    "# Uncomment If making predictions for Dev-Set\n",
    "# kannada_test = kannada_dev\n",
    "# split = 'dev'"
   ]
  },
  {
   "cell_type": "code",
   "execution_count": 52,
   "metadata": {},
   "outputs": [],
   "source": [
    "# Mal Preprocess\n",
    "kannada_test = kannada_test.iloc[:, 0:2]\n",
    "kannada_test = kannada_test.rename(columns={0: \"text\", 1: \"GT_label\"})"
   ]
  },
  {
   "cell_type": "markdown",
   "metadata": {},
   "source": [
    "### Load Model"
   ]
  },
  {
   "cell_type": "code",
   "execution_count": 6,
   "metadata": {},
   "outputs": [],
   "source": [
    "import torch"
   ]
  },
  {
   "cell_type": "code",
   "execution_count": 7,
   "metadata": {
    "scrolled": true
   },
   "outputs": [
    {
     "name": "stdout",
     "output_type": "stream",
     "text": [
      "GPU Nos: 2\n",
      "Tesla P100-PCIE-12GB\n",
      "Tesla P100-PCIE-16GB\n"
     ]
    }
   ],
   "source": [
    "print(\"GPU Nos: {}\".format(torch.cuda.device_count()))\n",
    "print(torch.cuda.get_device_name(0))\n",
    "print(torch.cuda.get_device_name(1))\n",
    "\n",
    "# Change Device - CPU/GPU-0/GPU-1\n",
    "torch.cuda.set_device(0)\n",
    "device = 'cuda'\n",
    "device = device if torch.cuda.is_available() else 'cpu'"
   ]
  },
  {
   "cell_type": "code",
   "execution_count": null,
   "metadata": {},
   "outputs": [],
   "source": [
    "# Load Weights dictionary"
   ]
  },
  {
   "cell_type": "code",
   "execution_count": 7,
   "metadata": {},
   "outputs": [],
   "source": [
    "import pickle\n",
    "saved_model_filename = 'GA_v1_kannada'\n",
    "\n",
    "with open(\"../../dev_preds/weights_\" + saved_model_filename + \".pickle\", 'rb') as handle:\n",
    "    mw = pickle.load(handle)"
   ]
  },
  {
   "cell_type": "code",
   "execution_count": 8,
   "metadata": {},
   "outputs": [
    {
     "data": {
      "text/plain": [
       "{'XLMroberta_custom_pretrained_kannada.pth': (2.4575588857477992,\n",
       "  'xlm-roberta-base'),\n",
       " 'Distilbert_m_base_cased_kannada_weighted.pth': (1.8119959704070476,\n",
       "  'distilbert-base-multilingual-cased'),\n",
       " 'Indic_bert_kannada_weighted.pth': (0.462110920903549,\n",
       "  'ai4bharat/indic-bert'),\n",
       " 'Distilbert_m_base_cased_kannada.pth': (1.6341476131375288,\n",
       "  'distilbert-base-multilingual-cased'),\n",
       " 'XLMroberta_custom_pretrained_kannada_weighted.pth': (2.65716323320213,\n",
       "  'xlm-roberta-base'),\n",
       " 'MURIL_cased_temp_kannada.pth': (1.2740285448075563,\n",
       "  'simran-kh/muril-cased-temp'),\n",
       " 'XLMroberta_large_kannada_weighted.pth': (4.016614405001666,\n",
       "  'xlm-roberta-large'),\n",
       " 'Mbert_base_cased_kannada.pth': (3.302975964858024,\n",
       "  'bert-base-multilingual-cased'),\n",
       " 'Mbert_base_cased_kannada_weighted.pth': (2.124259887478466,\n",
       "  'bert-base-multilingual-cased'),\n",
       " 'XLMroberta_large_kannada.pth': (0.7028579920165603, 'xlm-roberta-large'),\n",
       " 'Indic_bert_kannada.pth': (0.7455879960046707, 'ai4bharat/indic-bert'),\n",
       " 'MURIL_cased_temp_kannada_weighted.pth': (3.2039485588581016,\n",
       "  'simran-kh/muril-cased-temp')}"
      ]
     },
     "execution_count": 8,
     "metadata": {},
     "output_type": "execute_result"
    }
   ],
   "source": [
    "mw"
   ]
  },
  {
   "cell_type": "code",
   "execution_count": 17,
   "metadata": {},
   "outputs": [],
   "source": [
    "all_probs = []\n",
    "import os"
   ]
  },
  {
   "cell_type": "code",
   "execution_count": 18,
   "metadata": {},
   "outputs": [],
   "source": [
    "label_mapping = {\n",
    "    'Not_offensive': 0, \n",
    "    'not-Kannada': 1, \n",
    "    'Offensive_Targeted_Insult_Other': 2, \n",
    "    'Offensive_Targeted_Insult_Group': 3, \n",
    "    'Offensive_Untargetede': 4, \n",
    "    'Offensive_Targeted_Insult_Individual': 5\n",
    "}"
   ]
  },
  {
   "cell_type": "code",
   "execution_count": 13,
   "metadata": {},
   "outputs": [
    {
     "data": {
      "application/vnd.jupyter.widget-view+json": {
       "model_id": "10d8f2ee0685472ab2ce37a77eb4956b",
       "version_major": 2,
       "version_minor": 0
      },
      "text/plain": [
       "HBox(children=(HTML(value=''), FloatProgress(value=0.0, max=12.0), HTML(value='')))"
      ]
     },
     "metadata": {},
     "output_type": "display_data"
    },
    {
     "name": "stdout",
     "output_type": "stream",
     "text": [
      "\n"
     ]
    }
   ],
   "source": [
    "# Loading Model\n",
    "from transformers import AutoTokenizer, AutoModelForSequenceClassification, BertTokenizer, BertForSequenceClassification\n",
    "from tqdm.notebook import tqdm\n",
    "\n",
    "for index in tqdm(mw.keys()):\n",
    "    model_name = index\n",
    "    pretrained_key = mw[index][1]\n",
    "    try:\n",
    "        test_preds = np.load(\"../../test_probs/\"+model_name+\".npy\")\n",
    "        all_probs.append(test_preds)\n",
    "        continue\n",
    "    except:\n",
    "        pass\n",
    "\n",
    "    if pretrained_key == 'distilbert-base-multilingual-cased':\n",
    "        tokenizer = BertTokenizer.from_pretrained(pretrained_key)\n",
    "        model = BertForSequenceClassification.from_pretrained(pretrained_key, num_labels=6)\n",
    "    else:\n",
    "        tokenizer = AutoTokenizer.from_pretrained(pretrained_key)\n",
    "        model = AutoModelForSequenceClassification.from_pretrained(pretrained_key, num_labels=6)\n",
    "\n",
    "    state_dict = torch.load(os.path.join('../../finetuned_models/', model_name))\n",
    "    model.load_state_dict(state_dict)\n",
    "    model.eval()\n",
    "\n",
    "    # Collecting Text and Labels\n",
    "    test_batch_sentences = list(kannada_test['text'])\n",
    "\n",
    "    # Convert to Tensor\n",
    "    test_encodings = tokenizer(test_batch_sentences, padding='max_length', truncation=True, max_length=64, return_tensors=\"pt\")\n",
    "\n",
    "    # Dataset\n",
    "    from torch.utils.data import Dataset\n",
    "\n",
    "    class kannada_Offensive_Dataset(Dataset):\n",
    "        def __init__(self, encodings):\n",
    "            self.encodings = encodings\n",
    "\n",
    "        def __getitem__(self, idx):\n",
    "            item = {key: torch.tensor(val[idx]) for key, val in self.encodings.items()}\n",
    "            item['labels'] = torch.tensor(1) # Label is irrelevant, since we need predictions\n",
    "            return item\n",
    "\n",
    "        def __len__(self):\n",
    "            return len(self.encodings[\"input_ids\"])\n",
    "\n",
    "    # Defining Datasets\n",
    "    test_dataset = kannada_Offensive_Dataset(test_encodings)\n",
    "\n",
    "    ### Run Models-1\n",
    "    from torch.utils.data import DataLoader\n",
    "    from tqdm.notebook import tqdm\n",
    "    from sklearn.metrics import classification_report, f1_score\n",
    "\n",
    "    device = torch.device('cuda') if torch.cuda.is_available() else torch.device('cpu')\n",
    "    model.to(device)\n",
    "\n",
    "    # Dataloaders\n",
    "    test_loader = DataLoader(test_dataset, batch_size=16, shuffle=False)\n",
    "\n",
    "    test_preds = []\n",
    "    with torch.set_grad_enabled(False):\n",
    "        for batch in tqdm(test_loader):\n",
    "            input_ids = batch['input_ids'].to(device)\n",
    "            attention_mask = batch['attention_mask'].to(device)\n",
    "            labels = batch['labels'].to(device)\n",
    "            outputs = model(input_ids, attention_mask=attention_mask, labels=labels)\n",
    "\n",
    "            for logits in outputs[1].cpu().numpy():\n",
    "                test_preds.append(np.exp(logits)/np.sum(np.exp(logits)))\n",
    "    \n",
    "    np.save(\"../../test_probs/\"+model_name+\".npy\", test_preds)\n",
    "    all_probs.append(test_preds)\n",
    "    del model\n",
    "    torch.cuda.empty_cache()"
   ]
  },
  {
   "cell_type": "code",
   "execution_count": 65,
   "metadata": {},
   "outputs": [],
   "source": [
    "all_probs = []\n",
    "if split == 'test':\n",
    "    for k in mw.keys():\n",
    "        all_probs.append(np.load(\"../../test_probs/\"+k+\".npy\")[:-1])\n",
    "else:\n",
    "    for k in mw.keys():\n",
    "        all_probs.append(np.load(\"../../model_prediction_probs/preds_\"+k+\".npy\"))"
   ]
  },
  {
   "cell_type": "code",
   "execution_count": 66,
   "metadata": {},
   "outputs": [
    {
     "data": {
      "text/plain": [
       "{'XLMroberta_custom_pretrained_kannada.pth': (2.4575588857477992,\n",
       "  'xlm-roberta-base'),\n",
       " 'Distilbert_m_base_cased_kannada_weighted.pth': (1.8119959704070476,\n",
       "  'distilbert-base-multilingual-cased'),\n",
       " 'Indic_bert_kannada_weighted.pth': (0.462110920903549,\n",
       "  'ai4bharat/indic-bert'),\n",
       " 'Distilbert_m_base_cased_kannada.pth': (1.6341476131375288,\n",
       "  'distilbert-base-multilingual-cased'),\n",
       " 'XLMroberta_custom_pretrained_kannada_weighted.pth': (2.65716323320213,\n",
       "  'xlm-roberta-base'),\n",
       " 'MURIL_cased_temp_kannada.pth': (1.2740285448075563,\n",
       "  'simran-kh/muril-cased-temp'),\n",
       " 'XLMroberta_large_kannada_weighted.pth': (4.016614405001666,\n",
       "  'xlm-roberta-large'),\n",
       " 'Mbert_base_cased_kannada.pth': (3.302975964858024,\n",
       "  'bert-base-multilingual-cased'),\n",
       " 'Mbert_base_cased_kannada_weighted.pth': (2.124259887478466,\n",
       "  'bert-base-multilingual-cased'),\n",
       " 'XLMroberta_large_kannada.pth': (0.7028579920165603, 'xlm-roberta-large'),\n",
       " 'Indic_bert_kannada.pth': (0.7455879960046707, 'ai4bharat/indic-bert'),\n",
       " 'MURIL_cased_temp_kannada_weighted.pth': (3.2039485588581016,\n",
       "  'simran-kh/muril-cased-temp')}"
      ]
     },
     "execution_count": 66,
     "metadata": {},
     "output_type": "execute_result"
    }
   ],
   "source": [
    "mw"
   ]
  },
  {
   "cell_type": "code",
   "execution_count": 67,
   "metadata": {},
   "outputs": [],
   "source": [
    "weights = [mw[index][0] for index in mw]"
   ]
  },
  {
   "cell_type": "code",
   "execution_count": 68,
   "metadata": {},
   "outputs": [],
   "source": [
    "inverse_label_mapping = {v: k for k, v in label_mapping.items()}"
   ]
  },
  {
   "cell_type": "code",
   "execution_count": 69,
   "metadata": {},
   "outputs": [],
   "source": [
    "X = weights\n",
    "all_dev_preds = np.array(all_probs)\n",
    "\n",
    "softmax_w = np.exp(X)/np.sum(np.exp(X))\n",
    "weighted_all_dev_preds = np.array([sw*dpreds for sw, dpreds in zip(softmax_w, all_dev_preds)])\n",
    "weighted_dev_preds = np.sum(weighted_all_dev_preds, axis = 0)\n",
    "final_dev_preds = np.argmax(weighted_dev_preds, axis = 1)\n",
    "\n",
    "final_dev_pred_labels = [inverse_label_mapping[int(k)] for k in final_dev_preds]\n",
    "saved_model_filename = 'test_GA_v1_kannada'\n",
    "kannada_test['labels'] = final_dev_pred_labels"
   ]
  },
  {
   "cell_type": "code",
   "execution_count": 70,
   "metadata": {},
   "outputs": [],
   "source": [
    "kannada_test.index.name = 'id'"
   ]
  },
  {
   "cell_type": "code",
   "execution_count": 71,
   "metadata": {},
   "outputs": [
    {
     "data": {
      "text/html": [
       "<div>\n",
       "<style scoped>\n",
       "    .dataframe tbody tr th:only-of-type {\n",
       "        vertical-align: middle;\n",
       "    }\n",
       "\n",
       "    .dataframe tbody tr th {\n",
       "        vertical-align: top;\n",
       "    }\n",
       "\n",
       "    .dataframe thead th {\n",
       "        text-align: right;\n",
       "    }\n",
       "</style>\n",
       "<table border=\"1\" class=\"dataframe\">\n",
       "  <thead>\n",
       "    <tr style=\"text-align: right;\">\n",
       "      <th></th>\n",
       "      <th>text</th>\n",
       "      <th>GT_label</th>\n",
       "      <th>labels</th>\n",
       "    </tr>\n",
       "    <tr>\n",
       "      <th>id</th>\n",
       "      <th></th>\n",
       "      <th></th>\n",
       "      <th></th>\n",
       "    </tr>\n",
       "  </thead>\n",
       "  <tbody>\n",
       "    <tr>\n",
       "      <th>0</th>\n",
       "      <td>ಜೈ ಮೋರಿ ಜೈ ರೋಗಿ ಇಸ್ಲಾಂ ಸಾಯಿಸಿ ಇದೆ ಇವರ ಗುರಿ</td>\n",
       "      <td>Offensive_Targeted_Insult_Group</td>\n",
       "      <td>Not_offensive</td>\n",
       "    </tr>\n",
       "    <tr>\n",
       "      <th>1</th>\n",
       "      <td>Anna nim e vedio nodinu mathe chaina apps use ...</td>\n",
       "      <td>Offensive_Targeted_Insult_Group</td>\n",
       "      <td>Not_offensive</td>\n",
       "    </tr>\n",
       "    <tr>\n",
       "      <th>2</th>\n",
       "      <td>Super anna yenu thappila yela sari agi hellidi...</td>\n",
       "      <td>Not_offensive</td>\n",
       "      <td>Not_offensive</td>\n",
       "    </tr>\n",
       "    <tr>\n",
       "      <th>3</th>\n",
       "      <td>Super sir super super super super</td>\n",
       "      <td>not-Kannada</td>\n",
       "      <td>not-Kannada</td>\n",
       "    </tr>\n",
       "    <tr>\n",
       "      <th>4</th>\n",
       "      <td>AGT-KELU (KANNADA RAP 2019)</td>\n",
       "      <td>not-Kannada</td>\n",
       "      <td>not-Kannada</td>\n",
       "    </tr>\n",
       "    <tr>\n",
       "      <th>...</th>\n",
       "      <td>...</td>\n",
       "      <td>...</td>\n",
       "      <td>...</td>\n",
       "    </tr>\n",
       "    <tr>\n",
       "      <th>772</th>\n",
       "      <td>Super movie 🤩</td>\n",
       "      <td>not-Kannada</td>\n",
       "      <td>not-Kannada</td>\n",
       "    </tr>\n",
       "    <tr>\n",
       "      <th>773</th>\n",
       "      <td>Startup start maadalu capacity growth maadalu ...</td>\n",
       "      <td>Not_offensive</td>\n",
       "      <td>Not_offensive</td>\n",
       "    </tr>\n",
       "    <tr>\n",
       "      <th>774</th>\n",
       "      <td>Rashmika idanna nodi thi*a urkimbeku🤣🤣🤣🤣🤣</td>\n",
       "      <td>Offensive_Targeted_Insult_Individual</td>\n",
       "      <td>Offensive_Targeted_Insult_Individual</td>\n",
       "    </tr>\n",
       "    <tr>\n",
       "      <th>775</th>\n",
       "      <td>I love you sir</td>\n",
       "      <td>not-Kannada</td>\n",
       "      <td>not-Kannada</td>\n",
       "    </tr>\n",
       "    <tr>\n",
       "      <th>776</th>\n",
       "      <td>ನೋಡ್ತಾ ಹೋದ್ರೆ ಸಾವಿರಾರು lyrical video ಗಳು</td>\n",
       "      <td>Not_offensive</td>\n",
       "      <td>Not_offensive</td>\n",
       "    </tr>\n",
       "  </tbody>\n",
       "</table>\n",
       "<p>777 rows × 3 columns</p>\n",
       "</div>"
      ],
      "text/plain": [
       "                                                  text  \\\n",
       "id                                                       \n",
       "0           ಜೈ ಮೋರಿ ಜೈ ರೋಗಿ ಇಸ್ಲಾಂ ಸಾಯಿಸಿ ಇದೆ ಇವರ ಗುರಿ   \n",
       "1    Anna nim e vedio nodinu mathe chaina apps use ...   \n",
       "2    Super anna yenu thappila yela sari agi hellidi...   \n",
       "3                    Super sir super super super super   \n",
       "4                          AGT-KELU (KANNADA RAP 2019)   \n",
       "..                                                 ...   \n",
       "772                                      Super movie 🤩   \n",
       "773  Startup start maadalu capacity growth maadalu ...   \n",
       "774          Rashmika idanna nodi thi*a urkimbeku🤣🤣🤣🤣🤣   \n",
       "775                                     I love you sir   \n",
       "776           ನೋಡ್ತಾ ಹೋದ್ರೆ ಸಾವಿರಾರು lyrical video ಗಳು   \n",
       "\n",
       "                                 GT_label  \\\n",
       "id                                          \n",
       "0         Offensive_Targeted_Insult_Group   \n",
       "1         Offensive_Targeted_Insult_Group   \n",
       "2                           Not_offensive   \n",
       "3                             not-Kannada   \n",
       "4                             not-Kannada   \n",
       "..                                    ...   \n",
       "772                           not-Kannada   \n",
       "773                         Not_offensive   \n",
       "774  Offensive_Targeted_Insult_Individual   \n",
       "775                           not-Kannada   \n",
       "776                         Not_offensive   \n",
       "\n",
       "                                   labels  \n",
       "id                                         \n",
       "0                           Not_offensive  \n",
       "1                           Not_offensive  \n",
       "2                           Not_offensive  \n",
       "3                             not-Kannada  \n",
       "4                             not-Kannada  \n",
       "..                                    ...  \n",
       "772                           not-Kannada  \n",
       "773                         Not_offensive  \n",
       "774  Offensive_Targeted_Insult_Individual  \n",
       "775                           not-Kannada  \n",
       "776                         Not_offensive  \n",
       "\n",
       "[777 rows x 3 columns]"
      ]
     },
     "execution_count": 71,
     "metadata": {},
     "output_type": "execute_result"
    }
   ],
   "source": [
    "kannada_test"
   ]
  },
  {
   "cell_type": "code",
   "execution_count": 72,
   "metadata": {},
   "outputs": [
    {
     "name": "stdout",
     "output_type": "stream",
     "text": [
      "                                      precision    recall  f1-score   support\n",
      "\n",
      "                       Not_offensive       0.79      0.85      0.82       426\n",
      "     Offensive_Targeted_Insult_Group       0.50      0.30      0.37        44\n",
      "Offensive_Targeted_Insult_Individual       0.72      0.68      0.70        75\n",
      "     Offensive_Targeted_Insult_Other       0.50      0.07      0.12        14\n",
      "               Offensive_Untargetede       0.50      0.06      0.11        33\n",
      "                         not-Kannada       0.73      0.87      0.80       185\n",
      "\n",
      "                            accuracy                           0.76       777\n",
      "                           macro avg       0.62      0.47      0.49       777\n",
      "                        weighted avg       0.74      0.76      0.73       777\n",
      "\n"
     ]
    }
   ],
   "source": [
    "from sklearn.metrics import classification_report\n",
    "\n",
    "print(classification_report(kannada_test['GT_label'], kannada_test['labels']))"
   ]
  },
  {
   "cell_type": "code",
   "execution_count": 43,
   "metadata": {},
   "outputs": [],
   "source": [
    "# Saving predictions\n",
    "kannada_test.to_csv(\"../../test_preds/\" + saved_model_filename + \".tsv\", sep = '\\t')\n",
    "np.save(\"../../test_probs/\"+saved_model_filename+\".npy\", weighted_dev_preds)"
   ]
  },
  {
   "cell_type": "markdown",
   "metadata": {},
   "source": [
    "#### Performance of each model separately"
   ]
  },
  {
   "cell_type": "code",
   "execution_count": 34,
   "metadata": {},
   "outputs": [],
   "source": [
    "import numpy as np\n",
    "import pickle\n",
    "saved_model_filename = 'GA_v1_kannada'\n",
    "\n",
    "with open(\"../../dev_preds/weights_\" + saved_model_filename + \".pickle\", 'rb') as handle:\n",
    "    mw = pickle.load(handle)"
   ]
  },
  {
   "cell_type": "code",
   "execution_count": 35,
   "metadata": {},
   "outputs": [],
   "source": [
    "all_model_names = mw.keys()"
   ]
  },
  {
   "cell_type": "code",
   "execution_count": 36,
   "metadata": {},
   "outputs": [],
   "source": [
    "all_test_preds = []\n",
    "for model_name in all_model_names:\n",
    "    all_test_preds.append(np.load(\"../../test_probs/\"+model_name+\".npy\")[:-1])"
   ]
  },
  {
   "cell_type": "code",
   "execution_count": 38,
   "metadata": {},
   "outputs": [],
   "source": [
    "from sklearn.metrics import classification_report"
   ]
  },
  {
   "cell_type": "code",
   "execution_count": 43,
   "metadata": {},
   "outputs": [
    {
     "name": "stdout",
     "output_type": "stream",
     "text": [
      "XLMroberta_custom_pretrained_kannada.pth\n",
      "                                      precision    recall  f1-score   support\n",
      "\n",
      "                       Not_offensive       0.82      0.81      0.82       426\n",
      "                         not-Kannada       0.75      0.89      0.81       185\n",
      "     Offensive_Targeted_Insult_Other       0.00      0.00      0.00        14\n",
      "     Offensive_Targeted_Insult_Group       0.43      0.43      0.43        44\n",
      "               Offensive_Untargetede       0.14      0.06      0.09        33\n",
      "Offensive_Targeted_Insult_Individual       0.62      0.68      0.65        75\n",
      "\n",
      "                            accuracy                           0.75       777\n",
      "                           macro avg       0.46      0.48      0.47       777\n",
      "                        weighted avg       0.72      0.75      0.73       777\n",
      "\n",
      "Distilbert_m_base_cased_kannada_weighted.pth\n",
      "                                      precision    recall  f1-score   support\n",
      "\n",
      "                       Not_offensive       0.76      0.73      0.75       426\n",
      "                         not-Kannada       0.70      0.70      0.70       185\n",
      "     Offensive_Targeted_Insult_Other       0.23      0.21      0.22        14\n",
      "     Offensive_Targeted_Insult_Group       0.33      0.36      0.34        44\n",
      "               Offensive_Untargetede       0.13      0.15      0.14        33\n",
      "Offensive_Targeted_Insult_Individual       0.65      0.71      0.68        75\n",
      "\n",
      "                            accuracy                           0.67       777\n",
      "                           macro avg       0.47      0.48      0.47       777\n",
      "                        weighted avg       0.67      0.67      0.67       777\n",
      "\n",
      "Indic_bert_kannada_weighted.pth\n",
      "                                      precision    recall  f1-score   support\n",
      "\n",
      "                       Not_offensive       0.77      0.49      0.60       426\n",
      "                         not-Kannada       0.65      0.79      0.72       185\n",
      "     Offensive_Targeted_Insult_Other       0.11      0.07      0.09        14\n",
      "     Offensive_Targeted_Insult_Group       0.16      0.45      0.23        44\n",
      "               Offensive_Untargetede       0.07      0.09      0.08        33\n",
      "Offensive_Targeted_Insult_Individual       0.45      0.60      0.51        75\n",
      "\n",
      "                            accuracy                           0.55       777\n",
      "                           macro avg       0.37      0.42      0.37       777\n",
      "                        weighted avg       0.64      0.55      0.57       777\n",
      "\n",
      "Distilbert_m_base_cased_kannada.pth\n",
      "                                      precision    recall  f1-score   support\n",
      "\n",
      "                       Not_offensive       0.78      0.79      0.79       426\n",
      "                         not-Kannada       0.71      0.85      0.77       185\n",
      "     Offensive_Targeted_Insult_Other       0.00      0.00      0.00        14\n",
      "     Offensive_Targeted_Insult_Group       0.42      0.18      0.25        44\n",
      "               Offensive_Untargetede       0.00      0.00      0.00        33\n",
      "Offensive_Targeted_Insult_Individual       0.53      0.68      0.60        75\n",
      "\n",
      "                            accuracy                           0.71       777\n",
      "                           macro avg       0.41      0.42      0.40       777\n",
      "                        weighted avg       0.67      0.71      0.69       777\n",
      "\n",
      "XLMroberta_custom_pretrained_kannada_weighted.pth\n",
      "                                      precision    recall  f1-score   support\n",
      "\n",
      "                       Not_offensive       0.80      0.78      0.79       426\n",
      "                         not-Kannada       0.72      0.86      0.79       185\n",
      "     Offensive_Targeted_Insult_Other       0.17      0.14      0.15        14\n",
      "     Offensive_Targeted_Insult_Group       0.45      0.30      0.36        44\n",
      "               Offensive_Untargetede       0.12      0.06      0.08        33\n",
      "Offensive_Targeted_Insult_Individual       0.63      0.68      0.65        75\n",
      "\n",
      "                            accuracy                           0.72       777\n",
      "                           macro avg       0.48      0.47      0.47       777\n",
      "                        weighted avg       0.70      0.72      0.71       777\n",
      "\n",
      "MURIL_cased_temp_kannada.pth\n",
      "                                      precision    recall  f1-score   support\n",
      "\n",
      "                       Not_offensive       0.77      0.77      0.77       426\n",
      "                         not-Kannada       0.70      0.75      0.73       185\n",
      "     Offensive_Targeted_Insult_Other       0.14      0.07      0.10        14\n",
      "     Offensive_Targeted_Insult_Group       0.20      0.11      0.14        44\n",
      "               Offensive_Untargetede       0.14      0.21      0.17        33\n",
      "Offensive_Targeted_Insult_Individual       0.65      0.60      0.63        75\n",
      "\n",
      "                            accuracy                           0.68       777\n",
      "                           macro avg       0.43      0.42      0.42       777\n",
      "                        weighted avg       0.67      0.68      0.67       777\n",
      "\n",
      "XLMroberta_large_kannada_weighted.pth\n",
      "                                      precision    recall  f1-score   support\n",
      "\n",
      "                       Not_offensive       0.00      0.00      0.00       426\n",
      "                         not-Kannada       0.71      0.18      0.29       185\n",
      "     Offensive_Targeted_Insult_Other       0.02      1.00      0.04        14\n",
      "     Offensive_Targeted_Insult_Group       0.00      0.00      0.00        44\n",
      "               Offensive_Untargetede       0.03      0.09      0.04        33\n",
      "Offensive_Targeted_Insult_Individual       0.00      0.00      0.00        75\n",
      "\n",
      "                            accuracy                           0.07       777\n",
      "                           macro avg       0.13      0.21      0.06       777\n",
      "                        weighted avg       0.17      0.07      0.07       777\n",
      "\n",
      "Mbert_base_cased_kannada.pth\n",
      "                                      precision    recall  f1-score   support\n",
      "\n",
      "                       Not_offensive       0.74      0.86      0.80       426\n",
      "                         not-Kannada       0.73      0.72      0.73       185\n",
      "     Offensive_Targeted_Insult_Other       0.50      0.07      0.12        14\n",
      "     Offensive_Targeted_Insult_Group       0.41      0.27      0.33        44\n",
      "               Offensive_Untargetede       0.11      0.03      0.05        33\n",
      "Offensive_Targeted_Insult_Individual       0.76      0.59      0.66        75\n",
      "\n",
      "                            accuracy                           0.72       777\n",
      "                           macro avg       0.54      0.42      0.45       777\n",
      "                        weighted avg       0.69      0.72      0.70       777\n",
      "\n",
      "Mbert_base_cased_kannada_weighted.pth\n",
      "                                      precision    recall  f1-score   support\n",
      "\n",
      "                       Not_offensive       0.80      0.66      0.72       426\n",
      "                         not-Kannada       0.71      0.85      0.77       185\n",
      "     Offensive_Targeted_Insult_Other       0.08      0.14      0.10        14\n",
      "     Offensive_Targeted_Insult_Group       0.26      0.34      0.30        44\n",
      "               Offensive_Untargetede       0.13      0.09      0.11        33\n",
      "Offensive_Targeted_Insult_Individual       0.52      0.69      0.59        75\n",
      "\n",
      "                            accuracy                           0.66       777\n",
      "                           macro avg       0.42      0.46      0.43       777\n",
      "                        weighted avg       0.68      0.66      0.66       777\n",
      "\n",
      "XLMroberta_large_kannada.pth\n",
      "                                      precision    recall  f1-score   support\n",
      "\n",
      "                       Not_offensive       0.78      0.82      0.80       426\n",
      "                         not-Kannada       0.72      0.92      0.81       185\n",
      "     Offensive_Targeted_Insult_Other       0.00      0.00      0.00        14\n",
      "     Offensive_Targeted_Insult_Group       0.28      0.30      0.29        44\n",
      "               Offensive_Untargetede       0.00      0.00      0.00        33\n",
      "Offensive_Targeted_Insult_Individual       0.81      0.51      0.62        75\n",
      "\n",
      "                            accuracy                           0.73       777\n",
      "                           macro avg       0.43      0.42      0.42       777\n",
      "                        weighted avg       0.69      0.73      0.71       777\n",
      "\n",
      "Indic_bert_kannada.pth\n",
      "                                      precision    recall  f1-score   support\n",
      "\n",
      "                       Not_offensive       0.72      0.77      0.75       426\n",
      "                         not-Kannada       0.76      0.75      0.76       185\n",
      "     Offensive_Targeted_Insult_Other       0.00      0.00      0.00        14\n",
      "     Offensive_Targeted_Insult_Group       0.23      0.36      0.28        44\n",
      "               Offensive_Untargetede       0.00      0.00      0.00        33\n",
      "Offensive_Targeted_Insult_Individual       0.56      0.49      0.52        75\n",
      "\n",
      "                            accuracy                           0.67       777\n",
      "                           macro avg       0.38      0.40      0.38       777\n",
      "                        weighted avg       0.64      0.67      0.66       777\n",
      "\n",
      "MURIL_cased_temp_kannada_weighted.pth\n",
      "                                      precision    recall  f1-score   support\n",
      "\n",
      "                       Not_offensive       0.82      0.61      0.70       426\n",
      "                         not-Kannada       0.65      0.78      0.71       185\n",
      "     Offensive_Targeted_Insult_Other       0.11      0.07      0.09        14\n",
      "     Offensive_Targeted_Insult_Group       0.28      0.34      0.31        44\n",
      "               Offensive_Untargetede       0.11      0.30      0.17        33\n",
      "Offensive_Targeted_Insult_Individual       0.55      0.65      0.60        75\n",
      "\n",
      "                            accuracy                           0.62       777\n",
      "                           macro avg       0.42      0.46      0.43       777\n",
      "                        weighted avg       0.68      0.62      0.64       777\n",
      "\n"
     ]
    },
    {
     "name": "stderr",
     "output_type": "stream",
     "text": [
      "/home/punyajoy/.conda/envs/nlp/lib/python3.7/site-packages/sklearn/metrics/_classification.py:1221: UndefinedMetricWarning: Precision and F-score are ill-defined and being set to 0.0 in labels with no predicted samples. Use `zero_division` parameter to control this behavior.\n",
      "  _warn_prf(average, modifier, msg_start, len(result))\n"
     ]
    }
   ],
   "source": [
    "label_mapping = {\n",
    "    'Not_offensive': 0, \n",
    "    'not-Kannada': 1, \n",
    "    'Offensive_Targeted_Insult_Other': 2, \n",
    "    'Offensive_Targeted_Insult_Group': 3, \n",
    "    'Offensive_Untargetede': 4, \n",
    "    'Offensive_Targeted_Insult_Individual': 5\n",
    "}\n",
    "\n",
    "# Collecting Text and Labels\n",
    "test_batch_sentences = list(kannada_test['text'])\n",
    "test_batch_labels =  [label_mapping[x] for x in kannada_test['label']]\n",
    "\n",
    "for test_preds, mn in zip(all_test_preds, all_model_names):\n",
    "    final_test_preds = np.argmax(test_preds, axis = 1)\n",
    "    y_true = test_batch_labels\n",
    "    y_pred = final_test_preds\n",
    "    target_names = label_mapping.keys()\n",
    "    report = classification_report(y_true, y_pred, target_names=target_names)\n",
    "    print(mn)\n",
    "    print(report)"
   ]
  },
  {
   "cell_type": "code",
   "execution_count": null,
   "metadata": {},
   "outputs": [],
   "source": []
  }
 ],
 "metadata": {
  "kernelspec": {
   "display_name": "Python [conda env:.conda-nlp]",
   "language": "python",
   "name": "conda-env-.conda-nlp-py"
  },
  "language_info": {
   "codemirror_mode": {
    "name": "ipython",
    "version": 3
   },
   "file_extension": ".py",
   "mimetype": "text/x-python",
   "name": "python",
   "nbconvert_exporter": "python",
   "pygments_lexer": "ipython3",
   "version": "3.7.9"
  }
 },
 "nbformat": 4,
 "nbformat_minor": 4
}
