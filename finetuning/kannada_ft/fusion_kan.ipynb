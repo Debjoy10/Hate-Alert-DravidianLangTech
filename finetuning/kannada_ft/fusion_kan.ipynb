{
 "cells": [
  {
   "cell_type": "code",
   "execution_count": 2,
   "metadata": {},
   "outputs": [],
   "source": [
    "import pandas as pd\n",
    "import numpy as np"
   ]
  },
  {
   "cell_type": "code",
   "execution_count": 3,
   "metadata": {},
   "outputs": [],
   "source": [
    "# Reading CSV from link\n",
    "def read_csv_from_link(url):\n",
    "    path = 'https://drive.google.com/uc?export=download&id='+url.split('/')[-2]\n",
    "    df = pd.read_csv(path,delimiter=\"\\t\",error_bad_lines=False, header=None)\n",
    "    return df"
   ]
  },
  {
   "cell_type": "code",
   "execution_count": 6,
   "metadata": {},
   "outputs": [],
   "source": [
    "# Loading All Data\n",
    "kannada_train = read_csv_from_link('https://drive.google.com/file/d/1BFYF05rx-DK9Eb5hgoIgd6EcB8zOI-zu/view?usp=sharing')\n",
    "kannada_dev = read_csv_from_link('https://drive.google.com/file/d/1V077dMQvscqpUmcWTcFHqRa_vTy-bQ4H/view?usp=sharing')\n",
    "kannada_test = read_csv_from_link('https://drive.google.com/file/d/14DQvnNZCXSgmiZxJqGtPYFdRqBH7TOSr/view?usp=sharing')"
   ]
  },
  {
   "cell_type": "code",
   "execution_count": 7,
   "metadata": {},
   "outputs": [],
   "source": [
    "# kannada Preprocess\n",
    "kannada_train = kannada_train.iloc[:, 0:2]\n",
    "kannada_train = kannada_train.rename(columns={0: \"text\", 1: \"label\"})\n",
    "\n",
    "kannada_dev = kannada_dev.iloc[:, 0:2]\n",
    "kannada_dev = kannada_dev.rename(columns={0: \"text\", 1: \"label\"})\n",
    "\n",
    "kannada_test = kannada_test.iloc[:, 0:1]\n",
    "kannada_test = kannada_test.rename(columns={0: \"text\"})\n",
    "\n",
    "# Stats\n",
    "kannada_train['label'] = pd.Categorical(kannada_train.label)\n",
    "kannada_dev['label'] = pd.Categorical(kannada_dev.label)"
   ]
  },
  {
   "cell_type": "markdown",
   "metadata": {},
   "source": [
    "### Load Model"
   ]
  },
  {
   "cell_type": "code",
   "execution_count": 11,
   "metadata": {},
   "outputs": [],
   "source": [
    "print(\"GPU Nos: {}\".format(torch.cuda.device_count()))\n",
    "print(torch.cuda.get_device_name(0))\n",
    "print(torch.cuda.get_device_name(1))\n",
    "\n",
    "# Change Device - CPU/GPU-0/GPU-1\n",
    "torch.cuda.set_device(1)\n",
    "device = 'cuda'\n",
    "device = device if torch.cuda.is_available() else 'cpu'"
   ]
  },
  {
   "cell_type": "markdown",
   "metadata": {},
   "source": [
    "## Enter Path of Saved model here in torch.load()"
   ]
  },
  {
   "cell_type": "code",
   "execution_count": 12,
   "metadata": {
    "scrolled": true
   },
   "outputs": [
    {
     "data": {
      "text/plain": [
       "['Indic_bert_offensive_only_kannada',\n",
       " 'MURIL_cased_temp_offensive_only_kannada_weighted',\n",
       " 'XLMroberta_large_kannada_weighted',\n",
       " 'Mbert_base_cased_offensive_only_kannada',\n",
       " 'Indic_bert_collated_kannada_weighted',\n",
       " 'Indic_bert_kannada',\n",
       " 'Distilbert_m_base_cased_kannada',\n",
       " 'XLMroberta_base_kannada_weighted',\n",
       " 'MURIL_cased_temp_collated_kannada_weighted',\n",
       " 'XLMroberta_custom_pretrained_collated_kannada',\n",
       " 'MURIL_cased_temp_collated_kannada',\n",
       " 'Distilbert_m_base_cased_kannada_weighted',\n",
       " 'XLMroberta_base_offensive_only_kannada_weighted',\n",
       " 'XLMroberta_custom_pretrained_kannada_weighted',\n",
       " 'XLMroberta_large_collated_kannada_weighted',\n",
       " 'XLMroberta_base_kannada',\n",
       " 'XLMroberta_custom_pretrained_offensive_only_kannada',\n",
       " 'Indic_bert_collated_kannada',\n",
       " 'MURIL_cased_temp_kannada_weighted',\n",
       " 'XLMroberta_large_kannada',\n",
       " 'Mbert_base_cased_collated_kannada_weighted',\n",
       " 'XLMroberta_custom_pretrained_collated_kannada_weighted',\n",
       " 'XLMroberta_custom_pretrained_offensive_only_kannada_weighted',\n",
       " 'Mbert_base_cased_offensive_only_kannada_weighted',\n",
       " 'XLMroberta_large_offensive_only_kannada',\n",
       " 'MURIL_cased_temp_offensive_only_kannada',\n",
       " 'Indic_bert_kannada_weighted',\n",
       " 'MURIL_cased_temp_kannada',\n",
       " 'XLMroberta_large_offensive_only_kannada_weighted',\n",
       " 'XLMroberta_base_offensive_only_kannada',\n",
       " 'Distilbert_m_base_cased_offensive_only_kannada',\n",
       " 'Mbert_base_cased_kannada_weighted',\n",
       " 'XLMroberta_custom_pretrained_kannada',\n",
       " 'Mbert_base_cased_kannada',\n",
       " 'Mbert_base_cased_collated_kannada',\n",
       " 'Indic_bert_offensive_only_kannada_weighted',\n",
       " 'Distilbert_m_base_cased_collated_kannada',\n",
       " 'Distilbert_m_base_cased_collated_kannada_weighted',\n",
       " 'XLMroberta_large_collated_kannada',\n",
       " 'Distilbert_m_base_cased_offensive_only_kannada_weighted']"
      ]
     },
     "execution_count": 12,
     "metadata": {},
     "output_type": "execute_result"
    }
   ],
   "source": [
    "# Model Select\n",
    "import os\n",
    "from os import listdir\n",
    "from os.path import isfile, join\n",
    "[x for x in listdir('../../finetuned_berts/') if 'kannada' in x]"
   ]
  },
  {
   "cell_type": "code",
   "execution_count": 220,
   "metadata": {},
   "outputs": [],
   "source": [
    "models = []\n",
    "tokenizers = []"
   ]
  },
  {
   "cell_type": "code",
   "execution_count": 221,
   "metadata": {},
   "outputs": [
    {
     "name": "stderr",
     "output_type": "stream",
     "text": [
      "Some weights of XLMRobertaModel were not initialized from the model checkpoint at ../../finetuned_berts/XLMroberta_base_kannada and are newly initialized: ['roberta.pooler.dense.weight', 'roberta.pooler.dense.bias']\n",
      "You should probably TRAIN this model on a down-stream task to be able to use it for predictions and inference.\n",
      "Some weights of XLMRobertaModel were not initialized from the model checkpoint at ../../finetuned_berts/XLMroberta_custom_pretrained_kannada and are newly initialized: ['roberta.pooler.dense.weight', 'roberta.pooler.dense.bias']\n",
      "You should probably TRAIN this model on a down-stream task to be able to use it for predictions and inference.\n"
     ]
    }
   ],
   "source": [
    "from transformers import AutoTokenizer, AutoModel, BertTokenizer, XLMRobertaTokenizer\n",
    "\n",
    "model_names = [\n",
    "    'XLMroberta_base_kannada',\n",
    "    'XLMroberta_custom_pretrained_kannada',\n",
    "    'Mbert_base_cased_kannada',\n",
    "]\n",
    "tokenizers = [\n",
    "    XLMRobertaTokenizer.from_pretrained('xlm-roberta-base'),\n",
    "    XLMRobertaTokenizer.from_pretrained('xlm-roberta-base'),\n",
    "    BertTokenizer.from_pretrained('bert-base-multilingual-cased'),\n",
    "]\n",
    "\n",
    "for name in model_names:\n",
    "    model = AutoModel.from_pretrained(os.path.join('../../finetuned_berts/', name))\n",
    "    model.eval()\n",
    "    models.append(model)"
   ]
  },
  {
   "cell_type": "code",
   "execution_count": 222,
   "metadata": {},
   "outputs": [
    {
     "data": {
      "text/plain": [
       "2304"
      ]
     },
     "execution_count": 222,
     "metadata": {},
     "output_type": "execute_result"
    }
   ],
   "source": [
    "lin_dim = np.sum([1024 if 'large' in name else 768 for name in model_names])\n",
    "lin_dim"
   ]
  },
  {
   "cell_type": "code",
   "execution_count": 223,
   "metadata": {},
   "outputs": [],
   "source": [
    "n_models = len(models)"
   ]
  },
  {
   "cell_type": "code",
   "execution_count": 224,
   "metadata": {},
   "outputs": [],
   "source": [
    "for model in models:\n",
    "    for param in model.parameters():\n",
    "        param.requires_grad = False"
   ]
  },
  {
   "cell_type": "markdown",
   "metadata": {},
   "source": [
    "### Dataset Stuff"
   ]
  },
  {
   "cell_type": "code",
   "execution_count": 226,
   "metadata": {},
   "outputs": [],
   "source": [
    "label_mapping = {\n",
    "    'Not_offensive': 0, \n",
    "    'not-Kannada': 1, \n",
    "    'Offensive_Targeted_Insult_Other': 2, \n",
    "    'Offensive_Targeted_Insult_Group': 3, \n",
    "    'Offensive_Untargetede': 4, \n",
    "    'Offensive_Targeted_Insult_Individual': 5\n",
    "}\n",
    "\n",
    "# Collecting Text and Labels\n",
    "train_batch_sentences = list(kannada_train['text'])\n",
    "train_batch_labels =  [label_mapping[x] for x in kannada_train['label']]\n",
    "dev_batch_sentences = list(kannada_dev['text'])\n",
    "dev_batch_labels =  [label_mapping[x] for x in kannada_dev['label']]\n",
    "test_batch_sentences = list(kannada_test['text'])\n",
    "\n",
    "# Convert to Tensor\n",
    "train_encodings = [tokenizer(train_batch_sentences, padding='max_length', truncation=True, max_length=64, return_tensors=\"pt\") for tokenizer in tokenizers]\n",
    "train_labels = torch.tensor(train_batch_labels)\n",
    "dev_encodings = [tokenizer(dev_batch_sentences, padding='max_length', truncation=True, max_length=64, return_tensors=\"pt\") for tokenizer in tokenizers]\n",
    "dev_labels = torch.tensor(dev_batch_labels)\n",
    "test_encodings = [tokenizer(test_batch_sentences, padding='max_length', truncation=True, max_length=64, return_tensors=\"pt\") for tokenizer in tokenizers]"
   ]
  },
  {
   "cell_type": "code",
   "execution_count": 227,
   "metadata": {},
   "outputs": [],
   "source": [
    "# Dataset\n",
    "from torch.utils.data import Dataset\n",
    "\n",
    "class kannada_Offensive_Dataset(Dataset):\n",
    "    def __init__(self, encodings, labels = None):\n",
    "        self.encodings = encodings\n",
    "        self.labels = labels\n",
    "        self.n_models = len(encodings)\n",
    "\n",
    "    def __getitem__(self, idx):\n",
    "        item = {}\n",
    "        for i in range(self.n_models):\n",
    "            item.update({key+'_'+str(i): torch.tensor(val[idx]) for key, val in self.encodings[i].items()})\n",
    "        item['index'] = idx\n",
    "        if self.labels != None:\n",
    "            item['labels'] = torch.tensor(self.labels[idx])\n",
    "        else:\n",
    "            item['labels'] = torch.tensor(1)\n",
    "        return item\n",
    "\n",
    "    def __len__(self):\n",
    "        return len(self.encodings[0]['input_ids'])\n",
    "\n",
    "# Defining Datasets\n",
    "train_dataset = kannada_Offensive_Dataset(train_encodings, train_labels)\n",
    "dev_dataset = kannada_Offensive_Dataset(dev_encodings, dev_labels)\n",
    "test_dataset = kannada_Offensive_Dataset(test_encodings)"
   ]
  },
  {
   "cell_type": "markdown",
   "metadata": {},
   "source": [
    "#### FUSION MODEL"
   ]
  },
  {
   "cell_type": "code",
   "execution_count": 228,
   "metadata": {},
   "outputs": [],
   "source": [
    "import torch.nn.functional as F\n",
    "import torch.nn as nn\n",
    "\n",
    "# Basic Fully-Connected (Linear => BatchNorm => ReLU)\n",
    "class BasicFC(nn.Module):\n",
    "    def __init__(self, in_channels, out_channels, **kwargs):\n",
    "        super(BasicFC, self).__init__()\n",
    "        self.fc = nn.Linear(in_channels, out_channels, **kwargs)\n",
    "        self.bn = nn.BatchNorm1d(out_channels, eps=0.001)\n",
    "\n",
    "    def forward(self, x):\n",
    "        x = self.fc(x)\n",
    "        x = self.bn(x)\n",
    "        return F.relu(x, inplace=True)\n",
    "\n",
    "class FusionNet(torch.nn.Module):\n",
    "    def __init__(self, D_in, H1, H2, H3, D_out):\n",
    "        super(FusionNet, self).__init__()\n",
    "        self.linear1_1 = BasicFC(D_in, H1)\n",
    "        self.linear1_2 = BasicFC(H1, H2)\n",
    "        self.linear1_3 = BasicFC(H2, H3)\n",
    "        self.dp = nn.Dropout(0.1)\n",
    "        self.linear2 = torch.nn.Linear(H3, D_out, bias = False)\n",
    "\n",
    "    def forward(self, x):\n",
    "        h_relu_1 = self.linear1_1(x)\n",
    "        h_relu_2 = self.dp(self.linear1_2(h_relu_1))\n",
    "        h_relu_3 = self.dp(self.linear1_3(h_relu_2))\n",
    "        y_pred = self.linear2(h_relu_3)\n",
    "        return y_pred"
   ]
  },
  {
   "cell_type": "code",
   "execution_count": 229,
   "metadata": {},
   "outputs": [],
   "source": [
    "# Optimiser\n",
    "from transformers import AdamW"
   ]
  },
  {
   "cell_type": "code",
   "execution_count": 230,
   "metadata": {},
   "outputs": [],
   "source": [
    "## Loss Fn\n",
    "XE_loss_function = nn.CrossEntropyLoss(reduction='mean').float()"
   ]
  },
  {
   "cell_type": "code",
   "execution_count": 231,
   "metadata": {},
   "outputs": [],
   "source": [
    "class F1_Loss(nn.Module):\n",
    "    '''Calculate F1 score. Can work with gpu tensors\n",
    "    \n",
    "    The original implmentation is written by Michal Haltuf on Kaggle.\n",
    "    \n",
    "    Returns\n",
    "    -------\n",
    "    torch.Tensor\n",
    "        `ndim` == 1. epsilon <= val <= 1\n",
    "    \n",
    "    Reference\n",
    "    ---------\n",
    "    - https://www.kaggle.com/rejpalcz/best-loss-function-for-f1-score-metric\n",
    "    - https://scikit-learn.org/stable/modules/generated/sklearn.metrics.f1_score.html#sklearn.metrics.f1_score\n",
    "    - https://discuss.pytorch.org/t/calculating-precision-recall-and-f1-score-in-case-of-multi-label-classification/28265/6\n",
    "    - http://www.ryanzhang.info/python/writing-your-own-loss-function-module-for-pytorch/\n",
    "    '''\n",
    "    def __init__(self, epsilon=1e-7, n_labels = 6):\n",
    "        super().__init__()\n",
    "        self.epsilon = epsilon\n",
    "        self.n_labels = n_labels\n",
    "        \n",
    "    def forward(self, y_pred, y_true,):\n",
    "        assert y_pred.ndim == 2\n",
    "        assert y_true.ndim == 1\n",
    "        y_true = F.one_hot(y_true, self.n_labels).to(torch.float32)\n",
    "        y_pred = F.softmax(y_pred, dim=1)\n",
    "        \n",
    "        tp = (y_true * y_pred).sum(dim=0).to(torch.float32)\n",
    "        tn = ((1 - y_true) * (1 - y_pred)).sum(dim=0).to(torch.float32)\n",
    "        fp = ((1 - y_true) * y_pred).sum(dim=0).to(torch.float32)\n",
    "        fn = (y_true * (1 - y_pred)).sum(dim=0).to(torch.float32)\n",
    "\n",
    "        precision = tp / (tp + fp + self.epsilon)\n",
    "        recall = tp / (tp + fn + self.epsilon)\n",
    "\n",
    "        f1 = 2* (precision*recall) / (precision + recall + self.epsilon)\n",
    "        f1 = f1.clamp(min=self.epsilon, max=1-self.epsilon)\n",
    "        return 1 - f1.mean()\n",
    "\n",
    "F1_loss_function = F1_Loss().cuda()"
   ]
  },
  {
   "cell_type": "code",
   "execution_count": 232,
   "metadata": {},
   "outputs": [],
   "source": [
    "use_f1_loss = False\n",
    "if use_f1_loss:\n",
    "    loss_function = F1_loss_function\n",
    "else:\n",
    "    loss_function = XE_loss_function"
   ]
  },
  {
   "cell_type": "code",
   "execution_count": 233,
   "metadata": {},
   "outputs": [],
   "source": [
    "add_extra_embeds = [\n",
    "    'cnn_128',\n",
    "    #'sentbert',\n",
    "    #'laser_ta',\n",
    "    #'laser_en',\n",
    "]\n",
    "\n",
    "embeds_files = {\n",
    "    'cnn_128': ['../../sentence_embeddings/cnn_emb_train_128_kannada.npy', '../../sentence_embeddings/cnn_emb_dev_128_kannada.npy', '../../sentence_embeddings/cnn_emb_test_128_kannada.npy'],\n",
    "    'laser_kn': ['../../sentence_embeddings/LASER_embeddings_kannada_kn_train.npy', '../../sentence_embeddings/LASER_embeddings_kannada_kn_dev.npy', '../../sentence_embeddings/LASER_embeddings_kannada_kn_test.npy'],\n",
    "    'laser_en': ['../../sentence_embeddings/LASER_embeddings_kannada_en_train.npy', '../../sentence_embeddings/LASER_embeddings_kannada_en_dev.npy', '../../sentence_embeddings/LASER_embeddings_kannada_en_test.npy'],\n",
    "    'sentbert': ['../../sentence_embeddings/sentence_bert_kannada_train.npy', '../../sentence_embeddings/sentence_bert_kannada_dev.npy'],\n",
    "}\n",
    "\n",
    "train_embeddings = [np.load(embeds_files[embname][0]) for embname in add_extra_embeds]\n",
    "dev_embeddings = [np.load(embeds_files[embname][1]) for embname in add_extra_embeds]\n",
    "test_embeddings = [np.load(embeds_files[embname][2]) for embname in add_extra_embeds]"
   ]
  },
  {
   "cell_type": "code",
   "execution_count": 234,
   "metadata": {},
   "outputs": [
    {
     "data": {
      "text/plain": [
       "1"
      ]
     },
     "execution_count": 234,
     "metadata": {},
     "output_type": "execute_result"
    }
   ],
   "source": [
    "len_extra_embeds = len(add_extra_embeds)\n",
    "len_extra_embeds"
   ]
  },
  {
   "cell_type": "code",
   "execution_count": 235,
   "metadata": {},
   "outputs": [
    {
     "data": {
      "text/plain": [
       "128"
      ]
     },
     "execution_count": 235,
     "metadata": {},
     "output_type": "execute_result"
    }
   ],
   "source": [
    "dim_extra_embeds = np.sum([train_embeddings[i].shape[1] for i in range(len_extra_embeds)])\n",
    "dim_extra_embeds"
   ]
  },
  {
   "cell_type": "code",
   "execution_count": 236,
   "metadata": {},
   "outputs": [
    {
     "name": "stdout",
     "output_type": "stream",
     "text": [
      "2432\n"
     ]
    }
   ],
   "source": [
    "print(lin_dim + dim_extra_embeds)"
   ]
  },
  {
   "cell_type": "code",
   "execution_count": 238,
   "metadata": {},
   "outputs": [
    {
     "name": "stdout",
     "output_type": "stream",
     "text": [
      "3\n"
     ]
    }
   ],
   "source": [
    "print(n_models)"
   ]
  },
  {
   "cell_type": "code",
   "execution_count": 239,
   "metadata": {},
   "outputs": [
    {
     "name": "stdout",
     "output_type": "stream",
     "text": [
      "==========================================================\n",
      "Epoch 0\n",
      "Train\n"
     ]
    },
    {
     "data": {
      "application/vnd.jupyter.widget-view+json": {
       "model_id": "64873889f96c4fc78a88bd4be1f30968",
       "version_major": 2,
       "version_minor": 0
      },
      "text/plain": [
       "HBox(children=(HTML(value=''), FloatProgress(value=0.0, max=389.0), HTML(value='')))"
      ]
     },
     "metadata": {},
     "output_type": "display_data"
    },
    {
     "name": "stderr",
     "output_type": "stream",
     "text": [
      "/home/punyajoy/.conda/envs/nlp/lib/python3.7/site-packages/ipykernel_launcher.py:13: UserWarning: To copy construct from a tensor, it is recommended to use sourceTensor.clone().detach() or sourceTensor.clone().detach().requires_grad_(True), rather than torch.tensor(sourceTensor).\n",
      "  del sys.path[0]\n",
      "/home/punyajoy/.conda/envs/nlp/lib/python3.7/site-packages/ipykernel_launcher.py:16: UserWarning: To copy construct from a tensor, it is recommended to use sourceTensor.clone().detach() or sourceTensor.clone().detach().requires_grad_(True), rather than torch.tensor(sourceTensor).\n",
      "  app.launch_new_instance()\n"
     ]
    },
    {
     "name": "stdout",
     "output_type": "stream",
     "text": [
      "\n",
      "Dev\n"
     ]
    },
    {
     "data": {
      "application/vnd.jupyter.widget-view+json": {
       "model_id": "25e442d6daf048508955f58b6a866a7f",
       "version_major": 2,
       "version_minor": 0
      },
      "text/plain": [
       "HBox(children=(HTML(value=''), FloatProgress(value=0.0, max=49.0), HTML(value='')))"
      ]
     },
     "metadata": {},
     "output_type": "display_data"
    },
    {
     "name": "stdout",
     "output_type": "stream",
     "text": [
      "\n",
      "(777, 6)\n",
      "Test\n"
     ]
    },
    {
     "data": {
      "application/vnd.jupyter.widget-view+json": {
       "model_id": "75835cc99bdb4810ac84ef93b9e36052",
       "version_major": 2,
       "version_minor": 0
      },
      "text/plain": [
       "HBox(children=(HTML(value=''), FloatProgress(value=0.0, max=49.0), HTML(value='')))"
      ]
     },
     "metadata": {},
     "output_type": "display_data"
    },
    {
     "name": "stdout",
     "output_type": "stream",
     "text": [
      "\n",
      "(778, 6)\n",
      "                                      precision    recall  f1-score   support\n",
      "\n",
      "                       Not_offensive       0.81      0.78      0.80       426\n",
      "                         not-Kannada       0.75      0.81      0.78       191\n",
      "     Offensive_Targeted_Insult_Other       0.14      0.25      0.18        16\n",
      "     Offensive_Targeted_Insult_Group       0.33      0.38      0.35        45\n",
      "               Offensive_Untargetede       0.14      0.03      0.05        33\n",
      "Offensive_Targeted_Insult_Individual       0.51      0.55      0.53        66\n",
      "\n",
      "                            accuracy                           0.70       777\n",
      "                           macro avg       0.45      0.47      0.45       777\n",
      "                        weighted avg       0.70      0.70      0.70       777\n",
      "\n",
      "Epoch 0, Val Loss = 1.3049181602439104, Val F1 = 0.44797332147558144, Best Val f1 = 0.44797332147558144, stagnant_t = 0\n",
      "==========================================================\n",
      "Epoch 1\n",
      "Train\n"
     ]
    },
    {
     "data": {
      "application/vnd.jupyter.widget-view+json": {
       "model_id": "025580cfea4d45b88217413583c6192c",
       "version_major": 2,
       "version_minor": 0
      },
      "text/plain": [
       "HBox(children=(HTML(value=''), FloatProgress(value=0.0, max=389.0), HTML(value='')))"
      ]
     },
     "metadata": {},
     "output_type": "display_data"
    },
    {
     "name": "stdout",
     "output_type": "stream",
     "text": [
      "\n",
      "Dev\n"
     ]
    },
    {
     "data": {
      "application/vnd.jupyter.widget-view+json": {
       "model_id": "9e3bf70bbf9043b1bf8cab2b77a93937",
       "version_major": 2,
       "version_minor": 0
      },
      "text/plain": [
       "HBox(children=(HTML(value=''), FloatProgress(value=0.0, max=49.0), HTML(value='')))"
      ]
     },
     "metadata": {},
     "output_type": "display_data"
    },
    {
     "name": "stdout",
     "output_type": "stream",
     "text": [
      "\n",
      "(777, 6)\n",
      "Test\n"
     ]
    },
    {
     "data": {
      "application/vnd.jupyter.widget-view+json": {
       "model_id": "39f712b363a8428cacd42c5f0063591a",
       "version_major": 2,
       "version_minor": 0
      },
      "text/plain": [
       "HBox(children=(HTML(value=''), FloatProgress(value=0.0, max=49.0), HTML(value='')))"
      ]
     },
     "metadata": {},
     "output_type": "display_data"
    },
    {
     "name": "stdout",
     "output_type": "stream",
     "text": [
      "\n",
      "(778, 6)\n",
      "                                      precision    recall  f1-score   support\n",
      "\n",
      "                       Not_offensive       0.81      0.79      0.80       426\n",
      "                         not-Kannada       0.73      0.85      0.78       191\n",
      "     Offensive_Targeted_Insult_Other       0.19      0.19      0.19        16\n",
      "     Offensive_Targeted_Insult_Group       0.37      0.40      0.38        45\n",
      "               Offensive_Untargetede       0.14      0.03      0.05        33\n",
      "Offensive_Targeted_Insult_Individual       0.55      0.55      0.55        66\n",
      "\n",
      "                            accuracy                           0.72       777\n",
      "                           macro avg       0.46      0.47      0.46       777\n",
      "                        weighted avg       0.70      0.72      0.71       777\n",
      "\n",
      "Epoch 1, Val Loss = 1.2169011746134077, Val F1 = 0.4592580905457966, Best Val f1 = 0.4592580905457966, stagnant_t = 0\n",
      "==========================================================\n",
      "Epoch 2\n",
      "Train\n"
     ]
    },
    {
     "data": {
      "application/vnd.jupyter.widget-view+json": {
       "model_id": "c3166f6673d74bb49b6beadbe5c5318c",
       "version_major": 2,
       "version_minor": 0
      },
      "text/plain": [
       "HBox(children=(HTML(value=''), FloatProgress(value=0.0, max=389.0), HTML(value='')))"
      ]
     },
     "metadata": {},
     "output_type": "display_data"
    },
    {
     "name": "stdout",
     "output_type": "stream",
     "text": [
      "\n",
      "Dev\n"
     ]
    },
    {
     "data": {
      "application/vnd.jupyter.widget-view+json": {
       "model_id": "d5cb7668f7bb473dbe17c84ea11e4bc3",
       "version_major": 2,
       "version_minor": 0
      },
      "text/plain": [
       "HBox(children=(HTML(value=''), FloatProgress(value=0.0, max=49.0), HTML(value='')))"
      ]
     },
     "metadata": {},
     "output_type": "display_data"
    },
    {
     "name": "stdout",
     "output_type": "stream",
     "text": [
      "\n",
      "(777, 6)\n",
      "Test\n"
     ]
    },
    {
     "data": {
      "application/vnd.jupyter.widget-view+json": {
       "model_id": "32a76740a4e4436394a4bc5bd49f2ece",
       "version_major": 2,
       "version_minor": 0
      },
      "text/plain": [
       "HBox(children=(HTML(value=''), FloatProgress(value=0.0, max=49.0), HTML(value='')))"
      ]
     },
     "metadata": {},
     "output_type": "display_data"
    },
    {
     "name": "stdout",
     "output_type": "stream",
     "text": [
      "\n",
      "(778, 6)\n",
      "                                      precision    recall  f1-score   support\n",
      "\n",
      "                       Not_offensive       0.80      0.79      0.80       426\n",
      "                         not-Kannada       0.73      0.84      0.78       191\n",
      "     Offensive_Targeted_Insult_Other       0.19      0.19      0.19        16\n",
      "     Offensive_Targeted_Insult_Group       0.35      0.42      0.38        45\n",
      "               Offensive_Untargetede       0.14      0.06      0.09        33\n",
      "Offensive_Targeted_Insult_Individual       0.63      0.52      0.57        66\n",
      "\n",
      "                            accuracy                           0.71       777\n",
      "                           macro avg       0.47      0.47      0.47       777\n",
      "                        weighted avg       0.70      0.71      0.71       777\n",
      "\n",
      "Epoch 2, Val Loss = 1.1930794740209771, Val F1 = 0.46655556289405603, Best Val f1 = 0.46655556289405603, stagnant_t = 0\n",
      "==========================================================\n",
      "Epoch 3\n",
      "Train\n"
     ]
    },
    {
     "data": {
      "application/vnd.jupyter.widget-view+json": {
       "model_id": "a4fa1c40aca04f799f298fd1bdf3b7e3",
       "version_major": 2,
       "version_minor": 0
      },
      "text/plain": [
       "HBox(children=(HTML(value=''), FloatProgress(value=0.0, max=389.0), HTML(value='')))"
      ]
     },
     "metadata": {},
     "output_type": "display_data"
    },
    {
     "name": "stdout",
     "output_type": "stream",
     "text": [
      "\n",
      "Dev\n"
     ]
    },
    {
     "data": {
      "application/vnd.jupyter.widget-view+json": {
       "model_id": "b9e86c252302433d88db7b2989c2893e",
       "version_major": 2,
       "version_minor": 0
      },
      "text/plain": [
       "HBox(children=(HTML(value=''), FloatProgress(value=0.0, max=49.0), HTML(value='')))"
      ]
     },
     "metadata": {},
     "output_type": "display_data"
    },
    {
     "name": "stdout",
     "output_type": "stream",
     "text": [
      "\n",
      "(777, 6)\n",
      "Test\n"
     ]
    },
    {
     "data": {
      "application/vnd.jupyter.widget-view+json": {
       "model_id": "c4365f18895548c999f1d143d6a4ba68",
       "version_major": 2,
       "version_minor": 0
      },
      "text/plain": [
       "HBox(children=(HTML(value=''), FloatProgress(value=0.0, max=49.0), HTML(value='')))"
      ]
     },
     "metadata": {},
     "output_type": "display_data"
    },
    {
     "name": "stdout",
     "output_type": "stream",
     "text": [
      "\n",
      "(778, 6)\n",
      "                                      precision    recall  f1-score   support\n",
      "\n",
      "                       Not_offensive       0.79      0.79      0.79       426\n",
      "                         not-Kannada       0.73      0.81      0.77       191\n",
      "     Offensive_Targeted_Insult_Other       0.27      0.19      0.22        16\n",
      "     Offensive_Targeted_Insult_Group       0.34      0.42      0.38        45\n",
      "               Offensive_Untargetede       0.18      0.06      0.09        33\n",
      "Offensive_Targeted_Insult_Individual       0.59      0.55      0.57        66\n",
      "\n",
      "                            accuracy                           0.71       777\n",
      "                           macro avg       0.48      0.47      0.47       777\n",
      "                        weighted avg       0.70      0.71      0.70       777\n",
      "\n",
      "Epoch 3, Val Loss = 1.1494820543697903, Val F1 = 0.46959912544024235, Best Val f1 = 0.46959912544024235, stagnant_t = 0\n",
      "==========================================================\n",
      "Epoch 4\n",
      "Train\n"
     ]
    },
    {
     "data": {
      "application/vnd.jupyter.widget-view+json": {
       "model_id": "22e6bdcaac7b473e8da72b85983a5a80",
       "version_major": 2,
       "version_minor": 0
      },
      "text/plain": [
       "HBox(children=(HTML(value=''), FloatProgress(value=0.0, max=389.0), HTML(value='')))"
      ]
     },
     "metadata": {},
     "output_type": "display_data"
    },
    {
     "name": "stdout",
     "output_type": "stream",
     "text": [
      "\n",
      "Dev\n"
     ]
    },
    {
     "data": {
      "application/vnd.jupyter.widget-view+json": {
       "model_id": "69dd73e68cb0411c9e3d48dc1fddeac6",
       "version_major": 2,
       "version_minor": 0
      },
      "text/plain": [
       "HBox(children=(HTML(value=''), FloatProgress(value=0.0, max=49.0), HTML(value='')))"
      ]
     },
     "metadata": {},
     "output_type": "display_data"
    },
    {
     "name": "stdout",
     "output_type": "stream",
     "text": [
      "\n",
      "(777, 6)\n",
      "Test\n"
     ]
    },
    {
     "data": {
      "application/vnd.jupyter.widget-view+json": {
       "model_id": "f13245397b7341e9abd77a5b9e6ec8d0",
       "version_major": 2,
       "version_minor": 0
      },
      "text/plain": [
       "HBox(children=(HTML(value=''), FloatProgress(value=0.0, max=49.0), HTML(value='')))"
      ]
     },
     "metadata": {},
     "output_type": "display_data"
    },
    {
     "name": "stdout",
     "output_type": "stream",
     "text": [
      "\n",
      "(778, 6)\n",
      "                                      precision    recall  f1-score   support\n",
      "\n",
      "                       Not_offensive       0.79      0.81      0.80       426\n",
      "                         not-Kannada       0.74      0.81      0.77       191\n",
      "     Offensive_Targeted_Insult_Other       0.20      0.12      0.15        16\n",
      "     Offensive_Targeted_Insult_Group       0.34      0.44      0.39        45\n",
      "               Offensive_Untargetede       0.25      0.09      0.13        33\n",
      "Offensive_Targeted_Insult_Individual       0.66      0.53      0.59        66\n",
      "\n",
      "                            accuracy                           0.72       777\n",
      "                           macro avg       0.50      0.47      0.47       777\n",
      "                        weighted avg       0.71      0.72      0.71       777\n",
      "\n",
      "Epoch 4, Val Loss = 1.1378773085925045, Val F1 = 0.4724176743559525, Best Val f1 = 0.4724176743559525, stagnant_t = 0\n",
      "==========================================================\n",
      "Epoch 5\n",
      "Train\n"
     ]
    },
    {
     "data": {
      "application/vnd.jupyter.widget-view+json": {
       "model_id": "fd64c0c3ad5b442f9c91f9cf44db3af7",
       "version_major": 2,
       "version_minor": 0
      },
      "text/plain": [
       "HBox(children=(HTML(value=''), FloatProgress(value=0.0, max=389.0), HTML(value='')))"
      ]
     },
     "metadata": {},
     "output_type": "display_data"
    },
    {
     "name": "stdout",
     "output_type": "stream",
     "text": [
      "\n",
      "Dev\n"
     ]
    },
    {
     "data": {
      "application/vnd.jupyter.widget-view+json": {
       "model_id": "d544c666efcc4843a265a771febb0070",
       "version_major": 2,
       "version_minor": 0
      },
      "text/plain": [
       "HBox(children=(HTML(value=''), FloatProgress(value=0.0, max=49.0), HTML(value='')))"
      ]
     },
     "metadata": {},
     "output_type": "display_data"
    },
    {
     "name": "stdout",
     "output_type": "stream",
     "text": [
      "\n",
      "(777, 6)\n",
      "Test\n"
     ]
    },
    {
     "data": {
      "application/vnd.jupyter.widget-view+json": {
       "model_id": "48222220dbe64d6c8eb6a98d13394607",
       "version_major": 2,
       "version_minor": 0
      },
      "text/plain": [
       "HBox(children=(HTML(value=''), FloatProgress(value=0.0, max=49.0), HTML(value='')))"
      ]
     },
     "metadata": {},
     "output_type": "display_data"
    },
    {
     "name": "stdout",
     "output_type": "stream",
     "text": [
      "\n",
      "(778, 6)\n",
      "                                      precision    recall  f1-score   support\n",
      "\n",
      "                       Not_offensive       0.80      0.79      0.79       426\n",
      "                         not-Kannada       0.73      0.86      0.79       191\n",
      "     Offensive_Targeted_Insult_Other       0.33      0.19      0.24        16\n",
      "     Offensive_Targeted_Insult_Group       0.35      0.36      0.35        45\n",
      "               Offensive_Untargetede       0.40      0.12      0.19        33\n",
      "Offensive_Targeted_Insult_Individual       0.56      0.56      0.56        66\n",
      "\n",
      "                            accuracy                           0.72       777\n",
      "                           macro avg       0.53      0.48      0.49       777\n",
      "                        weighted avg       0.71      0.72      0.71       777\n",
      "\n",
      "Epoch 5, Val Loss = 1.1054207670445342, Val F1 = 0.4865329847370578, Best Val f1 = 0.4865329847370578, stagnant_t = 0\n",
      "==========================================================\n",
      "Epoch 6\n",
      "Train\n"
     ]
    },
    {
     "data": {
      "application/vnd.jupyter.widget-view+json": {
       "model_id": "8cdb68da570b456695eb720289602c78",
       "version_major": 2,
       "version_minor": 0
      },
      "text/plain": [
       "HBox(children=(HTML(value=''), FloatProgress(value=0.0, max=389.0), HTML(value='')))"
      ]
     },
     "metadata": {},
     "output_type": "display_data"
    },
    {
     "name": "stdout",
     "output_type": "stream",
     "text": [
      "\n",
      "Dev\n"
     ]
    },
    {
     "data": {
      "application/vnd.jupyter.widget-view+json": {
       "model_id": "e4b44d80e67a4c4792be576c5ee4cfe6",
       "version_major": 2,
       "version_minor": 0
      },
      "text/plain": [
       "HBox(children=(HTML(value=''), FloatProgress(value=0.0, max=49.0), HTML(value='')))"
      ]
     },
     "metadata": {},
     "output_type": "display_data"
    },
    {
     "name": "stdout",
     "output_type": "stream",
     "text": [
      "\n",
      "                                      precision    recall  f1-score   support\n",
      "\n",
      "                       Not_offensive       0.79      0.81      0.80       426\n",
      "                         not-Kannada       0.74      0.82      0.77       191\n",
      "     Offensive_Targeted_Insult_Other       0.20      0.06      0.10        16\n",
      "     Offensive_Targeted_Insult_Group       0.36      0.40      0.38        45\n",
      "               Offensive_Untargetede       0.22      0.12      0.16        33\n",
      "Offensive_Targeted_Insult_Individual       0.64      0.55      0.59        66\n",
      "\n",
      "                            accuracy                           0.72       777\n",
      "                           macro avg       0.49      0.46      0.47       777\n",
      "                        weighted avg       0.70      0.72      0.71       777\n",
      "\n",
      "Epoch 6, Val Loss = 1.109079958224783, Val F1 = 0.4652048929106308, Best Val f1 = 0.4865329847370578, stagnant_t = 1\n",
      "==========================================================\n",
      "Epoch 7\n",
      "Train\n"
     ]
    },
    {
     "data": {
      "application/vnd.jupyter.widget-view+json": {
       "model_id": "2aa1c4b6fd6b40e580015191fe68127e",
       "version_major": 2,
       "version_minor": 0
      },
      "text/plain": [
       "HBox(children=(HTML(value=''), FloatProgress(value=0.0, max=389.0), HTML(value='')))"
      ]
     },
     "metadata": {},
     "output_type": "display_data"
    },
    {
     "name": "stdout",
     "output_type": "stream",
     "text": [
      "\n",
      "Dev\n"
     ]
    },
    {
     "data": {
      "application/vnd.jupyter.widget-view+json": {
       "model_id": "32763dd63f1548768abd652737a39c4e",
       "version_major": 2,
       "version_minor": 0
      },
      "text/plain": [
       "HBox(children=(HTML(value=''), FloatProgress(value=0.0, max=49.0), HTML(value='')))"
      ]
     },
     "metadata": {},
     "output_type": "display_data"
    },
    {
     "name": "stdout",
     "output_type": "stream",
     "text": [
      "\n",
      "                                      precision    recall  f1-score   support\n",
      "\n",
      "                       Not_offensive       0.78      0.83      0.80       426\n",
      "                         not-Kannada       0.75      0.80      0.77       191\n",
      "     Offensive_Targeted_Insult_Other       0.20      0.06      0.10        16\n",
      "     Offensive_Targeted_Insult_Group       0.37      0.38      0.37        45\n",
      "               Offensive_Untargetede       0.25      0.12      0.16        33\n",
      "Offensive_Targeted_Insult_Individual       0.65      0.55      0.60        66\n",
      "\n",
      "                            accuracy                           0.72       777\n",
      "                           macro avg       0.50      0.45      0.47       777\n",
      "                        weighted avg       0.70      0.72      0.71       777\n",
      "\n",
      "Epoch 7, Val Loss = 1.0800530606386611, Val F1 = 0.4667611708040493, Best Val f1 = 0.4865329847370578, stagnant_t = 2\n",
      "==========================================================\n",
      "Epoch 8\n",
      "Train\n"
     ]
    },
    {
     "data": {
      "application/vnd.jupyter.widget-view+json": {
       "model_id": "9ef2a549eaf74621a1bdb3e48ceee688",
       "version_major": 2,
       "version_minor": 0
      },
      "text/plain": [
       "HBox(children=(HTML(value=''), FloatProgress(value=0.0, max=389.0), HTML(value='')))"
      ]
     },
     "metadata": {},
     "output_type": "display_data"
    },
    {
     "name": "stdout",
     "output_type": "stream",
     "text": [
      "\n",
      "Dev\n"
     ]
    },
    {
     "data": {
      "application/vnd.jupyter.widget-view+json": {
       "model_id": "d7328df9ea1147a0830f24eb0e154118",
       "version_major": 2,
       "version_minor": 0
      },
      "text/plain": [
       "HBox(children=(HTML(value=''), FloatProgress(value=0.0, max=49.0), HTML(value='')))"
      ]
     },
     "metadata": {},
     "output_type": "display_data"
    },
    {
     "name": "stdout",
     "output_type": "stream",
     "text": [
      "\n",
      "                                      precision    recall  f1-score   support\n",
      "\n",
      "                       Not_offensive       0.78      0.82      0.80       426\n",
      "                         not-Kannada       0.75      0.81      0.78       191\n",
      "     Offensive_Targeted_Insult_Other       0.17      0.06      0.09        16\n",
      "     Offensive_Targeted_Insult_Group       0.38      0.36      0.37        45\n",
      "               Offensive_Untargetede       0.29      0.15      0.20        33\n",
      "Offensive_Targeted_Insult_Individual       0.64      0.56      0.60        66\n",
      "\n",
      "                            accuracy                           0.72       777\n",
      "                           macro avg       0.50      0.46      0.47       777\n",
      "                        weighted avg       0.70      0.72      0.71       777\n",
      "\n",
      "Epoch 8, Val Loss = 1.0706197230183345, Val F1 = 0.4716575030830532, Best Val f1 = 0.4865329847370578, stagnant_t = 3\n",
      "==========================================================\n",
      "Epoch 9\n",
      "Train\n"
     ]
    },
    {
     "data": {
      "application/vnd.jupyter.widget-view+json": {
       "model_id": "614a0050b0d5444e86ceebe615ffb335",
       "version_major": 2,
       "version_minor": 0
      },
      "text/plain": [
       "HBox(children=(HTML(value=''), FloatProgress(value=0.0, max=389.0), HTML(value='')))"
      ]
     },
     "metadata": {},
     "output_type": "display_data"
    },
    {
     "name": "stdout",
     "output_type": "stream",
     "text": [
      "\n",
      "Dev\n"
     ]
    },
    {
     "data": {
      "application/vnd.jupyter.widget-view+json": {
       "model_id": "8a0813ac2af74338b0b5ae5b934b21bf",
       "version_major": 2,
       "version_minor": 0
      },
      "text/plain": [
       "HBox(children=(HTML(value=''), FloatProgress(value=0.0, max=49.0), HTML(value='')))"
      ]
     },
     "metadata": {},
     "output_type": "display_data"
    },
    {
     "name": "stdout",
     "output_type": "stream",
     "text": [
      "\n",
      "                                      precision    recall  f1-score   support\n",
      "\n",
      "                       Not_offensive       0.80      0.77      0.79       426\n",
      "                         not-Kannada       0.72      0.85      0.78       191\n",
      "     Offensive_Targeted_Insult_Other       0.10      0.06      0.08        16\n",
      "     Offensive_Targeted_Insult_Group       0.38      0.44      0.41        45\n",
      "               Offensive_Untargetede       0.19      0.12      0.15        33\n",
      "Offensive_Targeted_Insult_Individual       0.65      0.56      0.60        66\n",
      "\n",
      "                            accuracy                           0.71       777\n",
      "                           macro avg       0.47      0.47      0.47       777\n",
      "                        weighted avg       0.71      0.71      0.71       777\n",
      "\n",
      "Epoch 9, Val Loss = 1.1102136069414568, Val F1 = 0.46822890360625974, Best Val f1 = 0.4865329847370578, stagnant_t = 4\n",
      "==========================================================\n",
      "Epoch 10\n",
      "Train\n"
     ]
    },
    {
     "data": {
      "application/vnd.jupyter.widget-view+json": {
       "model_id": "568c025900264ca5bc0856ab1178719b",
       "version_major": 2,
       "version_minor": 0
      },
      "text/plain": [
       "HBox(children=(HTML(value=''), FloatProgress(value=0.0, max=389.0), HTML(value='')))"
      ]
     },
     "metadata": {},
     "output_type": "display_data"
    },
    {
     "name": "stdout",
     "output_type": "stream",
     "text": [
      "\n",
      "Dev\n"
     ]
    },
    {
     "data": {
      "application/vnd.jupyter.widget-view+json": {
       "model_id": "2eb2bced854f463185b49c610b59c412",
       "version_major": 2,
       "version_minor": 0
      },
      "text/plain": [
       "HBox(children=(HTML(value=''), FloatProgress(value=0.0, max=49.0), HTML(value='')))"
      ]
     },
     "metadata": {},
     "output_type": "display_data"
    },
    {
     "name": "stdout",
     "output_type": "stream",
     "text": [
      "\n",
      "                                      precision    recall  f1-score   support\n",
      "\n",
      "                       Not_offensive       0.81      0.77      0.79       426\n",
      "                         not-Kannada       0.73      0.83      0.78       191\n",
      "     Offensive_Targeted_Insult_Other       0.12      0.12      0.12        16\n",
      "     Offensive_Targeted_Insult_Group       0.35      0.40      0.38        45\n",
      "               Offensive_Untargetede       0.24      0.18      0.21        33\n",
      "Offensive_Targeted_Insult_Individual       0.61      0.56      0.58        66\n",
      "\n",
      "                            accuracy                           0.71       777\n",
      "                           macro avg       0.48      0.48      0.48       777\n",
      "                        weighted avg       0.71      0.71      0.71       777\n",
      "\n",
      "Epoch 10, Val Loss = 1.126094503062112, Val F1 = 0.4759235613349075, Best Val f1 = 0.4865329847370578, stagnant_t = 5\n",
      "No increase for 5 epochs, Stopping ...\n"
     ]
    }
   ],
   "source": [
    "from torch.utils.data import DataLoader\n",
    "from tqdm.notebook import tqdm\n",
    "from sklearn.metrics import classification_report, f1_score\n",
    "\n",
    "fusion_classifier = FusionNet(int(lin_dim + dim_extra_embeds), 1024, 256, 64, 6)\n",
    "# Optimiser\n",
    "optimizer = AdamW(fusion_classifier.parameters(), lr=1e-6)\n",
    "mo,ex_em = \"\",\"\"\n",
    "for mod in model_names:\n",
    "    mo += mod\n",
    "for em in add_extra_embeds:\n",
    "    ex_em += em\n",
    "model_name = 'fusion_kannada_'+mo+'_'+ex_em\n",
    "\n",
    "device = torch.device('cuda') if torch.cuda.is_available() else torch.device('cpu')\n",
    "fusion_classifier.to(device)\n",
    "for model in models:\n",
    "    model.to(device)\n",
    "best_val_f1 = 0\n",
    "count = 0\n",
    "\n",
    "# Dataloaders\n",
    "train_loader = DataLoader(train_dataset, batch_size=16, shuffle=True)\n",
    "dev_loader = DataLoader(dev_dataset, batch_size=16, shuffle=False)\n",
    "test_loader = DataLoader(test_dataset, batch_size=16, shuffle=False)\n",
    "PATH = \"\"\n",
    "for epoch in range(100):\n",
    "    fusion_classifier.train()\n",
    "    print(\"==========================================================\")\n",
    "    print(\"Epoch {}\".format(epoch))\n",
    "    print(\"Train\")\n",
    "    for batch in tqdm(train_loader):\n",
    "        optimizer.zero_grad()\n",
    "        outputs_all = []\n",
    "        for i in range(n_models):\n",
    "            model = models[i]\n",
    "            input_ids = batch['input_ids'+'_'+str(i)].to(device)\n",
    "            attention_mask = batch['attention_mask'+'_'+str(i)].to(device)\n",
    "            labels = batch['labels'].to(device)\n",
    "            outputs = model(input_ids, attention_mask=attention_mask)\n",
    "            outputs_all.append(outputs[1])\n",
    "        \n",
    "        for i in range(len_extra_embeds):\n",
    "            outputs_all.append(torch.Tensor(train_embeddings[i][batch['index'], :]).to(device))\n",
    "            \n",
    "        bert_output = torch.cat(outputs_all, dim = -1) \n",
    "        out = fusion_classifier(bert_output)\n",
    "        loss = loss_function(out, labels)\n",
    "        loss.backward()\n",
    "        optimizer.step()\n",
    "    \n",
    "    print(\"Dev\")\n",
    "    dev_preds,dev_probs = [],[]\n",
    "    fusion_classifier.eval()\n",
    "    total_val_loss = 0\n",
    "    with torch.set_grad_enabled(False):\n",
    "        for batch in tqdm(dev_loader):\n",
    "            outputs_all = []\n",
    "            for i in range(n_models):\n",
    "                model = models[i]\n",
    "                input_ids = batch['input_ids'+'_'+str(i)].to(device)\n",
    "                attention_mask = batch['attention_mask'+'_'+str(i)].to(device)\n",
    "                labels = batch['labels'].to(device)\n",
    "                outputs = model(input_ids, attention_mask=attention_mask)\n",
    "                outputs_all.append(outputs[1])\n",
    "                \n",
    "            for i in range(len_extra_embeds):\n",
    "                outputs_all.append(torch.Tensor(dev_embeddings[i][batch['index'], :]).to(device))\n",
    "\n",
    "            bert_output = torch.cat(outputs_all, dim = -1) \n",
    "            out = fusion_classifier(bert_output)\n",
    "            loss = loss_function(out, labels)\n",
    "            total_val_loss += loss.item()/len(dev_loader)\n",
    "            \n",
    "            for logits in out.cpu().numpy():\n",
    "                dev_preds.append(np.argmax(logits))\n",
    "            for logits in out.cpu().numpy():\n",
    "                dev_probs.append(np.exp(logits)/np.sum(np.exp(logits)))\n",
    "    \n",
    "    y_true = dev_batch_labels\n",
    "    y_pred = dev_preds\n",
    "    target_names = label_mapping.keys()\n",
    "    report = classification_report(y_true, y_pred, target_names=target_names)\n",
    "    val_f1 = f1_score(y_true, y_pred, average='macro')\n",
    "    \n",
    "    if val_f1 > best_val_f1:\n",
    "        PATH = '../../finetuned_models/' + model_name + '.pth'\n",
    "        torch.save(fusion_classifier.state_dict(), PATH)\n",
    "        \n",
    "        #save dev preds\n",
    "        with open('dev_preds/'+str(model_name)+'.npy', 'wb') as f:\n",
    "            print(np.array(dev_probs).shape)\n",
    "            np.save(f, np.array(dev_probs))\n",
    "            \n",
    "        #find test preds\n",
    "        print(\"Test\")\n",
    "        test_preds,test_probs = [],[]\n",
    "        fusion_classifier.eval()\n",
    "        total_test_loss = 0\n",
    "        with torch.set_grad_enabled(False):\n",
    "            for batch in tqdm(test_loader):\n",
    "                outputs_all = []\n",
    "                for i in range(n_models):\n",
    "                    model = models[i]\n",
    "                    input_ids = batch['input_ids'+'_'+str(i)].to(device)\n",
    "                    attention_mask = batch['attention_mask'+'_'+str(i)].to(device)\n",
    "                    labels = batch['labels'].to(device)\n",
    "                    outputs = model(input_ids, attention_mask=attention_mask)\n",
    "                    outputs_all.append(outputs[1])\n",
    "\n",
    "                for i in range(len_extra_embeds):\n",
    "                    outputs_all.append(torch.Tensor(test_embeddings[i][batch['index'], :]).to(device))\n",
    "\n",
    "                bert_output = torch.cat(outputs_all, dim = -1) \n",
    "                out = fusion_classifier(bert_output)\n",
    "                loss = loss_function(out, labels)\n",
    "                total_test_loss += loss.item()/len(test_loader)\n",
    "\n",
    "                for logits in out.cpu().numpy():\n",
    "                    test_preds.append(np.argmax(logits))\n",
    "                for logits in out.cpu().numpy():\n",
    "                    test_probs.append(np.exp(logits)/np.sum(np.exp(logits)))\n",
    "\n",
    "        y_pred = test_preds\n",
    "        target_names = label_mapping.keys()\n",
    "        with open('test_preds/'+str(model_name)+'.npy', 'wb') as f:\n",
    "            print(np.array(test_probs).shape)\n",
    "            np.save(f, np.array(test_probs))\n",
    "            \n",
    "        best_val_f1 = val_f1\n",
    "        count = 0\n",
    "    else:\n",
    "        count += 1\n",
    "    \n",
    "    print(report)\n",
    "    print(\"Epoch {}, Val Loss = {}, Val F1 = {}, Best Val f1 = {}, stagnant_t = {}\".format(epoch, total_val_loss, val_f1, best_val_f1, count))\n",
    "    if count == 5:\n",
    "        print(\"No increase for 5 epochs, Stopping ...\")\n",
    "        break"
   ]
  },
  {
   "cell_type": "code",
   "execution_count": 240,
   "metadata": {},
   "outputs": [
    {
     "name": "stdout",
     "output_type": "stream",
     "text": [
      "fusion_kannada_XLMroberta_base_kannadaXLMroberta_custom_pretrained_kannadaMbert_base_cased_kannada_cnn_128\n"
     ]
    }
   ],
   "source": [
    "print(model_name)"
   ]
  },
  {
   "cell_type": "code",
   "execution_count": 241,
   "metadata": {},
   "outputs": [
    {
     "name": "stdout",
     "output_type": "stream",
     "text": [
      "(778, 6)\n"
     ]
    }
   ],
   "source": [
    "file = open(\"test_preds/fusion_kannada_XLMroberta_base_kannadaIndic_bert_kannada_.npy\",'rb')\n",
    "object_file = np.load(file)\n",
    "print(object_file.shape)"
   ]
  },
  {
   "cell_type": "markdown",
   "metadata": {},
   "source": [
    "#### Save config in dict for predictions and ensemble"
   ]
  },
  {
   "cell_type": "code",
   "execution_count": 188,
   "metadata": {},
   "outputs": [],
   "source": [
    "dict = {}\n",
    "dict['pth_name'] = model_name\n",
    "dict['model'] = model_names\n",
    "dict['pretrained_keys'] = ['xlm-roberta-base','xlm-roberta-base','bert-base-multilingual-cased']\n",
    "dict['extra_embeds'] = add_extra_embeds\n",
    "dict['length'] = lin_dim + dim_extra_embeds"
   ]
  },
  {
   "cell_type": "code",
   "execution_count": 190,
   "metadata": {},
   "outputs": [],
   "source": [
    "model_name_tot = 'dicts/'+model_name"
   ]
  },
  {
   "cell_type": "code",
   "execution_count": 191,
   "metadata": {},
   "outputs": [],
   "source": [
    "import pickle\n",
    "with open(str(model_name_tot)+'.pickle', 'wb') as handle:\n",
    "    pickle.dump(dict, handle)"
   ]
  },
  {
   "cell_type": "markdown",
   "metadata": {},
   "source": [
    "### Save Preds - Get predictions from individual model"
   ]
  },
  {
   "cell_type": "code",
   "execution_count": null,
   "metadata": {
    "scrolled": true
   },
   "outputs": [],
   "source": [
    "from torch.utils.data import DataLoader\n",
    "from tqdm.notebook import tqdm\n",
    "from sklearn.metrics import classification_report, f1_score\n",
    "\n",
    "device = torch.device('cuda') if torch.cuda.is_available() else torch.device('cpu')\n",
    "model.to(device)\n",
    "\n",
    "# Dataloaders\n",
    "dev_loader = DataLoader(dev_dataset, batch_size=16, shuffle=False)\n",
    "fusion_classifier.load_state_dict(torch.load('../../finetuned_models/' + model_name + '.pth'))\n",
    "fusion_classifier.eval()\n",
    "\n",
    "dev_preds = []\n",
    "with torch.set_grad_enabled(False):\n",
    "    for batch in tqdm(dev_loader):\n",
    "        outputs_all = []\n",
    "        for i in range(n_models):\n",
    "            model = models[i]\n",
    "            input_ids = batch['input_ids'+'_'+str(i)].to(device)\n",
    "            attention_mask = batch['attention_mask'+'_'+str(i)].to(device)\n",
    "            labels = batch['labels'].to(device)\n",
    "            outputs = model(input_ids, attention_mask=attention_mask)\n",
    "            outputs_all.append(outputs[1])\n",
    "            \n",
    "        for i in range(len_extra_embeds):\n",
    "            outputs_all.append(torch.Tensor(dev_embeddings[i][batch['index'], :]).to(device))\n",
    "\n",
    "        bert_output = torch.cat(outputs_all, dim = -1) \n",
    "        out = fusion_classifier(bert_output)\n",
    "            \n",
    "        for logits in out.cpu().numpy():\n",
    "            dev_preds.append(np.argmax(logits))"
   ]
  },
  {
   "cell_type": "code",
   "execution_count": null,
   "metadata": {},
   "outputs": [],
   "source": [
    "y_true = dev_batch_labels\n",
    "y_pred = dev_preds\n",
    "target_names = label_mapping.keys()\n",
    "report = classification_report(y_true, y_pred, target_names=target_names)"
   ]
  },
  {
   "cell_type": "code",
   "execution_count": null,
   "metadata": {},
   "outputs": [],
   "source": [
    "print(report)"
   ]
  },
  {
   "cell_type": "code",
   "execution_count": null,
   "metadata": {},
   "outputs": [],
   "source": [
    "np.savetxt(\"../../dev_preds/\" + model_name[:-4] + \".csv\", dev_preds, delimiter=\",\")"
   ]
  },
  {
   "cell_type": "code",
   "execution_count": null,
   "metadata": {},
   "outputs": [],
   "source": []
  }
 ],
 "metadata": {
  "kernelspec": {
   "display_name": "Python [conda env:.conda-nlp]",
   "language": "python",
   "name": "conda-env-.conda-nlp-py"
  },
  "language_info": {
   "codemirror_mode": {
    "name": "ipython",
    "version": 3
   },
   "file_extension": ".py",
   "mimetype": "text/x-python",
   "name": "python",
   "nbconvert_exporter": "python",
   "pygments_lexer": "ipython3",
   "version": "3.7.9"
  }
 },
 "nbformat": 4,
 "nbformat_minor": 4
}
